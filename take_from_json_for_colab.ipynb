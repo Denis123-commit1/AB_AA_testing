{
  "nbformat": 4,
  "nbformat_minor": 0,
  "metadata": {
    "colab": {
      "name": "take_from_json_for_colab.ipynb",
      "provenance": [],
      "collapsed_sections": [],
      "authorship_tag": "ABX9TyMH6ZNZjRfstBx0D62+jo6G",
      "include_colab_link": true
    },
    "kernelspec": {
      "name": "python3",
      "display_name": "Python 3"
    },
    "language_info": {
      "name": "python"
    }
  },
  "cells": [
    {
      "cell_type": "markdown",
      "metadata": {
        "id": "view-in-github",
        "colab_type": "text"
      },
      "source": [
        "<a href=\"https://colab.research.google.com/github/Denis123-commit1/AB_AA_testing/blob/master/take_from_json_for_colab.ipynb\" target=\"_parent\"><img src=\"https://colab.research.google.com/assets/colab-badge.svg\" alt=\"Open In Colab\"/></a>"
      ]
    },
    {
      "cell_type": "markdown",
      "metadata": {
        "id": "hkwT_WvmTPLd"
      },
      "source": [
        ""
      ]
    },
    {
      "cell_type": "code",
      "metadata": {
        "colab": {
          "base_uri": "https://localhost:8080/"
        },
        "id": "LznfkxWbTP-K",
        "outputId": "0cba2b7d-ba03-4e20-c7c5-8ca402478f37"
      },
      "source": [
        "from google.colab import drive\n",
        "drive.mount('/content/drive')"
      ],
      "execution_count": 1,
      "outputs": [
        {
          "output_type": "stream",
          "name": "stdout",
          "text": [
            "Drive already mounted at /content/drive; to attempt to forcibly remount, call drive.mount(\"/content/drive\", force_remount=True).\n"
          ]
        }
      ]
    },
    {
      "cell_type": "code",
      "metadata": {
        "colab": {
          "base_uri": "https://localhost:8080/"
        },
        "id": "hAftoPrRTcR6",
        "outputId": "3aff6bc9-acd9-4674-df52-40dcf7fd917b"
      },
      "source": [
        "!ls \"/content/drive/My Drive\""
      ],
      "execution_count": 2,
      "outputs": [
        {
          "output_type": "stream",
          "name": "stdout",
          "text": [
            "'72-IEF_001181 (1).gdoc'      HwNotePad.apk\n",
            "'72-IEF_001181 (1).pdf'       investpy\n",
            "'Colab Notebooks'\t      lab11\n",
            " COURSERA\t\t      OneNote\n",
            " coursera_downloader_script   pairs_trading\n",
            " foo.txt\t\t      rec_systems_for_maga\n",
            " funnels_charts\t\t     'Файл учета времени Козлов.gsheet'\n"
          ]
        }
      ]
    },
    {
      "cell_type": "code",
      "metadata": {
        "colab": {
          "base_uri": "https://localhost:8080/"
        },
        "id": "7peAQ9rTZ_s5",
        "outputId": "ecaa379d-f055-4dff-952c-2405fb5ca015"
      },
      "source": [
        "!pip install investpy"
      ],
      "execution_count": 3,
      "outputs": [
        {
          "output_type": "stream",
          "name": "stdout",
          "text": [
            "Requirement already satisfied: investpy in /usr/local/lib/python3.7/dist-packages (1.0.7)\n",
            "Requirement already satisfied: lxml>=4.4.1 in /usr/local/lib/python3.7/dist-packages (from investpy) (4.6.4)\n",
            "Requirement already satisfied: requests>=2.22.0 in /usr/local/lib/python3.7/dist-packages (from investpy) (2.23.0)\n",
            "Requirement already satisfied: numpy>=1.17.2 in /usr/local/lib/python3.7/dist-packages (from investpy) (1.19.5)\n",
            "Requirement already satisfied: setuptools>=41.2.0 in /usr/local/lib/python3.7/dist-packages (from investpy) (57.4.0)\n",
            "Requirement already satisfied: pytz>=2019.3 in /usr/local/lib/python3.7/dist-packages (from investpy) (2021.3)\n",
            "Requirement already satisfied: pandas>=0.25.1 in /usr/local/lib/python3.7/dist-packages (from investpy) (1.1.5)\n",
            "Requirement already satisfied: Unidecode>=1.1.1 in /usr/local/lib/python3.7/dist-packages (from investpy) (1.3.2)\n",
            "Requirement already satisfied: python-dateutil>=2.7.3 in /usr/local/lib/python3.7/dist-packages (from pandas>=0.25.1->investpy) (2.8.2)\n",
            "Requirement already satisfied: six>=1.5 in /usr/local/lib/python3.7/dist-packages (from python-dateutil>=2.7.3->pandas>=0.25.1->investpy) (1.15.0)\n",
            "Requirement already satisfied: chardet<4,>=3.0.2 in /usr/local/lib/python3.7/dist-packages (from requests>=2.22.0->investpy) (3.0.4)\n",
            "Requirement already satisfied: idna<3,>=2.5 in /usr/local/lib/python3.7/dist-packages (from requests>=2.22.0->investpy) (2.10)\n",
            "Requirement already satisfied: urllib3!=1.25.0,!=1.25.1,<1.26,>=1.21.1 in /usr/local/lib/python3.7/dist-packages (from requests>=2.22.0->investpy) (1.24.3)\n",
            "Requirement already satisfied: certifi>=2017.4.17 in /usr/local/lib/python3.7/dist-packages (from requests>=2.22.0->investpy) (2021.10.8)\n"
          ]
        }
      ]
    },
    {
      "cell_type": "code",
      "metadata": {
        "id": "DOkRf24SR4xx"
      },
      "source": [
        "companies = ['sber', 'yndx', 'gazp', 'mtss', 'lkoh', 'dsky']\n",
        "not_stock_prices_companies = ['five', 'mail', 'tcsg', 'pogr', 'agro', 'banep', 'qiwi', 'sngsp', 'sberp','tatnp']\n",
        "\n",
        "params = ['Всего выпущено обыкновенных акций',\n",
        "       'Количество акций доступных к купле-продаже', 'Количество сотрудников',\n",
        "       'Количество акционеров', 'Цена/Прибыль', 'Цена/Продажи',\n",
        "       'Цена/Движение денежных средств', 'Цена/балансовая стоимость',\n",
        "       'Стоимость компании', 'Стоимость компании/EBITDA',\n",
        "       'Прибыль на общ. сумму активов, %', 'Доход на капитал, %',\n",
        "       'Доход на инвестированный капитал, %', 'Валовая рентабельность %',\n",
        "       'Операционная рентабельность %', 'Рентабельность по EBITDA %',\n",
        "       'Чистая рентабельность %', 'Быстрая ликвидность',\n",
        "       'Коэффициент текущей ликвидности', 'Оборачиваемость запасов',\n",
        "       'Оборачиваемость активов', 'Задолженность/Активы',\n",
        "       'Задолженность/Капитал', 'Долгосрочная задолж./совокупные активы', 'Mean_stock_price_with_inflation']\n",
        "import pandas as pd\n",
        "delta_frame = pd.DataFrame(columns = params)\n",
        "def get_from_json_fund_params(name_company):\n",
        "    import pandas as pd\n",
        "    import os\n",
        "    directory = r'/content/drive/My Drive/pairs_trading'\n",
        "    files = os.listdir(directory)\n",
        "    y_html_files = list(filter(lambda x: x.endswith('y.html'), files))\n",
        "    #print(y_html_files)\n",
        "    file_path = fr'/content/drive/My Drive/pairs_trading/{name_company.upper()}_y.html'\n",
        "    # change indexes\n",
        "    if file_path[38:] not in y_html_files:\n",
        "        return 'Change indexes'\n",
        "    pd.set_option('display.max_columns', None)\n",
        "    pd.set_option('display.max_colwidth', None)\n",
        "    pd.set_option('display.max_rows', None)\n",
        "    from bs4 import BeautifulSoup\n",
        "    with open(file_path, 'r', encoding='utf8') as f:\n",
        "        soup = BeautifulSoup(f, 'lxml')\n",
        "        items_date_1 = soup.find_all(\"div\", class_=\"wrap-25PNPwRV\")\n",
        "        items_titles_1 = soup.find_all(\"span\", class_=\"title-jKD0Exn- apply-overflow-tooltip\")\n",
        "    items_date_1_1 = []\n",
        "    for item in items_date_1:\n",
        "        items = item.get_text()\n",
        "        items_date_1_1.append(items)\n",
        "    #print(items_date_1_1)\n",
        "    items_titles_1_1 = []\n",
        "    for item in items_titles_1:\n",
        "        items = item.get_text()\n",
        "        items_titles_1_1.append(items)\n",
        "    #print(len(items_titles_1_1))\n",
        "    item_date = [[] for i in range(len(items_titles_1) + 1)]\n",
        "    ind, num_list = 1, 0\n",
        "    for i in items_date_1_1:\n",
        "        item_date[num_list].append(i)\n",
        "        ind += 1\n",
        "        if ind % 9 == 0:\n",
        "            num_list += 1\n",
        "            ind = 1\n",
        "    #print(item_date)\n",
        "    data = pd.DataFrame(item_date[1:], columns=item_date[0], index=items_titles_1_1)\n",
        "    #print(data)\n",
        "    q_html_files = list(filter(lambda x: x.endswith('q.html'), files))\n",
        "    file_path = fr'{name_company.upper()}_q.html'\n",
        "    if file_path[0:] in q_html_files:\n",
        "        data.drop(['2020', 'Текущ. цена'], axis=1, inplace=True)\n",
        "    data = data.T\n",
        "    for i in data.columns:\n",
        "        for j in range(len(data[i])):\n",
        "            if data[i][j] is not None and len(data[i][j]) > 1:\n",
        "                if data[i][j][-2] == \"K\" or data[i][j][-2] == \"B\" or data[i][j][-2] == \"M\":\n",
        "                    if data[i][j][1] == '−':\n",
        "                        data[i][j] = float('-' + data[i][j][2:-2])\n",
        "                    else:\n",
        "                        data[i][j] = float(data[i][j][1:-2])\n",
        "                    #print(type(data[i][j]))\n",
        "                elif data[i][j][1] == '−':\n",
        "                    data[i][j] = float('-'+data[i][j][2:-1])\n",
        "                else:\n",
        "                    data[i][j] = float(data[i][j][1:-1])\n",
        "                #print(data[i][j])\n",
        "            elif data[i][j] == '—':\n",
        "                data[i][j] = None\n",
        "            #print(data[i][j], len(data[i][j]), data[i][j][1:-1])\n",
        "    q_html_files = list(filter(lambda x: x.endswith('q.html'), files))\n",
        "    file_path = fr'/content/drive/My Drive/pairs_trading/{name_company.upper()}_q.html'\n",
        "    if file_path[38:] not in q_html_files:\n",
        "        import investpy\n",
        "        data_stock = investpy.get_stock_historical_data(stock=name_company, country='russia', from_date='01/01/2013',\n",
        "                                                        to_date='05/11/2021')\n",
        "        data_stock_y = data_stock[:'20220101']\n",
        "        d_years = data_stock_y.resample('Y')['Close'].mean()\n",
        "        df = d_years\n",
        "        # print(df)\n",
        "        import calendar\n",
        "        voc_mean_stock_price = {}\n",
        "        for ind, i in enumerate(df.index):\n",
        "            if str(i.year) in data.index and ind != len(df.index) - 1:\n",
        "                # print (i)\n",
        "                voc_mean_stock_price[str(i.year)] = df[ind]\n",
        "            else:\n",
        "                voc_mean_stock_price[data.index[-1]] = df[\n",
        "                    pd.Timestamp(i.year, i.quarter * 3, calendar.monthrange(i.year, i.quarter * 3)[1])]\n",
        "        #print (voc_mean_stock_price)\n",
        "        #print(data)\n",
        "        ser_mean_stock_price = pd.Series(voc_mean_stock_price, name='Mean_stock_price')\n",
        "        data_full_with_stock_price = data.T.append(ser_mean_stock_price, ignore_index=False)\n",
        "        #print (data_full_with_stock_price)\n",
        "        import numpy as np\n",
        "        inflation = np.array([11.36, 12.91, 5.38, 2.52, 4.27, 3.05, 4.91, 5.32])[::-1]\n",
        "        inflation = np.cumsum(inflation)[::-1]\n",
        "        # print(data_full_with_stock_price.loc['Mean_stock_price'])\n",
        "        stock_price_with_inflation = data_full_with_stock_price.loc['Mean_stock_price'] * (1 + inflation / 100)\n",
        "        stock_price_with_inflation.name = 'Mean_stock_price_with_inflation'\n",
        "        data_full_with_stock_price_with_inflation = data_full_with_stock_price.append(stock_price_with_inflation)\n",
        "\n",
        "    else:\n",
        "        with open(file_path, 'r', encoding='utf8') as f:\n",
        "            soup = BeautifulSoup(f, 'lxml')\n",
        "            items_date_1 = soup.find_all(\"div\", class_=\"wrap-25PNPwRV\")\n",
        "            items_titles_1 = soup.find_all(\"span\", class_=\"title-jKD0Exn- apply-overflow-tooltip\")\n",
        "\n",
        "        items_date_q = []\n",
        "        for item in items_date_1:\n",
        "            items = item.get_text()\n",
        "            items_date_q.append(items)\n",
        "        # print(items_date_q)\n",
        "\n",
        "        items_titles_q = []\n",
        "        for item in items_titles_1:\n",
        "            items = item.get_text()\n",
        "            items_titles_q.append(items)\n",
        "        #print(len(items_titles_q))\n",
        "\n",
        "        item_date = [[] for i in range(24)]\n",
        "        ind, num_list = 1, 0\n",
        "        for i in items_date_q:\n",
        "            item_date[num_list].append(i)\n",
        "            ind += 1\n",
        "            if ind % 9 == 0:\n",
        "                num_list += 1\n",
        "                ind = 1\n",
        "        import pandas as pd\n",
        "        #print(len(item_date))\n",
        "        none_3_cols = [[None for i in range(len(item_date[0]))] for j in range(3)]\n",
        "        #print(none_3_cols)\n",
        "        data_q_rows = [[0 for i in range(len(item_date[0]))] for j in range(24)]\n",
        "        data_q_rows[0] = item_date[1]\n",
        "        for m in range(3):\n",
        "            data_q_rows[1+m] = none_3_cols[m]\n",
        "        for k in range(20):\n",
        "            data_q_rows[4+k] = item_date[2+k]\n",
        "            #print(item_date[21])\n",
        "        #print(len(data_q_rows))\n",
        "        data_q = pd.DataFrame(data_q_rows, columns=item_date[0], index=items_titles_1_1)\n",
        "        #print(data_q)\n",
        "        quartiles_index = data_q.columns\n",
        "        # print(quartiles_index)\n",
        "        data_q = data_q.T\n",
        "        for i in data_q.columns:\n",
        "            for j in range(len(data_q[i])):\n",
        "                if data_q[i][j] is not None and len(data_q[i][j]) > 1:\n",
        "                    if data_q[i][j][-2] == \"K\" or data_q[i][j][-2] == \"B\" or data_q[i][j][-2] == \"M\":\n",
        "                        if data_q[i][j][1] == '−':\n",
        "                            data_q[i][j] = float('-' + data_q[i][j][2:-2])\n",
        "                        else:\n",
        "                            data_q[i][j] = float(data_q[i][j][1:-2])\n",
        "                        # print(type(data_q[i][j]))\n",
        "                    elif data_q[i][j][1] == '−':\n",
        "                        data_q[i][j] = float('-' + data_q[i][j][2:-1])\n",
        "                    else:\n",
        "                        data_q[i][j] = float(data_q[i][j][1:-1])\n",
        "                    # print(data_q[i][j])\n",
        "                elif data_q[i][j] == '—':\n",
        "                    data_q[i][j] = None\n",
        "                # print(data_q[i][j], len(data_q[i][j]), data_q[i][j][1:-1])\n",
        "        data_full = pd.concat([data.T, data_q.T], axis=1)\n",
        "        if 'Q4 19' in data_full.columns:\n",
        "            data_full.drop('Q4 19', axis=1, inplace=True)\n",
        "        #print(data_full)\n",
        "        import investpy\n",
        "        data_stock = investpy.get_stock_historical_data(stock=name_company, country='russia', from_date='01/01/2013',\n",
        "                                                        to_date='05/11/2021')\n",
        "        data_stock_y = data_stock[:'20200101']\n",
        "        d_years = data_stock_y.resample('Y')['Close'].mean()\n",
        "        data_stock_q = data_stock['20200101':]\n",
        "        d_quarts = data_stock_q.resample('Q')['Close'].mean()\n",
        "        df = d_years.append(d_quarts)\n",
        "        # print(df)\n",
        "        import calendar\n",
        "        voc_mean_stock_price = {}\n",
        "        for ind, i in enumerate(df.index):\n",
        "            if str(i.year) in data.index:\n",
        "                # print (i)\n",
        "                voc_mean_stock_price[str(i.year)] = df[ind]\n",
        "            elif i.year > 2018 and ind != len(df.index) - 1 and (\n",
        "                    'Q' + str(i.quarter) + ' ' + str(i.year)[2:]) in quartiles_index:\n",
        "                # print('Q' + str(i.quarter) + ' ' + str(i.year)[2:], ('Q' + str(i.quarter) + ' ' + str(i.year)[2:]) in quartiles_index)\n",
        "                voc_mean_stock_price['Q' + str(i.quarter) + ' ' + str(i.year)[2:]] = df[\n",
        "                    pd.Timestamp(i.year, i.quarter * 3, calendar.monthrange(i.year, i.quarter * 3)[1])]\n",
        "            else:\n",
        "                voc_mean_stock_price[data_full.columns[-1]] = df[\n",
        "                    pd.Timestamp(i.year, i.quarter * 3, calendar.monthrange(i.year, i.quarter * 3)[1])]\n",
        "        # print (voc_mean_stock_price)\n",
        "\n",
        "        ser_mean_stock_price = pd.Series(voc_mean_stock_price, name='Mean_stock_price')\n",
        "        #print(ser_mean_stock_price)\n",
        "        data_full_with_stock_price = data_full.append(ser_mean_stock_price, ignore_index=False)\n",
        "        #print (data_full_with_stock_price)\n",
        "        import numpy as np\n",
        "        if len(data_full_with_stock_price.columns) == 14:\n",
        "            inflation = np.array([11.36, 12.91, 5.38, 2.52, 4.27, 3.05, 1.28, 1.32, 0.24, 1.97, 2.11, 2.01, 1.08, 2.3])[::-1]\n",
        "        else:\n",
        "            inflation = np.array([11.36, 12.91, 5.38, 2.52, 4.27, 3.05, 1.28, 1.32, 0.24, 1.97, 2.11, 2.01, 2.3])[::-1]\n",
        "        inflation = np.cumsum(inflation)[::-1]\n",
        "        # print(data_full_with_stock_price.loc['Mean_stock_price'])\n",
        "        stock_price_with_inflation = data_full_with_stock_price.loc['Mean_stock_price'] * (1 + inflation / 100)\n",
        "        stock_price_with_inflation.name = 'Mean_stock_price_with_inflation'\n",
        "        data_full_with_stock_price_with_inflation = data_full_with_stock_price.append(stock_price_with_inflation)\n",
        "    data_full_with_stock_price_with_inflation.drop('Mean_stock_price', axis = 0, inplace = True)\n",
        "\n",
        "\n",
        "    \n",
        "\n",
        "\n",
        "\n",
        "\n",
        "    return data_full_with_stock_price_with_inflation.T\n",
        "    #print(data_full_with_stock_price_with_inflation.T.index)\n",
        "    #for i in range(len(data_full_with_stock_price_with_inflation.T.index) - 1):\n",
        "        #row_delta = 100 * data_full_with_stock_price_with_inflation.T.iloc[i] / data_full_with_stock_price_with_inflation.T.iloc[i+1] - 100\n",
        "        #row_delta = data_full_with_stock_price_with_inflation.T.iloc[i+1] - data_full_with_stock_price_with_inflation.T.iloc[i]\n",
        "        #delta_frame.loc[i] = row_delta\n",
        "        #print(row_delta)\n",
        "    #print(delta_frame)\n",
        "    #delta_frame.to_csv(r'C:\\Users\\pc\\Downloads\\json_date\\container.txt', header=None, index=None, sep=',', mode='a')\n",
        "    #data_full_with_stock_price_with_inflation.T.to_csv(r'C:\\Users\\pc\\Downloads\\json_date\\container.txt', header=None, index=None, sep=',', mode='a')\n",
        "\n",
        "\n",
        "# for i in companies:\n",
        "#     if i in not_stock_prices_companies:\n",
        "#         continue\n",
        "#         print(get_from_json_fund_params(i))\n",
        "\n",
        "#pd.set_option('display.max_columns', None)\n",
        "#pd.set_option('display.max_colwidth', None)\n",
        "#pd.set_option('display.max_rows', None)\n",
        "#print(pd.read_csv(r'C:\\Users\\pc\\Downloads\\json_date\\container.txt', header = None))"
      ],
      "execution_count": 4,
      "outputs": []
    },
    {
      "cell_type": "code",
      "metadata": {
        "colab": {
          "base_uri": "https://localhost:8080/"
        },
        "id": "uOJvU2Ui9xfd",
        "outputId": "037228d7-3965-49ad-df0d-5904d058d18a"
      },
      "source": [
        "df = {}\n",
        "for i in companies:\n",
        "  print(i)\n",
        "  df[\"df_{0}\".format(i)] = pd.DataFrame(get_from_json_fund_params(i))\n",
        "  "
      ],
      "execution_count": 5,
      "outputs": [
        {
          "output_type": "stream",
          "name": "stdout",
          "text": [
            "sber\n",
            "yndx\n",
            "gazp\n",
            "mtss\n",
            "lkoh\n",
            "dsky\n"
          ]
        }
      ]
    },
    {
      "cell_type": "code",
      "metadata": {
        "colab": {
          "base_uri": "https://localhost:8080/",
          "height": 564
        },
        "id": "c79yysas_Us6",
        "outputId": "19aa3564-d76d-4584-845c-392adea32f88"
      },
      "source": [
        "df['df_gazp']"
      ],
      "execution_count": 6,
      "outputs": [
        {
          "output_type": "execute_result",
          "data": {
            "text/html": [
              "<div>\n",
              "<style scoped>\n",
              "    .dataframe tbody tr th:only-of-type {\n",
              "        vertical-align: middle;\n",
              "    }\n",
              "\n",
              "    .dataframe tbody tr th {\n",
              "        vertical-align: top;\n",
              "    }\n",
              "\n",
              "    .dataframe thead th {\n",
              "        text-align: right;\n",
              "    }\n",
              "</style>\n",
              "<table border=\"1\" class=\"dataframe\">\n",
              "  <thead>\n",
              "    <tr style=\"text-align: right;\">\n",
              "      <th></th>\n",
              "      <th>Всего выпущено обыкновенных акций</th>\n",
              "      <th>Количество акций доступных к купле-продаже</th>\n",
              "      <th>Количество сотрудников</th>\n",
              "      <th>Количество акционеров</th>\n",
              "      <th>Цена/Прибыль</th>\n",
              "      <th>Цена/Продажи</th>\n",
              "      <th>Цена/Движение денежных средств</th>\n",
              "      <th>Цена/балансовая стоимость</th>\n",
              "      <th>Стоимость компании</th>\n",
              "      <th>Стоимость компании/EBITDA</th>\n",
              "      <th>Прибыль на общ. сумму активов, %</th>\n",
              "      <th>Доход на капитал, %</th>\n",
              "      <th>Доход на инвестированный капитал, %</th>\n",
              "      <th>Валовая рентабельность %</th>\n",
              "      <th>Операционная рентабельность %</th>\n",
              "      <th>Рентабельность по EBITDA %</th>\n",
              "      <th>Чистая рентабельность %</th>\n",
              "      <th>Быстрая ликвидность</th>\n",
              "      <th>Коэффициент текущей ликвидности</th>\n",
              "      <th>Оборачиваемость запасов</th>\n",
              "      <th>Оборачиваемость активов</th>\n",
              "      <th>Задолженность/Активы</th>\n",
              "      <th>Задолженность/Капитал</th>\n",
              "      <th>Долгосрочная задолж./совокупные активы</th>\n",
              "      <th>Mean_stock_price_with_inflation</th>\n",
              "    </tr>\n",
              "  </thead>\n",
              "  <tbody>\n",
              "    <tr>\n",
              "      <th>2014</th>\n",
              "      <td>22.98</td>\n",
              "      <td>10.76</td>\n",
              "      <td>459.6</td>\n",
              "      <td>45.66</td>\n",
              "      <td>18.86</td>\n",
              "      <td>0.55</td>\n",
              "      <td>1.64</td>\n",
              "      <td>0.31</td>\n",
              "      <td>4938.41</td>\n",
              "      <td>2.47</td>\n",
              "      <td>1.11</td>\n",
              "      <td>1.66</td>\n",
              "      <td>1.39</td>\n",
              "      <td>45.44</td>\n",
              "      <td>27.88</td>\n",
              "      <td>36.5</td>\n",
              "      <td>2.9</td>\n",
              "      <td>1.5</td>\n",
              "      <td>1.86</td>\n",
              "      <td>4.81</td>\n",
              "      <td>0.38</td>\n",
              "      <td>0.18</td>\n",
              "      <td>0.27</td>\n",
              "      <td>0.15</td>\n",
              "      <td>208.036</td>\n",
              "    </tr>\n",
              "    <tr>\n",
              "      <th>2015</th>\n",
              "      <td>22.98</td>\n",
              "      <td>10.76</td>\n",
              "      <td>462.4</td>\n",
              "      <td>45.66</td>\n",
              "      <td>3.98</td>\n",
              "      <td>0.52</td>\n",
              "      <td>1.63</td>\n",
              "      <td>0.3</td>\n",
              "      <td>5523.84</td>\n",
              "      <td>2.5</td>\n",
              "      <td>4.88</td>\n",
              "      <td>7.71</td>\n",
              "      <td>6.19</td>\n",
              "      <td>43.78</td>\n",
              "      <td>28.33</td>\n",
              "      <td>36.94</td>\n",
              "      <td>13.15</td>\n",
              "      <td>1.5</td>\n",
              "      <td>1.88</td>\n",
              "      <td>4.56</td>\n",
              "      <td>0.37</td>\n",
              "      <td>0.2</td>\n",
              "      <td>0.32</td>\n",
              "      <td>0.16</td>\n",
              "      <td>199.978</td>\n",
              "    </tr>\n",
              "    <tr>\n",
              "      <th>2016</th>\n",
              "      <td>22.13</td>\n",
              "      <td>9.54</td>\n",
              "      <td>467.4</td>\n",
              "      <td>45.66</td>\n",
              "      <td>3.67</td>\n",
              "      <td>0.59</td>\n",
              "      <td>2.32</td>\n",
              "      <td>0.31</td>\n",
              "      <td>5758.08</td>\n",
              "      <td>3.11</td>\n",
              "      <td>5.6</td>\n",
              "      <td>8.78</td>\n",
              "      <td>7.09</td>\n",
              "      <td>37.16</td>\n",
              "      <td>21.43</td>\n",
              "      <td>31.01</td>\n",
              "      <td>15.95</td>\n",
              "      <td>1.31</td>\n",
              "      <td>1.68</td>\n",
              "      <td>4.95</td>\n",
              "      <td>0.35</td>\n",
              "      <td>0.17</td>\n",
              "      <td>0.25</td>\n",
              "      <td>0.14</td>\n",
              "      <td>180.561</td>\n",
              "    </tr>\n",
              "    <tr>\n",
              "      <th>2017</th>\n",
              "      <td>22.13</td>\n",
              "      <td>9.54</td>\n",
              "      <td>469.6</td>\n",
              "      <td>45.66</td>\n",
              "      <td>4.04</td>\n",
              "      <td>0.45</td>\n",
              "      <td>2.62</td>\n",
              "      <td>0.25</td>\n",
              "      <td>5633.96</td>\n",
              "      <td>2.73</td>\n",
              "      <td>4.06</td>\n",
              "      <td>6.29</td>\n",
              "      <td>5.2</td>\n",
              "      <td>40.81</td>\n",
              "      <td>22.67</td>\n",
              "      <td>32.28</td>\n",
              "      <td>11.19</td>\n",
              "      <td>1.04</td>\n",
              "      <td>1.34</td>\n",
              "      <td>5.09</td>\n",
              "      <td>0.36</td>\n",
              "      <td>0.18</td>\n",
              "      <td>0.27</td>\n",
              "      <td>0.13</td>\n",
              "      <td>156.038</td>\n",
              "    </tr>\n",
              "    <tr>\n",
              "      <th>2018</th>\n",
              "      <td>22.13</td>\n",
              "      <td>9.52</td>\n",
              "      <td>466.1</td>\n",
              "      <td>45.66</td>\n",
              "      <td>2.32</td>\n",
              "      <td>0.41</td>\n",
              "      <td>2.21</td>\n",
              "      <td>0.25</td>\n",
              "      <td>6844.99</td>\n",
              "      <td>2.29</td>\n",
              "      <td>7.43</td>\n",
              "      <td>11.68</td>\n",
              "      <td>9.51</td>\n",
              "      <td>50.27</td>\n",
              "      <td>28.39</td>\n",
              "      <td>36.27</td>\n",
              "      <td>17.71</td>\n",
              "      <td>1.34</td>\n",
              "      <td>1.7</td>\n",
              "      <td>4.86</td>\n",
              "      <td>0.42</td>\n",
              "      <td>0.18</td>\n",
              "      <td>0.28</td>\n",
              "      <td>0.16</td>\n",
              "      <td>174.762</td>\n",
              "    </tr>\n",
              "    <tr>\n",
              "      <th>2019</th>\n",
              "      <td>23.64</td>\n",
              "      <td>11.74</td>\n",
              "      <td>473.8</td>\n",
              "      <td>45.66</td>\n",
              "      <td>4.8</td>\n",
              "      <td>0.75</td>\n",
              "      <td>3.56</td>\n",
              "      <td>0.43</td>\n",
              "      <td>9661.57</td>\n",
              "      <td>4.94</td>\n",
              "      <td>5.59</td>\n",
              "      <td>8.78</td>\n",
              "      <td>7.08</td>\n",
              "      <td>38.42</td>\n",
              "      <td>16.18</td>\n",
              "      <td>25.52</td>\n",
              "      <td>15.7</td>\n",
              "      <td>1.14</td>\n",
              "      <td>1.51</td>\n",
              "      <td>5.08</td>\n",
              "      <td>0.36</td>\n",
              "      <td>0.19</td>\n",
              "      <td>0.28</td>\n",
              "      <td>0.15</td>\n",
              "      <td>238.081</td>\n",
              "    </tr>\n",
              "    <tr>\n",
              "      <th>Q1 20</th>\n",
              "      <td>23.64</td>\n",
              "      <td>None</td>\n",
              "      <td>None</td>\n",
              "      <td>None</td>\n",
              "      <td>7.38</td>\n",
              "      <td>0.6</td>\n",
              "      <td>2.83</td>\n",
              "      <td>0.3</td>\n",
              "      <td>8727.5</td>\n",
              "      <td>5.25</td>\n",
              "      <td>2.49</td>\n",
              "      <td>3.96</td>\n",
              "      <td>3.12</td>\n",
              "      <td>33.71</td>\n",
              "      <td>11.63</td>\n",
              "      <td>23.1</td>\n",
              "      <td>-6.68</td>\n",
              "      <td>1.24</td>\n",
              "      <td>1.62</td>\n",
              "      <td>5.61</td>\n",
              "      <td>0.32</td>\n",
              "      <td>0.21</td>\n",
              "      <td>0.32</td>\n",
              "      <td>0.18</td>\n",
              "      <td>241.489</td>\n",
              "    </tr>\n",
              "    <tr>\n",
              "      <th>Q2 20</th>\n",
              "      <td>23.64</td>\n",
              "      <td>None</td>\n",
              "      <td>None</td>\n",
              "      <td>None</td>\n",
              "      <td>11.23</td>\n",
              "      <td>0.71</td>\n",
              "      <td>4.11</td>\n",
              "      <td>0.33</td>\n",
              "      <td>9000.7</td>\n",
              "      <td>7.06</td>\n",
              "      <td>1.82</td>\n",
              "      <td>2.92</td>\n",
              "      <td>2.3</td>\n",
              "      <td>23.57</td>\n",
              "      <td>-4.5</td>\n",
              "      <td>12.46</td>\n",
              "      <td>12.82</td>\n",
              "      <td>1.07</td>\n",
              "      <td>1.48</td>\n",
              "      <td>4.82</td>\n",
              "      <td>0.3</td>\n",
              "      <td>0.21</td>\n",
              "      <td>0.32</td>\n",
              "      <td>0.18</td>\n",
              "      <td>211.492</td>\n",
              "    </tr>\n",
              "    <tr>\n",
              "      <th>Q3 20</th>\n",
              "      <td>23.64</td>\n",
              "      <td>None</td>\n",
              "      <td>None</td>\n",
              "      <td>None</td>\n",
              "      <td>None</td>\n",
              "      <td>0.64</td>\n",
              "      <td>3.25</td>\n",
              "      <td>0.29</td>\n",
              "      <td>9240.4</td>\n",
              "      <td>7.96</td>\n",
              "      <td>-0.29</td>\n",
              "      <td>-0.46</td>\n",
              "      <td>-0.36</td>\n",
              "      <td>29.3</td>\n",
              "      <td>3.45</td>\n",
              "      <td>17.59</td>\n",
              "      <td>-17.97</td>\n",
              "      <td>0.93</td>\n",
              "      <td>1.4</td>\n",
              "      <td>4.32</td>\n",
              "      <td>0.28</td>\n",
              "      <td>0.23</td>\n",
              "      <td>0.36</td>\n",
              "      <td>0.2</td>\n",
              "      <td>201.013</td>\n",
              "    </tr>\n",
              "    <tr>\n",
              "      <th>Q4 20</th>\n",
              "      <td>23.64</td>\n",
              "      <td>None</td>\n",
              "      <td>None</td>\n",
              "      <td>None</td>\n",
              "      <td>37.75</td>\n",
              "      <td>0.8</td>\n",
              "      <td>2.79</td>\n",
              "      <td>0.36</td>\n",
              "      <td>9847.88</td>\n",
              "      <td>7.68</td>\n",
              "      <td>0.59</td>\n",
              "      <td>0.95</td>\n",
              "      <td>0.74</td>\n",
              "      <td>34.58</td>\n",
              "      <td>14.16</td>\n",
              "      <td>24.25</td>\n",
              "      <td>17.43</td>\n",
              "      <td>1.07</td>\n",
              "      <td>1.44</td>\n",
              "      <td>4.54</td>\n",
              "      <td>0.28</td>\n",
              "      <td>0.22</td>\n",
              "      <td>0.36</td>\n",
              "      <td>0.2</td>\n",
              "      <td>196.097</td>\n",
              "    </tr>\n",
              "    <tr>\n",
              "      <th>Q1 21</th>\n",
              "      <td>23.64</td>\n",
              "      <td>None</td>\n",
              "      <td>None</td>\n",
              "      <td>None</td>\n",
              "      <td>7.73</td>\n",
              "      <td>0.78</td>\n",
              "      <td>2.9</td>\n",
              "      <td>0.37</td>\n",
              "      <td>10065</td>\n",
              "      <td>6.23</td>\n",
              "      <td>2.95</td>\n",
              "      <td>4.83</td>\n",
              "      <td>3.7</td>\n",
              "      <td>42.78</td>\n",
              "      <td>23.02</td>\n",
              "      <td>32.11</td>\n",
              "      <td>19.48</td>\n",
              "      <td>1.32</td>\n",
              "      <td>1.62</td>\n",
              "      <td>5.48</td>\n",
              "      <td>0.29</td>\n",
              "      <td>0.22</td>\n",
              "      <td>0.36</td>\n",
              "      <td>0.2</td>\n",
              "      <td>238.427</td>\n",
              "    </tr>\n",
              "    <tr>\n",
              "      <th>Q2 21</th>\n",
              "      <td>23.64</td>\n",
              "      <td>None</td>\n",
              "      <td>None</td>\n",
              "      <td>None</td>\n",
              "      <td>6.26</td>\n",
              "      <td>0.86</td>\n",
              "      <td>2.98</td>\n",
              "      <td>0.45</td>\n",
              "      <td>11053.7</td>\n",
              "      <td>5</td>\n",
              "      <td>4.51</td>\n",
              "      <td>7.45</td>\n",
              "      <td>5.72</td>\n",
              "      <td>46.79</td>\n",
              "      <td>25.82</td>\n",
              "      <td>35.79</td>\n",
              "      <td>25.13</td>\n",
              "      <td>1.19</td>\n",
              "      <td>1.49</td>\n",
              "      <td>5.09</td>\n",
              "      <td>0.33</td>\n",
              "      <td>0.21</td>\n",
              "      <td>0.34</td>\n",
              "      <td>0.19</td>\n",
              "      <td>263.038</td>\n",
              "    </tr>\n",
              "    <tr>\n",
              "      <th>Текущ. цена</th>\n",
              "      <td>23.64</td>\n",
              "      <td>None</td>\n",
              "      <td>None</td>\n",
              "      <td>None</td>\n",
              "      <td>7.83</td>\n",
              "      <td>1.07</td>\n",
              "      <td>3.72</td>\n",
              "      <td>0.56</td>\n",
              "      <td>12683.6</td>\n",
              "      <td>5.74</td>\n",
              "      <td>4.51</td>\n",
              "      <td>7.45</td>\n",
              "      <td>5.72</td>\n",
              "      <td>46.79</td>\n",
              "      <td>25.82</td>\n",
              "      <td>35.79</td>\n",
              "      <td>25.13</td>\n",
              "      <td>1.19</td>\n",
              "      <td>1.49</td>\n",
              "      <td>5.09</td>\n",
              "      <td>0.33</td>\n",
              "      <td>0.21</td>\n",
              "      <td>0.34</td>\n",
              "      <td>0.19</td>\n",
              "      <td>372.902</td>\n",
              "    </tr>\n",
              "  </tbody>\n",
              "</table>\n",
              "</div>"
            ],
            "text/plain": [
              "            Всего выпущено обыкновенных акций  \\\n",
              "2014                                    22.98   \n",
              "2015                                    22.98   \n",
              "2016                                    22.13   \n",
              "2017                                    22.13   \n",
              "2018                                    22.13   \n",
              "2019                                    23.64   \n",
              "Q1 20                                   23.64   \n",
              "Q2 20                                   23.64   \n",
              "Q3 20                                   23.64   \n",
              "Q4 20                                   23.64   \n",
              "Q1 21                                   23.64   \n",
              "Q2 21                                   23.64   \n",
              "Текущ. цена                             23.64   \n",
              "\n",
              "            Количество акций доступных к купле-продаже Количество сотрудников  \\\n",
              "2014                                             10.76                  459.6   \n",
              "2015                                             10.76                  462.4   \n",
              "2016                                              9.54                  467.4   \n",
              "2017                                              9.54                  469.6   \n",
              "2018                                              9.52                  466.1   \n",
              "2019                                             11.74                  473.8   \n",
              "Q1 20                                             None                   None   \n",
              "Q2 20                                             None                   None   \n",
              "Q3 20                                             None                   None   \n",
              "Q4 20                                             None                   None   \n",
              "Q1 21                                             None                   None   \n",
              "Q2 21                                             None                   None   \n",
              "Текущ. цена                                       None                   None   \n",
              "\n",
              "            Количество акционеров Цена/Прибыль Цена/Продажи  \\\n",
              "2014                        45.66        18.86         0.55   \n",
              "2015                        45.66         3.98         0.52   \n",
              "2016                        45.66         3.67         0.59   \n",
              "2017                        45.66         4.04         0.45   \n",
              "2018                        45.66         2.32         0.41   \n",
              "2019                        45.66          4.8         0.75   \n",
              "Q1 20                        None         7.38          0.6   \n",
              "Q2 20                        None        11.23         0.71   \n",
              "Q3 20                        None         None         0.64   \n",
              "Q4 20                        None        37.75          0.8   \n",
              "Q1 21                        None         7.73         0.78   \n",
              "Q2 21                        None         6.26         0.86   \n",
              "Текущ. цена                  None         7.83         1.07   \n",
              "\n",
              "            Цена/Движение денежных средств Цена/балансовая стоимость  \\\n",
              "2014                                  1.64                      0.31   \n",
              "2015                                  1.63                       0.3   \n",
              "2016                                  2.32                      0.31   \n",
              "2017                                  2.62                      0.25   \n",
              "2018                                  2.21                      0.25   \n",
              "2019                                  3.56                      0.43   \n",
              "Q1 20                                 2.83                       0.3   \n",
              "Q2 20                                 4.11                      0.33   \n",
              "Q3 20                                 3.25                      0.29   \n",
              "Q4 20                                 2.79                      0.36   \n",
              "Q1 21                                  2.9                      0.37   \n",
              "Q2 21                                 2.98                      0.45   \n",
              "Текущ. цена                           3.72                      0.56   \n",
              "\n",
              "            Стоимость компании Стоимость компании/EBITDA  \\\n",
              "2014                   4938.41                      2.47   \n",
              "2015                   5523.84                       2.5   \n",
              "2016                   5758.08                      3.11   \n",
              "2017                   5633.96                      2.73   \n",
              "2018                   6844.99                      2.29   \n",
              "2019                   9661.57                      4.94   \n",
              "Q1 20                   8727.5                      5.25   \n",
              "Q2 20                   9000.7                      7.06   \n",
              "Q3 20                   9240.4                      7.96   \n",
              "Q4 20                  9847.88                      7.68   \n",
              "Q1 21                    10065                      6.23   \n",
              "Q2 21                  11053.7                         5   \n",
              "Текущ. цена            12683.6                      5.74   \n",
              "\n",
              "            Прибыль на общ. сумму активов, % Доход на капитал, %  \\\n",
              "2014                                    1.11                1.66   \n",
              "2015                                    4.88                7.71   \n",
              "2016                                     5.6                8.78   \n",
              "2017                                    4.06                6.29   \n",
              "2018                                    7.43               11.68   \n",
              "2019                                    5.59                8.78   \n",
              "Q1 20                                   2.49                3.96   \n",
              "Q2 20                                   1.82                2.92   \n",
              "Q3 20                                  -0.29               -0.46   \n",
              "Q4 20                                   0.59                0.95   \n",
              "Q1 21                                   2.95                4.83   \n",
              "Q2 21                                   4.51                7.45   \n",
              "Текущ. цена                             4.51                7.45   \n",
              "\n",
              "            Доход на инвестированный капитал, % Валовая рентабельность %  \\\n",
              "2014                                       1.39                    45.44   \n",
              "2015                                       6.19                    43.78   \n",
              "2016                                       7.09                    37.16   \n",
              "2017                                        5.2                    40.81   \n",
              "2018                                       9.51                    50.27   \n",
              "2019                                       7.08                    38.42   \n",
              "Q1 20                                      3.12                    33.71   \n",
              "Q2 20                                       2.3                    23.57   \n",
              "Q3 20                                     -0.36                     29.3   \n",
              "Q4 20                                      0.74                    34.58   \n",
              "Q1 21                                       3.7                    42.78   \n",
              "Q2 21                                      5.72                    46.79   \n",
              "Текущ. цена                                5.72                    46.79   \n",
              "\n",
              "            Операционная рентабельность % Рентабельность по EBITDA %  \\\n",
              "2014                                27.88                       36.5   \n",
              "2015                                28.33                      36.94   \n",
              "2016                                21.43                      31.01   \n",
              "2017                                22.67                      32.28   \n",
              "2018                                28.39                      36.27   \n",
              "2019                                16.18                      25.52   \n",
              "Q1 20                               11.63                       23.1   \n",
              "Q2 20                                -4.5                      12.46   \n",
              "Q3 20                                3.45                      17.59   \n",
              "Q4 20                               14.16                      24.25   \n",
              "Q1 21                               23.02                      32.11   \n",
              "Q2 21                               25.82                      35.79   \n",
              "Текущ. цена                         25.82                      35.79   \n",
              "\n",
              "            Чистая рентабельность % Быстрая ликвидность  \\\n",
              "2014                            2.9                 1.5   \n",
              "2015                          13.15                 1.5   \n",
              "2016                          15.95                1.31   \n",
              "2017                          11.19                1.04   \n",
              "2018                          17.71                1.34   \n",
              "2019                           15.7                1.14   \n",
              "Q1 20                         -6.68                1.24   \n",
              "Q2 20                         12.82                1.07   \n",
              "Q3 20                        -17.97                0.93   \n",
              "Q4 20                         17.43                1.07   \n",
              "Q1 21                         19.48                1.32   \n",
              "Q2 21                         25.13                1.19   \n",
              "Текущ. цена                   25.13                1.19   \n",
              "\n",
              "            Коэффициент текущей ликвидности Оборачиваемость запасов  \\\n",
              "2014                                   1.86                    4.81   \n",
              "2015                                   1.88                    4.56   \n",
              "2016                                   1.68                    4.95   \n",
              "2017                                   1.34                    5.09   \n",
              "2018                                    1.7                    4.86   \n",
              "2019                                   1.51                    5.08   \n",
              "Q1 20                                  1.62                    5.61   \n",
              "Q2 20                                  1.48                    4.82   \n",
              "Q3 20                                   1.4                    4.32   \n",
              "Q4 20                                  1.44                    4.54   \n",
              "Q1 21                                  1.62                    5.48   \n",
              "Q2 21                                  1.49                    5.09   \n",
              "Текущ. цена                            1.49                    5.09   \n",
              "\n",
              "            Оборачиваемость активов Задолженность/Активы  \\\n",
              "2014                           0.38                 0.18   \n",
              "2015                           0.37                  0.2   \n",
              "2016                           0.35                 0.17   \n",
              "2017                           0.36                 0.18   \n",
              "2018                           0.42                 0.18   \n",
              "2019                           0.36                 0.19   \n",
              "Q1 20                          0.32                 0.21   \n",
              "Q2 20                           0.3                 0.21   \n",
              "Q3 20                          0.28                 0.23   \n",
              "Q4 20                          0.28                 0.22   \n",
              "Q1 21                          0.29                 0.22   \n",
              "Q2 21                          0.33                 0.21   \n",
              "Текущ. цена                    0.33                 0.21   \n",
              "\n",
              "            Задолженность/Капитал Долгосрочная задолж./совокупные активы  \\\n",
              "2014                         0.27                                   0.15   \n",
              "2015                         0.32                                   0.16   \n",
              "2016                         0.25                                   0.14   \n",
              "2017                         0.27                                   0.13   \n",
              "2018                         0.28                                   0.16   \n",
              "2019                         0.28                                   0.15   \n",
              "Q1 20                        0.32                                   0.18   \n",
              "Q2 20                        0.32                                   0.18   \n",
              "Q3 20                        0.36                                    0.2   \n",
              "Q4 20                        0.36                                    0.2   \n",
              "Q1 21                        0.36                                    0.2   \n",
              "Q2 21                        0.34                                   0.19   \n",
              "Текущ. цена                  0.34                                   0.19   \n",
              "\n",
              "            Mean_stock_price_with_inflation  \n",
              "2014                                208.036  \n",
              "2015                                199.978  \n",
              "2016                                180.561  \n",
              "2017                                156.038  \n",
              "2018                                174.762  \n",
              "2019                                238.081  \n",
              "Q1 20                               241.489  \n",
              "Q2 20                               211.492  \n",
              "Q3 20                               201.013  \n",
              "Q4 20                               196.097  \n",
              "Q1 21                               238.427  \n",
              "Q2 21                               263.038  \n",
              "Текущ. цена                         372.902  "
            ]
          },
          "metadata": {},
          "execution_count": 6
        }
      ]
    },
    {
      "cell_type": "code",
      "metadata": {
        "colab": {
          "base_uri": "https://localhost:8080/",
          "height": 440
        },
        "id": "nPMOnWPqRLom",
        "outputId": "1edf4951-57c7-49bb-9231-03dd3a500354"
      },
      "source": [
        "import matplotlib.pyplot as plt\n",
        "fig, axes = plt.subplots(nrows=3, ncols=2)\n",
        "fig.set_figheight(6)\n",
        "fig.set_figwidth(8)\n",
        "df['df_sber'][params[0]].plot(ax=axes[0,0], style='r', label='Series'); axes[0,0].set_title(0)\n",
        "df['df_sber'][params[1]].plot(ax=axes[0,1]); axes[0,1].set_title(1)\n",
        "df['df_sber'][params[2]].plot(ax=axes[1,0]); axes[1,0].set_title(2)\n",
        "df['df_sber'][params[4]].plot(ax=axes[1,1]); axes[1,1].set_title(3)\n",
        "fig.tight_layout()"
      ],
      "execution_count": 7,
      "outputs": [
        {
          "output_type": "display_data",
          "data": {
            "image/png": "[encoded data removed]",
            "text/plain": [
              "<Figure size 576x432 with 6 Axes>"
            ]
          },
          "metadata": {
            "needs_background": "light"
          }
        }
      ]
    },
    {
      "cell_type": "code",
      "metadata": {
        "id": "nTATFYgJ715A",
        "colab": {
          "base_uri": "https://localhost:8080/"
        },
        "outputId": "0fba3e37-5dd3-47de-fb1c-da54a1149c97"
      },
      "source": [
        "!pip install investpy\n"
      ],
      "execution_count": 8,
      "outputs": [
        {
          "output_type": "stream",
          "name": "stdout",
          "text": [
            "Requirement already satisfied: investpy in /usr/local/lib/python3.7/dist-packages (1.0.7)\n",
            "Requirement already satisfied: pytz>=2019.3 in /usr/local/lib/python3.7/dist-packages (from investpy) (2021.3)\n",
            "Requirement already satisfied: numpy>=1.17.2 in /usr/local/lib/python3.7/dist-packages (from investpy) (1.19.5)\n",
            "Requirement already satisfied: lxml>=4.4.1 in /usr/local/lib/python3.7/dist-packages (from investpy) (4.6.4)\n",
            "Requirement already satisfied: setuptools>=41.2.0 in /usr/local/lib/python3.7/dist-packages (from investpy) (57.4.0)\n",
            "Requirement already satisfied: pandas>=0.25.1 in /usr/local/lib/python3.7/dist-packages (from investpy) (1.1.5)\n",
            "Requirement already satisfied: Unidecode>=1.1.1 in /usr/local/lib/python3.7/dist-packages (from investpy) (1.3.2)\n",
            "Requirement already satisfied: requests>=2.22.0 in /usr/local/lib/python3.7/dist-packages (from investpy) (2.23.0)\n",
            "Requirement already satisfied: python-dateutil>=2.7.3 in /usr/local/lib/python3.7/dist-packages (from pandas>=0.25.1->investpy) (2.8.2)\n",
            "Requirement already satisfied: six>=1.5 in /usr/local/lib/python3.7/dist-packages (from python-dateutil>=2.7.3->pandas>=0.25.1->investpy) (1.15.0)\n",
            "Requirement already satisfied: urllib3!=1.25.0,!=1.25.1,<1.26,>=1.21.1 in /usr/local/lib/python3.7/dist-packages (from requests>=2.22.0->investpy) (1.24.3)\n",
            "Requirement already satisfied: certifi>=2017.4.17 in /usr/local/lib/python3.7/dist-packages (from requests>=2.22.0->investpy) (2021.10.8)\n",
            "Requirement already satisfied: chardet<4,>=3.0.2 in /usr/local/lib/python3.7/dist-packages (from requests>=2.22.0->investpy) (3.0.4)\n",
            "Requirement already satisfied: idna<3,>=2.5 in /usr/local/lib/python3.7/dist-packages (from requests>=2.22.0->investpy) (2.10)\n"
          ]
        }
      ]
    },
    {
      "cell_type": "code",
      "metadata": {
        "id": "GMu4GNss-o7B"
      },
      "source": [
        "from investpy.utils.extra import random_user_agent\n",
        "import investpy"
      ],
      "execution_count": 9,
      "outputs": []
    },
    {
      "cell_type": "code",
      "metadata": {
        "colab": {
          "base_uri": "https://localhost:8080/"
        },
        "id": "L4li8MQw-o96",
        "outputId": "acbee432-fe97-4898-e784-fec206662582"
      },
      "source": [
        "import numpy as np\n",
        "from math import *\n",
        "import pandas as pd\n",
        "import statsmodels\n",
        "import statsmodels.api as sm\n",
        "from statsmodels.tsa.stattools import coint, adfuller\n",
        "\n",
        "import matplotlib.pyplot as plt\n",
        "import seaborn as sns; sns.set(style=\"whitegrid\")\n",
        "import seaborn\n",
        "from datetime import date"
      ],
      "execution_count": 10,
      "outputs": [
        {
          "output_type": "stream",
          "name": "stderr",
          "text": [
            "/usr/local/lib/python3.7/dist-packages/statsmodels/tools/_testing.py:19: FutureWarning: pandas.util.testing is deprecated. Use the functions in the public API at pandas.testing instead.\n",
            "  import pandas.util.testing as tm\n"
          ]
        }
      ]
    },
    {
      "cell_type": "code",
      "metadata": {
        "id": "PQHs6h1J-pAZ"
      },
      "source": [
        "# Параметры которые вводит пользователь (для пользователя будет доступно 3 поля, в которые он может ввести именно эти параметры)\n",
        "start = '01/01/2020'\n",
        "end = '26/11/2021'\n",
        "tickers = ['sber', 'yndx', 'gazp', 'mtss', 'lkoh', 'dsky']"
      ],
      "execution_count": 11,
      "outputs": []
    },
    {
      "cell_type": "code",
      "metadata": {
        "id": "QJFzWnGK-pDA"
      },
      "source": [
        "# функция которая будет моделью сайта\n",
        "def extract_data(start, end, tickers):\n",
        "  \n",
        "  dfs = list()\n",
        "\n",
        "  for k, stock in enumerate(tickers):\n",
        "      df = investpy.get_stock_historical_data(stock=stock, \n",
        "                                              country='russia',\n",
        "                                              from_date=start,\n",
        "                                              to_date=end)['Close']\n",
        "\n",
        "      df = pd.DataFrame(df)\n",
        "      df1 = df.rename(columns = {'Close': f'{tickers[k]}_Close'}, inplace = False)\n",
        "\n",
        "      dfs.append(df1)\n",
        "\n",
        "  max_lenths_of_list_dfs = max(dfs, key=len)\n",
        "  data = pd.DataFrame(max_lenths_of_list_dfs.index)\n",
        "\n",
        "\n",
        "  columns = [tickers]\n",
        "  dfs2 = pd.DataFrame(list(map(np.ravel, dfs)))\n",
        "  dfs2 = np.transpose(dfs2)\n",
        "  dfs2.columns = tickers\n",
        "  dfs2 = pd.concat([dfs2, data], axis = 1)\n",
        "  dfs2.set_index('Date')\n",
        "  dfs3 = dfs2.set_index('Date')\n",
        "  dfs4 = dfs3.dropna()\n",
        "  return dfs4\n",
        "\n",
        "\n",
        "dfs4 = extract_data(start, end, tickers)"
      ],
      "execution_count": 12,
      "outputs": []
    },
    {
      "cell_type": "code",
      "metadata": {
        "id": "DnmvOWeEHLb3"
      },
      "source": [
        "ticker = \"gazp\""
      ],
      "execution_count": 13,
      "outputs": []
    },
    {
      "cell_type": "code",
      "metadata": {
        "colab": {
          "base_uri": "https://localhost:8080/"
        },
        "id": "L4zeUx4EFbTb",
        "outputId": "dcf2a254-26eb-4c8b-c47f-ecefef6c2f54"
      },
      "source": [
        "\n",
        "date = date.today()\n",
        "date"
      ],
      "execution_count": 23,
      "outputs": [
        {
          "output_type": "execute_result",
          "data": {
            "text/plain": [
              "datetime.date(2021, 12, 5)"
            ]
          },
          "metadata": {},
          "execution_count": 23
        }
      ]
    },
    {
      "cell_type": "code",
      "metadata": {
        "colab": {
          "base_uri": "https://localhost:8080/"
        },
        "id": "UHa0jo2X8END",
        "outputId": "6594b2b8-db51-45ea-e88c-8bfec70872ed"
      },
      "source": [
        "curent_price = dfs4['gazp'][len(dfs4)-1]\n",
        "curent_price"
      ],
      "execution_count": 109,
      "outputs": [
        {
          "output_type": "execute_result",
          "data": {
            "text/plain": [
              "326.0"
            ]
          },
          "metadata": {},
          "execution_count": 109
        }
      ]
    },
    {
      "cell_type": "code",
      "metadata": {
        "colab": {
          "base_uri": "https://localhost:8080/"
        },
        "id": "Rrrn5nfXEPqz",
        "outputId": "bc6f9f2a-954e-420b-8066-2e7f23b73cdf"
      },
      "source": [
        "pe_ratio = df['df_gazp']['Цена/Прибыль'][len(df)+6] # странно почему длина так получилась в табличке\n",
        "pe_ratio"
      ],
      "execution_count": 34,
      "outputs": [
        {
          "output_type": "execute_result",
          "data": {
            "text/plain": [
              "7.83"
            ]
          },
          "metadata": {},
          "execution_count": 34
        }
      ]
    },
    {
      "cell_type": "code",
      "metadata": {
        "colab": {
          "base_uri": "https://localhost:8080/"
        },
        "id": "L__KjzgQKB3z",
        "outputId": "f052b248-e1c4-40fc-e3c7-a74ae892efa2"
      },
      "source": [
        "eps_ratio = dfs4['gazp'][len(dfs4)-1] / df['df_gazp']['Цена/Прибыль'][len(df)+6]\n",
        "eps_ratio"
      ],
      "execution_count": 108,
      "outputs": [
        {
          "output_type": "execute_result",
          "data": {
            "text/plain": [
              "41.63473818646232"
            ]
          },
          "metadata": {},
          "execution_count": 108
        }
      ]
    },
    {
      "cell_type": "code",
      "metadata": {
        "id": "ub8whG20KfHL"
      },
      "source": [
        "discount_rate = 0.09 # доходность альтернативного вложения в стран"
      ],
      "execution_count": 38,
      "outputs": []
    },
    {
      "cell_type": "code",
      "metadata": {
        "colab": {
          "base_uri": "https://localhost:8080/"
        },
        "id": "gzPyE0VcK0kz",
        "outputId": "088f0fc6-22d8-4edd-e480-1ea9ccf1a922"
      },
      "source": [
        "Estimated_Profit_Growth_Rate = (df['df_gazp']['Чистая рентабельность %'][len(df)+6] - df['df_gazp']['Чистая рентабельность %'][len(df)+5] + df['df_gazp']['Чистая рентабельность %'][len(df)+5] - df['df_gazp']['Чистая рентабельность %'][len(df)+4])/2\n",
        "Estimated_Profit_Growth_Rate"
      ],
      "execution_count": 41,
      "outputs": [
        {
          "output_type": "execute_result",
          "data": {
            "text/plain": [
              "2.8249999999999993"
            ]
          },
          "metadata": {},
          "execution_count": 41
        }
      ]
    },
    {
      "cell_type": "code",
      "metadata": {
        "colab": {
          "base_uri": "https://localhost:8080/"
        },
        "id": "QEVtJnrONN3y",
        "outputId": "660369bc-0220-4903-a2a2-496af006927b"
      },
      "source": [
        "Estimated_Profit_Growth_Rate_list = []\n",
        "for k, i in enumerate(range(len(df)+6)):\n",
        "  Estimated_Profit_Growth_Rate = df['df_gazp']['Чистая рентабельность %'][k+1] - df['df_gazp']['Чистая рентабельность %'][k]\n",
        "  Estimated_Profit_Growth_Rate_list.append(Estimated_Profit_Growth_Rate)\n",
        "Estimated_Profit_Growth_Rate_list\n",
        "Estimated_Profit_Growth_Rate = sum(Estimated_Profit_Growth_Rate_list)/len(Estimated_Profit_Growth_Rate_list) / 100\n",
        "Estimated_Profit_Growth_Rate"
      ],
      "execution_count": 60,
      "outputs": [
        {
          "output_type": "execute_result",
          "data": {
            "text/plain": [
              "0.018525"
            ]
          },
          "metadata": {},
          "execution_count": 60
        }
      ]
    },
    {
      "cell_type": "code",
      "metadata": {
        "id": "xI2ReKEoQWBe"
      },
      "source": [
        "g_factor = 1"
      ],
      "execution_count": 58,
      "outputs": []
    },
    {
      "cell_type": "code",
      "metadata": {
        "id": "OYimrOPBQWE8"
      },
      "source": [
        "growth_duration = 3 # ставить 3-5 лет - гризонт прогнозирования"
      ],
      "execution_count": 61,
      "outputs": []
    },
    {
      "cell_type": "code",
      "metadata": {
        "id": "q127TTsKRNKE"
      },
      "source": [
        "perpetual_growth_rate = 5/100 # примерна ключая ставка Банка или уровень инфляции"
      ],
      "execution_count": 62,
      "outputs": []
    },
    {
      "cell_type": "code",
      "metadata": {
        "colab": {
          "base_uri": "https://localhost:8080/"
        },
        "id": "WOdRPttbTqKo",
        "outputId": "a8a14aed-e59c-4d2e-c479-b675550333ce"
      },
      "source": [
        "lst_range = list(range(2,11,1))\n",
        "lst_range"
      ],
      "execution_count": 76,
      "outputs": [
        {
          "output_type": "execute_result",
          "data": {
            "text/plain": [
              "[2, 3, 4, 5, 6, 7, 8, 9, 10]"
            ]
          },
          "metadata": {},
          "execution_count": 76
        }
      ]
    },
    {
      "cell_type": "code",
      "metadata": {
        "colab": {
          "base_uri": "https://localhost:8080/"
        },
        "id": "9ilMyV-sRY6W",
        "outputId": "d394f513-72c3-466d-f226-2461b58f3a93"
      },
      "source": [
        "n_1 = eps_ratio * (1 + Estimated_Profit_Growth_Rate)\n",
        "n_1"
      ],
      "execution_count": 96,
      "outputs": [
        {
          "output_type": "execute_result",
          "data": {
            "text/plain": [
              "42.406021711366535"
            ]
          },
          "metadata": {},
          "execution_count": 96
        }
      ]
    },
    {
      "cell_type": "code",
      "metadata": {
        "colab": {
          "base_uri": "https://localhost:8080/"
        },
        "id": "R76sGJu4XOYS",
        "outputId": "200975b6-c8f5-4801-bdbc-d4124ffea93f"
      },
      "source": [
        "lst_n2_n10 = []\n",
        "for k,i in enumerate(range(len(lst_range))):\n",
        "  if k == 0:\n",
        "    if lst_range[k] <= growth_duration:\n",
        "      n_2 = n_1*(1+Estimated_Profit_Growth_Rate)\n",
        "    else:\n",
        "      n_2 = n_1*(1+perpetual_growth_rate)\n",
        "    lst_n2_n10.append(n_2)\n",
        "  else:\n",
        "    if lst_range[k] <= growth_duration:\n",
        "      n_2 = lst_n2_n10[len(lst_n2_n10)-1]*(1+Estimated_Profit_Growth_Rate)\n",
        "    else:\n",
        "      n_2 = lst_n2_n10[len(lst_n2_n10)-1]*(1+perpetual_growth_rate)\n",
        "    lst_n2_n10.append(n_2)\n",
        "len(lst_n2_n10)"
      ],
      "execution_count": 97,
      "outputs": [
        {
          "output_type": "execute_result",
          "data": {
            "text/plain": [
              "9"
            ]
          },
          "metadata": {},
          "execution_count": 97
        }
      ]
    },
    {
      "cell_type": "code",
      "metadata": {
        "colab": {
          "base_uri": "https://localhost:8080/"
        },
        "id": "mKvLW4inXm0-",
        "outputId": "52cc7d02-7e1e-47a3-8e6e-84e2e59c8ade"
      },
      "source": [
        "terminal_value = lst_n2_n10[len(lst_n2_n10)-1] * (1 + perpetual_growth_rate) / (discount_rate - perpetual_growth_rate)\n",
        "terminal_value"
      ],
      "execution_count": 80,
      "outputs": [
        {
          "output_type": "execute_result",
          "data": {
            "text/plain": [
              "1624.895063613066"
            ]
          },
          "metadata": {},
          "execution_count": 80
        }
      ]
    },
    {
      "cell_type": "code",
      "metadata": {
        "id": "b6SFrLcCYAzs"
      },
      "source": [
        "def npv(cfList, r):\n",
        "    f = 0\n",
        "    i = 1\n",
        "\n",
        "    pv = 0\n",
        "\n",
        "    while f <= len(cfList):\n",
        "        pv += (cfList[f] / ((1 + r) ** i))\n",
        "        f += 1\n",
        "        i += 1\n",
        "    return pv"
      ],
      "execution_count": 81,
      "outputs": []
    },
    {
      "cell_type": "code",
      "metadata": {
        "colab": {
          "base_uri": "https://localhost:8080/"
        },
        "id": "95jWhCkIZPJ-",
        "outputId": "aa28dde2-7967-47b3-bc08-ffb6c6b58203"
      },
      "source": [
        "lst_n1_n10 = [n_1] + lst_n2_n10\n",
        "len(lst_n1_n10)\n"
      ],
      "execution_count": 98,
      "outputs": [
        {
          "output_type": "execute_result",
          "data": {
            "text/plain": [
              "10"
            ]
          },
          "metadata": {},
          "execution_count": 98
        }
      ]
    },
    {
      "cell_type": "code",
      "metadata": {
        "colab": {
          "base_uri": "https://localhost:8080/"
        },
        "id": "olqgnok-YW9k",
        "outputId": "aef4cd52-e4b5-4ce0-afa4-24d40589fc58"
      },
      "source": [
        "def npv(cfList, r):\n",
        "\n",
        "    sum_pv = 0  # <-- variable used to sum result\n",
        "\n",
        "    for i, pmt in enumerate(cfList, start=1):  # <-- use of enumerate allows you to do away with the counter variables.\n",
        "        sum_pv += pmt / ((1 + r) ** i)  # <-- add pv of one of the cash flows to the sum variable\n",
        "\n",
        "    return sum_pv  # <-- only return the sum after your loop has completed.\n",
        "intrinsic_value = npv(lst_n1_n10, discount_rate) + terminal_value/((1+discount_rate)**len(lst_n1_n10))\n",
        "intrinsic_value"
      ],
      "execution_count": 103,
      "outputs": [
        {
          "output_type": "execute_result",
          "data": {
            "text/plain": [
              "1000.9318198370414"
            ]
          },
          "metadata": {},
          "execution_count": 103
        }
      ]
    },
    {
      "cell_type": "code",
      "metadata": {
        "colab": {
          "base_uri": "https://localhost:8080/"
        },
        "id": "QgIDoqCablV6",
        "outputId": "2afef42c-c10f-4f53-e5a1-813af48084fe"
      },
      "source": [
        "curent_price"
      ],
      "execution_count": 107,
      "outputs": [
        {
          "output_type": "execute_result",
          "data": {
            "text/plain": [
              "41.63473818646232"
            ]
          },
          "metadata": {},
          "execution_count": 107
        }
      ]
    },
    {
      "cell_type": "code",
      "metadata": {
        "colab": {
          "base_uri": "https://localhost:8080/"
        },
        "id": "16QaiC_abS1T",
        "outputId": "e4b2602b-519b-4238-cd63-77f679ae5564"
      },
      "source": [
        "potential_uplift = intrinsic_value/curent_price - 1\n",
        "potential_uplift"
      ],
      "execution_count": 111,
      "outputs": [
        {
          "output_type": "execute_result",
          "data": {
            "text/plain": [
              "2.070343005635096"
            ]
          },
          "metadata": {},
          "execution_count": 111
        }
      ]
    },
    {
      "cell_type": "code",
      "metadata": {
        "colab": {
          "base_uri": "https://localhost:8080/"
        },
        "id": "NnwIdE9rbxRj",
        "outputId": "eb35b402-f990-4f43-e826-a5d8f150cbf9"
      },
      "source": [
        "Estimated_Long_Term_Return = intrinsic_value/curent_price*discount_rate\n",
        "Estimated_Long_Term_Return"
      ],
      "execution_count": 113,
      "outputs": [
        {
          "output_type": "execute_result",
          "data": {
            "text/plain": [
              "0.27633087050715865"
            ]
          },
          "metadata": {},
          "execution_count": 113
        }
      ]
    },
    {
      "cell_type": "code",
      "metadata": {
        "colab": {
          "base_uri": "https://localhost:8080/",
          "height": 49
        },
        "id": "CA7MAabQdaWN",
        "outputId": "ec943e3c-884e-437d-b5e8-445aa4b153a2"
      },
      "source": [
        "columns = ['ticker', 'Date', 'EPS', 'Estimated Profit Growth Rate', 'Discount Rate', 'G-Factor', 'Intrinsic Value', 'Current Price', 'Potential Uplift', \\\n",
        "           'Estimated Long Term Return', 'P/E', 'Growth duration, Years','Perpetual Growth Rate','1','2','3','4','5','6','7','8','9','10','Terminal Value']\n",
        "dcf_watch_list = pd.DataFrame(columns = columns)\n"
      ],
      "execution_count": 120,
      "outputs": [
        {
          "output_type": "execute_result",
          "data": {
            "text/html": [
              "<div>\n",
              "<style scoped>\n",
              "    .dataframe tbody tr th:only-of-type {\n",
              "        vertical-align: middle;\n",
              "    }\n",
              "\n",
              "    .dataframe tbody tr th {\n",
              "        vertical-align: top;\n",
              "    }\n",
              "\n",
              "    .dataframe thead th {\n",
              "        text-align: right;\n",
              "    }\n",
              "</style>\n",
              "<table border=\"1\" class=\"dataframe\">\n",
              "  <thead>\n",
              "    <tr style=\"text-align: right;\">\n",
              "      <th></th>\n",
              "      <th>ticker</th>\n",
              "      <th>Date</th>\n",
              "      <th>EPS</th>\n",
              "      <th>Estimated Profit Growth Rate</th>\n",
              "      <th>Discount Rate</th>\n",
              "      <th>G-Factor</th>\n",
              "      <th>Intrinsic Value</th>\n",
              "      <th>Current Price</th>\n",
              "      <th>Potential Uplift</th>\n",
              "      <th>Estimated Long Term Return</th>\n",
              "      <th>P/E</th>\n",
              "      <th>Growth duration, Years</th>\n",
              "      <th>Perpetual Growth Rate</th>\n",
              "      <th>1</th>\n",
              "      <th>2</th>\n",
              "      <th>3</th>\n",
              "      <th>4</th>\n",
              "      <th>5</th>\n",
              "      <th>6</th>\n",
              "      <th>7</th>\n",
              "      <th>8</th>\n",
              "      <th>9</th>\n",
              "      <th>10</th>\n",
              "      <th>Terminal Value</th>\n",
              "    </tr>\n",
              "  </thead>\n",
              "  <tbody>\n",
              "  </tbody>\n",
              "</table>\n",
              "</div>"
            ],
            "text/plain": [
              "Empty DataFrame\n",
              "Columns: [ticker, Date, EPS, Estimated Profit Growth Rate, Discount Rate, G-Factor, Intrinsic Value, Current Price, Potential Uplift, Estimated Long Term Return, P/E, Growth duration, Years, Perpetual Growth Rate, 1, 2, 3, 4, 5, 6, 7, 8, 9, 10, Terminal Value]\n",
              "Index: []"
            ]
          },
          "metadata": {},
          "execution_count": 120
        }
      ]
    },
    {
      "cell_type": "code",
      "metadata": {
        "colab": {
          "base_uri": "https://localhost:8080/",
          "height": 150
        },
        "id": "0Vq7hdMwdayo",
        "outputId": "2ee7ca90-c927-4870-d504-885600942ddc"
      },
      "source": [
        "df2 = {'ticker': ticker, 'Date': date, 'EPS': eps_ratio, 'ticker': ticker, 'Date': date, 'EPS': eps_ratio, 'Estimated Profit Growth Rate':Estimated_Profit_Growth_Rate, 'Discount Rate': discount_rate, \\\n",
        "       'G-Factor':g_factor, 'Intrinsic Value':intrinsic_value, 'Current Price':curent_price, 'Potential Uplift':potential_uplift, \\\n",
        "           'Estimated Long Term Return':Estimated_Long_Term_Return, 'P/E': pe_ratio, 'Growth duration, Years': growth_duration,'Perpetual Growth Rate':perpetual_growth_rate,'1':lst_n1_n10[0],\\\n",
        "       '2': lst_n1_n10[1],'3': lst_n1_n10[2],'4': lst_n1_n10[3],'5':lst_n1_n10[4],'6':lst_n1_n10[5],'7':lst_n1_n10[6],'8':lst_n1_n10[7],'9':lst_n1_n10[8],'10':lst_n1_n10[9],'Terminal Value':terminal_value }\n",
        "\n",
        "dcf_watch_list = dcf_watch_list.append(df2, ignore_index = True)\n",
        "\n",
        "dcf_watch_list"
      ],
      "execution_count": 122,
      "outputs": [
        {
          "output_type": "execute_result",
          "data": {
            "text/html": [
              "<div>\n",
              "<style scoped>\n",
              "    .dataframe tbody tr th:only-of-type {\n",
              "        vertical-align: middle;\n",
              "    }\n",
              "\n",
              "    .dataframe tbody tr th {\n",
              "        vertical-align: top;\n",
              "    }\n",
              "\n",
              "    .dataframe thead th {\n",
              "        text-align: right;\n",
              "    }\n",
              "</style>\n",
              "<table border=\"1\" class=\"dataframe\">\n",
              "  <thead>\n",
              "    <tr style=\"text-align: right;\">\n",
              "      <th></th>\n",
              "      <th>ticker</th>\n",
              "      <th>Date</th>\n",
              "      <th>EPS</th>\n",
              "      <th>Estimated Profit Growth Rate</th>\n",
              "      <th>Discount Rate</th>\n",
              "      <th>G-Factor</th>\n",
              "      <th>Intrinsic Value</th>\n",
              "      <th>Current Price</th>\n",
              "      <th>Potential Uplift</th>\n",
              "      <th>Estimated Long Term Return</th>\n",
              "      <th>P/E</th>\n",
              "      <th>Growth duration, Years</th>\n",
              "      <th>Perpetual Growth Rate</th>\n",
              "      <th>1</th>\n",
              "      <th>2</th>\n",
              "      <th>3</th>\n",
              "      <th>4</th>\n",
              "      <th>5</th>\n",
              "      <th>6</th>\n",
              "      <th>7</th>\n",
              "      <th>8</th>\n",
              "      <th>9</th>\n",
              "      <th>10</th>\n",
              "      <th>Terminal Value</th>\n",
              "    </tr>\n",
              "  </thead>\n",
              "  <tbody>\n",
              "    <tr>\n",
              "      <th>0</th>\n",
              "      <td>gazp</td>\n",
              "      <td>2021-12-05</td>\n",
              "      <td>41.634738</td>\n",
              "      <td>0.018525</td>\n",
              "      <td>0.09</td>\n",
              "      <td>1</td>\n",
              "      <td>1000.93182</td>\n",
              "      <td>326.0</td>\n",
              "      <td>2.070343</td>\n",
              "      <td>0.276331</td>\n",
              "      <td>7.83</td>\n",
              "      <td>3</td>\n",
              "      <td>0.05</td>\n",
              "      <td>42.406022</td>\n",
              "      <td>43.191593</td>\n",
              "      <td>43.991718</td>\n",
              "      <td>46.191303</td>\n",
              "      <td>48.500869</td>\n",
              "      <td>50.925912</td>\n",
              "      <td>53.472208</td>\n",
              "      <td>56.145818</td>\n",
              "      <td>58.953109</td>\n",
              "      <td>61.900764</td>\n",
              "      <td>1624.895064</td>\n",
              "    </tr>\n",
              "  </tbody>\n",
              "</table>\n",
              "</div>"
            ],
            "text/plain": [
              "  ticker        Date        EPS  Estimated Profit Growth Rate  Discount Rate  \\\n",
              "0   gazp  2021-12-05  41.634738                      0.018525           0.09   \n",
              "\n",
              "  G-Factor  Intrinsic Value  Current Price  Potential Uplift  \\\n",
              "0        1       1000.93182          326.0          2.070343   \n",
              "\n",
              "   Estimated Long Term Return   P/E Growth duration, Years  \\\n",
              "0                    0.276331  7.83                      3   \n",
              "\n",
              "   Perpetual Growth Rate          1          2          3          4  \\\n",
              "0                   0.05  42.406022  43.191593  43.991718  46.191303   \n",
              "\n",
              "           5          6          7          8          9         10  \\\n",
              "0  48.500869  50.925912  53.472208  56.145818  58.953109  61.900764   \n",
              "\n",
              "   Terminal Value  \n",
              "0     1624.895064  "
            ]
          },
          "metadata": {},
          "execution_count": 122
        }
      ]
    },
    {
      "cell_type": "code",
      "metadata": {
        "id": "ZgBz0BBbda1c"
      },
      "source": [
        ""
      ],
      "execution_count": null,
      "outputs": []
    },
    {
      "cell_type": "code",
      "metadata": {
        "colab": {
          "base_uri": "https://localhost:8080/",
          "height": 150
        },
        "id": "t_lL-4Beda40",
        "outputId": "74087518-e31b-4d1c-c9a8-d0674bc66c06"
      },
      "source": [
        "def npv(cfList, r):\n",
        "\n",
        "    sum_pv = 0  # <-- variable used to sum result\n",
        "\n",
        "    for i, pmt in enumerate(cfList, start=1):  # <-- use of enumerate allows you to do away with the counter variables.\n",
        "        sum_pv += pmt / ((1 + r) ** i)  # <-- add pv of one of the cash flows to the sum variable\n",
        "\n",
        "    return sum_pv  # <-- only return the sum after your loop has completed.\n",
        "\n",
        "date = date.today()\n",
        "\n",
        "def dcf_watch_list(ticker):\n",
        "\n",
        "\n",
        "\n",
        "  curent_price = dfs4['gazp'][len(dfs4)-1]\n",
        "\n",
        "  pe_ratio = df['df_gazp']['Цена/Прибыль'][len(df)+6] # странно почему длина так получилась в табличке\n",
        "\n",
        "  eps_ratio = dfs4['gazp'][len(dfs4)-1] / df['df_gazp']['Цена/Прибыль'][len(df)+6]\n",
        "\n",
        "  discount_rate = 0.09 # доходность альтернативного вложения в стран\n",
        "\n",
        "  Estimated_Profit_Growth_Rate_list = []\n",
        "  for k, i in enumerate(range(len(df)+6)):\n",
        "    Estimated_Profit_Growth_Rate = df['df_gazp']['Чистая рентабельность %'][k+1] - df['df_gazp']['Чистая рентабельность %'][k]\n",
        "    Estimated_Profit_Growth_Rate_list.append(Estimated_Profit_Growth_Rate)\n",
        "  Estimated_Profit_Growth_Rate = sum(Estimated_Profit_Growth_Rate_list)/len(Estimated_Profit_Growth_Rate_list) / 100\n",
        "\n",
        "  g_factor = 1\n",
        "\n",
        "  growth_duration = 3 # ставить 3-5 лет - гризонт прогнозирования\n",
        "\n",
        "  perpetual_growth_rate = 5/100 # примерна ключая ставка Банка или уровень инфляции\n",
        "\n",
        "  n_1 = eps_ratio * (1 + Estimated_Profit_Growth_Rate)\n",
        "\n",
        "  lst_range = list(range(2,11,1))\n",
        "\n",
        "  lst_n2_n10 = []\n",
        "  \n",
        "  for k,i in enumerate(range(len(lst_range))):\n",
        "    if k == 0:\n",
        "      if lst_range[k] <= growth_duration:\n",
        "        n_2 = n_1*(1+Estimated_Profit_Growth_Rate)\n",
        "      else:\n",
        "        n_2 = n_1*(1+perpetual_growth_rate)\n",
        "      lst_n2_n10.append(n_2)\n",
        "    else:\n",
        "      if lst_range[k] <= growth_duration:\n",
        "        n_2 = lst_n2_n10[len(lst_n2_n10)-1]*(1+Estimated_Profit_Growth_Rate)\n",
        "      else:\n",
        "        n_2 = lst_n2_n10[len(lst_n2_n10)-1]*(1+perpetual_growth_rate)\n",
        "      lst_n2_n10.append(n_2)\n",
        "\n",
        "  terminal_value = lst_n2_n10[len(lst_n2_n10)-1] * (1 + perpetual_growth_rate) / (discount_rate - perpetual_growth_rate)\n",
        "\n",
        "  lst_n1_n10 = [n_1] + lst_n2_n10\n",
        "\n",
        "  intrinsic_value = npv(lst_n1_n10, discount_rate) + terminal_value/((1+discount_rate)**len(lst_n1_n10))\n",
        "\n",
        "  potential_uplift = intrinsic_value/curent_price - 1\n",
        "\n",
        "  Estimated_Long_Term_Return = intrinsic_value/curent_price*discount_rate\n",
        "\n",
        "\n",
        "  columns = ['ticker', 'Date', 'EPS', 'Estimated Profit Growth Rate', 'Discount Rate', 'G-Factor', 'Intrinsic Value', 'Current Price', 'Potential Uplift', \\\n",
        "           'Estimated Long Term Return', 'P/E', 'Growth duration, Years','Perpetual Growth Rate','1','2','3','4','5','6','7','8','9','10','Terminal Value']\n",
        "\n",
        "  dcf_watch_list = pd.DataFrame(columns = columns)\n",
        "\n",
        "  df2 = {'ticker': ticker, 'Date': date, 'EPS': eps_ratio, 'ticker': ticker, 'Date': date, 'EPS': eps_ratio, 'Estimated Profit Growth Rate':Estimated_Profit_Growth_Rate, 'Discount Rate': discount_rate, \\\n",
        "       'G-Factor':g_factor, 'Intrinsic Value':intrinsic_value, 'Current Price':curent_price, 'Potential Uplift':potential_uplift, \\\n",
        "           'Estimated Long Term Return':Estimated_Long_Term_Return, 'P/E': pe_ratio, 'Growth duration, Years': growth_duration,'Perpetual Growth Rate':perpetual_growth_rate,'1':lst_n1_n10[0],\\\n",
        "       '2': lst_n1_n10[1],'3': lst_n1_n10[2],'4': lst_n1_n10[3],'5':lst_n1_n10[4],'6':lst_n1_n10[5],'7':lst_n1_n10[6],'8':lst_n1_n10[7],'9':lst_n1_n10[8],'10':lst_n1_n10[9],'Terminal Value':terminal_value }\n",
        "\n",
        "  dcf_watch_list = dcf_watch_list.append(df2, ignore_index = True)\n",
        "\n",
        "  return dcf_watch_list\n",
        "\n",
        "\n",
        "\n",
        "\n",
        "dcf_watch_list(ticker)"
      ],
      "execution_count": 16,
      "outputs": [
        {
          "output_type": "execute_result",
          "data": {
            "text/html": [
              "<div>\n",
              "<style scoped>\n",
              "    .dataframe tbody tr th:only-of-type {\n",
              "        vertical-align: middle;\n",
              "    }\n",
              "\n",
              "    .dataframe tbody tr th {\n",
              "        vertical-align: top;\n",
              "    }\n",
              "\n",
              "    .dataframe thead th {\n",
              "        text-align: right;\n",
              "    }\n",
              "</style>\n",
              "<table border=\"1\" class=\"dataframe\">\n",
              "  <thead>\n",
              "    <tr style=\"text-align: right;\">\n",
              "      <th></th>\n",
              "      <th>ticker</th>\n",
              "      <th>Date</th>\n",
              "      <th>EPS</th>\n",
              "      <th>Estimated Profit Growth Rate</th>\n",
              "      <th>Discount Rate</th>\n",
              "      <th>G-Factor</th>\n",
              "      <th>Intrinsic Value</th>\n",
              "      <th>Current Price</th>\n",
              "      <th>Potential Uplift</th>\n",
              "      <th>Estimated Long Term Return</th>\n",
              "      <th>P/E</th>\n",
              "      <th>Growth duration, Years</th>\n",
              "      <th>Perpetual Growth Rate</th>\n",
              "      <th>1</th>\n",
              "      <th>2</th>\n",
              "      <th>3</th>\n",
              "      <th>4</th>\n",
              "      <th>5</th>\n",
              "      <th>6</th>\n",
              "      <th>7</th>\n",
              "      <th>8</th>\n",
              "      <th>9</th>\n",
              "      <th>10</th>\n",
              "      <th>Terminal Value</th>\n",
              "    </tr>\n",
              "  </thead>\n",
              "  <tbody>\n",
              "    <tr>\n",
              "      <th>0</th>\n",
              "      <td>gazp</td>\n",
              "      <td>2021-12-05</td>\n",
              "      <td>41.634738</td>\n",
              "      <td>0.018525</td>\n",
              "      <td>0.09</td>\n",
              "      <td>1</td>\n",
              "      <td>1000.93182</td>\n",
              "      <td>326.0</td>\n",
              "      <td>2.070343</td>\n",
              "      <td>0.276331</td>\n",
              "      <td>7.83</td>\n",
              "      <td>3</td>\n",
              "      <td>0.05</td>\n",
              "      <td>42.406022</td>\n",
              "      <td>43.191593</td>\n",
              "      <td>43.991718</td>\n",
              "      <td>46.191303</td>\n",
              "      <td>48.500869</td>\n",
              "      <td>50.925912</td>\n",
              "      <td>53.472208</td>\n",
              "      <td>56.145818</td>\n",
              "      <td>58.953109</td>\n",
              "      <td>61.900764</td>\n",
              "      <td>1624.895064</td>\n",
              "    </tr>\n",
              "  </tbody>\n",
              "</table>\n",
              "</div>"
            ],
            "text/plain": [
              "  ticker        Date        EPS  Estimated Profit Growth Rate  Discount Rate  \\\n",
              "0   gazp  2021-12-05  41.634738                      0.018525           0.09   \n",
              "\n",
              "  G-Factor  Intrinsic Value  Current Price  Potential Uplift  \\\n",
              "0        1       1000.93182          326.0          2.070343   \n",
              "\n",
              "   Estimated Long Term Return   P/E Growth duration, Years  \\\n",
              "0                    0.276331  7.83                      3   \n",
              "\n",
              "   Perpetual Growth Rate          1          2          3          4  \\\n",
              "0                   0.05  42.406022  43.191593  43.991718  46.191303   \n",
              "\n",
              "           5          6          7          8          9         10  \\\n",
              "0  48.500869  50.925912  53.472208  56.145818  58.953109  61.900764   \n",
              "\n",
              "   Terminal Value  \n",
              "0     1624.895064  "
            ]
          },
          "metadata": {},
          "execution_count": 16
        }
      ]
    },
    {
      "cell_type": "code",
      "metadata": {
        "id": "f9oqYj6tkRV0"
      },
      "source": [
        ""
      ],
      "execution_count": null,
      "outputs": []
    },
    {
      "cell_type": "code",
      "metadata": {
        "id": "EiI1zrsMkwzi"
      },
      "source": [
        ""
      ],
      "execution_count": null,
      "outputs": []
    },
    {
      "cell_type": "code",
      "metadata": {
        "id": "lMpm7BhCkw2s"
      },
      "source": [
        ""
      ],
      "execution_count": null,
      "outputs": []
    },
    {
      "cell_type": "code",
      "metadata": {
        "id": "2CKTncAykw6N"
      },
      "source": [
        ""
      ],
      "execution_count": null,
      "outputs": []
    }
  ]
}