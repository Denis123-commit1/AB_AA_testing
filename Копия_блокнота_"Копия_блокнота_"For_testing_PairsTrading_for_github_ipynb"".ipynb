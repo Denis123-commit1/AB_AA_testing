{
  "nbformat": 4,
  "nbformat_minor": 0,
  "metadata": {
    "colab": {
      "name": "Копия блокнота \"Копия блокнота \"For_testing_PairsTrading_for_github.ipynb\"\"",
      "provenance": [],
      "collapsed_sections": [
        "IDGglrsR-Qbg",
        "AU1lOw4T-Qbi",
        "suQfQS6V-Qbj",
        "-pdlnINz-Qb4",
        "6uuRpq7H-Qb6"
      ],
      "authorship_tag": "ABX9TyN0vNdwI1Me9zJAmc/b5ImY",
      "include_colab_link": true
    },
    "kernelspec": {
      "name": "python3",
      "display_name": "Python 3"
    },
    "language_info": {
      "name": "python"
    }
  },
  "cells": [
    {
      "cell_type": "markdown",
      "metadata": {
        "id": "view-in-github",
        "colab_type": "text"
      },
      "source": [
        "<a href=\"https://colab.research.google.com/github/Denis123-commit1/AB_AA_testing/blob/master/%D0%9A%D0%BE%D0%BF%D0%B8%D1%8F_%D0%B1%D0%BB%D0%BE%D0%BA%D0%BD%D0%BE%D1%82%D0%B0_%22%D0%9A%D0%BE%D0%BF%D0%B8%D1%8F_%D0%B1%D0%BB%D0%BE%D0%BA%D0%BD%D0%BE%D1%82%D0%B0_%22For_testing_PairsTrading_for_github_ipynb%22%22.ipynb\" target=\"_parent\"><img src=\"https://colab.research.google.com/assets/colab-badge.svg\" alt=\"Open In Colab\"/></a>"
      ]
    },
    {
      "cell_type": "markdown",
      "metadata": {
        "id": "_yH22ifp-QbM"
      },
      "source": [
        "## Pairs Trading Strategies Using Python\n",
        "\n",
        "When it comes to making money in the stock market, there are a myriad of different ways to make money. And it seems that in the finance community, everywhere you go, people are telling you that you should learn Python. After all, Python is a popular programming language which can be used in all types of fields, including data science. There are a large number of packages that can help you meet your goals, and many companies use Python for development of data-centric applications and scientific computation, which is associated with the financial world.\n",
        "\n",
        "Most of all Python can help us utilize many different trading strategies that (without it) would by very difficult to analyze by hand or with spreadsheets. One of the trading strategies we will talk about is referred to as **Pairs Trading.**"
      ]
    },
    {
      "cell_type": "markdown",
      "metadata": {
        "id": "jdmxgoVo-QbT"
      },
      "source": [
        "## Pairs Trading\n",
        "\n",
        "Pairs trading is a form of *mean-reversion* that has a distinct advantage of always being hedged against market movements. It is generally a high alpha strategy when backed up by some rigorous statistics. The stratey is based on mathematical analysis.\n",
        "\n",
        "The prinicple is as follows. Let's say you have a pair of securities X and Y that have some underlying economic link. An example might be two companies that manufacture the same product, or two companies in one supply chain. If we can model this economic link with a mathematical model, we can make trades on it.\n",
        "\n",
        "In order to understand pairs trading, we need to understand three mathematical concepts: **Stationarity, Integration, and Cointegration**.\n",
        "\n",
        "**Note:** This will assume everyone knows the basics of hypothesis testing."
      ]
    },
    {
      "cell_type": "code",
      "metadata": {
        "id": "9v36_udP-QbU"
      },
      "source": [
        "import numpy as np\n",
        "import pandas as pd\n",
        "\n",
        "import statsmodels\n",
        "import statsmodels.api as sm\n",
        "from statsmodels.tsa.stattools import coint, adfuller\n",
        "\n",
        "import matplotlib.pyplot as plt\n",
        "import seaborn as sns; sns.set(style=\"whitegrid\")"
      ],
      "execution_count": null,
      "outputs": []
    },
    {
      "cell_type": "markdown",
      "metadata": {
        "id": "V4KahuR0-QbV"
      },
      "source": [
        "### Stationarity/Non-Stationarity\n",
        "\n",
        "Stationarity is the most commonly untestedassumption in time series analysis. We generally assume that data is stationary when the parameters of the data generating process do not change over time. Else consider two series: A and B. Series A will generate a stationary time series with fixed parameters, while B will change over time.\n",
        "\n",
        "We will create a function that creates a z-score for probability density function. The probability density for a Gaussian distribution is:\n",
        "\n",
        "$$ p(x) = \\frac{1}{\\sqrt{2\\pi\\sigma^{2}}}e^{-\\frac{(x-\\mu)^{2}}{2\\sigma^{2}}}$$\n"
      ]
    },
    {
      "cell_type": "markdown",
      "metadata": {
        "id": "sTXM0xr9-QbW"
      },
      "source": [
        "$\\mu$ is the mean and $\\sigma$ is the standard deviation. The square of the standard deviation, $\\sigma^{2}$, is the variance. The empircal rule dictates that 66% of the data should be somewhere between $x+\\sigma$ and $x-\\sigma$,which implies that the function `numpy.random.normal` is more likely to return samples lying close to the mean, rather than those far away."
      ]
    },
    {
      "cell_type": "code",
      "metadata": {
        "id": "FeiBO9RW-QbX"
      },
      "source": [
        "def generate_data(params):\n",
        "    mu = params[0]\n",
        "    sigma = params[1]\n",
        "    return np.random.normal(mu, sigma)"
      ],
      "execution_count": null,
      "outputs": []
    },
    {
      "cell_type": "markdown",
      "metadata": {
        "id": "oLqRUQXr-QbY"
      },
      "source": [
        "From there, we can create two plots that exhibit a stationary and non-stationary time series."
      ]
    },
    {
      "cell_type": "code",
      "metadata": {
        "id": "-kAoON72-QbZ",
        "outputId": "9ed29e23-8ff9-48d9-b63a-6e9adf80930a"
      },
      "source": [
        "# Set the parameters and the number of datapoints\n",
        "params = (0, 1)\n",
        "T = 100\n",
        "\n",
        "A = pd.Series(index=range(T))\n",
        "A.name = 'A'\n",
        "\n",
        "for t in range(T):\n",
        "    A[t] = generate_data(params)\n",
        "\n",
        "T = 100\n",
        "\n",
        "B = pd.Series(index=range(T))\n",
        "B.name = 'B'\n",
        "\n",
        "for t in range(T):\n",
        "    # Now the parameters are dependent on time\n",
        "    # Specifically, the mean of the series changes over time\n",
        "    params = (t * 0.1, 1)\n",
        "    B[t] = generate_data(params)\n",
        "    \n",
        "fig, (ax1, ax2) = plt.subplots(nrows =1, ncols =2, figsize=(16,6))\n",
        "\n",
        "ax1.plot(A)\n",
        "ax2.plot(B)\n",
        "ax1.legend(['Series A'])\n",
        "ax2.legend(['Series B'])\n",
        "ax1.set_title('Stationary')\n",
        "ax2.set_title('Non-Stationary')"
      ],
      "execution_count": null,
      "outputs": [
        {
          "name": "stderr",
          "output_type": "stream",
          "text": [
            "C:\\Users\\Dell\\AppData\\Local\\Temp/ipykernel_17772/3505386233.py:5: DeprecationWarning: The default dtype for empty Series will be 'object' instead of 'float64' in a future version. Specify a dtype explicitly to silence this warning.\n",
            "  A = pd.Series(index=range(T))\n",
            "C:\\Users\\Dell\\AppData\\Local\\Temp/ipykernel_17772/3505386233.py:13: DeprecationWarning: The default dtype for empty Series will be 'object' instead of 'float64' in a future version. Specify a dtype explicitly to silence this warning.\n",
            "  B = pd.Series(index=range(T))\n"
          ]
        },
        {
          "data": {
            "text/plain": "Text(0.5, 1.0, 'Non-Stationary')"
          },
          "execution_count": 3,
          "metadata": {},
          "output_type": "execute_result"
        },
        {
          "data": {
            "text/plain": "<Figure size 1152x432 with 2 Axes>",
            "image/png": "[encoded data removed]"
          },
          "metadata": {},
          "output_type": "display_data"
        }
      ]
    },
    {
      "cell_type": "code",
      "metadata": {
        "pycharm": {
          "name": "#%%\n"
        },
        "id": "IHEyNcD--Qbb",
        "outputId": "99177fbc-96d2-4202-d81a-193d7cd7bce9"
      },
      "source": [
        "print(B)"
      ],
      "execution_count": null,
      "outputs": [
        {
          "name": "stdout",
          "output_type": "stream",
          "text": [
            "0      0.910572\n",
            "1      0.579963\n",
            "2      0.000779\n",
            "3      1.714673\n",
            "4      2.171967\n",
            "        ...    \n",
            "95     9.849056\n",
            "96    10.844338\n",
            "97     9.659808\n",
            "98     8.881449\n",
            "99     9.355400\n",
            "Name: B, Length: 100, dtype: float64\n"
          ]
        }
      ]
    },
    {
      "cell_type": "markdown",
      "metadata": {
        "id": "uSb6wjoc-Qbc"
      },
      "source": [
        "### Why Stationarity is Important\n",
        "\n",
        "Many statistical test require that the data being tested are stationary. Using certain statistics on a non-stationary data set may lead to garbage results. As an example, let's take an average through our non-stationary $B$."
      ]
    },
    {
      "cell_type": "code",
      "metadata": {
        "id": "ccPf4hhQ-Qbd",
        "outputId": "9655a83d-97c1-4cb2-c970-3ed0a5702193"
      },
      "source": [
        "mean = np.mean(B)\n",
        "mean"
      ],
      "execution_count": null,
      "outputs": [
        {
          "data": {
            "text/plain": "4.811715852009249"
          },
          "execution_count": 8,
          "metadata": {},
          "output_type": "execute_result"
        }
      ]
    },
    {
      "cell_type": "code",
      "metadata": {
        "pycharm": {
          "name": "#%%\n"
        },
        "id": "t2DLMuut-Qbd",
        "outputId": "5b7fdff0-a829-4ec7-8728-c019dffedd29"
      },
      "source": [
        "plt.figure(figsize=(12,6))\n",
        "plt.plot(B)\n",
        "plt.hlines(mean, 0, len(B), linestyles='dashed', colors = 'r')\n",
        "plt.xlabel('Time')\n",
        "plt.xlim([0, 99])\n",
        "plt.ylabel('Value')\n",
        "plt.legend(['Series B', 'Mean'])"
      ],
      "execution_count": null,
      "outputs": [
        {
          "data": {
            "text/plain": "<matplotlib.legend.Legend at 0x22a7f29bca0>"
          },
          "execution_count": 10,
          "metadata": {},
          "output_type": "execute_result"
        },
        {
          "data": {
            "text/plain": "<Figure size 864x432 with 1 Axes>",
            "image/png": "[encoded data removed]"
          },
          "metadata": {},
          "output_type": "display_data"
        }
      ]
    },
    {
      "cell_type": "code",
      "metadata": {
        "id": "8Uc90W92u5yR"
      },
      "source": [
        ""
      ],
      "execution_count": null,
      "outputs": []
    },
    {
      "cell_type": "markdown",
      "metadata": {
        "id": "Q-sAFTkO-Qbe"
      },
      "source": [
        "The computed mean will show that the mean of all data points, but won't be useful for any forecasting of future state. It's meaningless when compared with any specific time, as it's a collection of different states at different times mashed together. This is just a simple and clear example of why non-stationarity can distort the analysis, much more subtle problems can arise in practice."
      ]
    },
    {
      "cell_type": "markdown",
      "metadata": {
        "pycharm": {
          "name": "#%% md\n"
        },
        "id": "mYXklFkj-Qbe"
      },
      "source": [
        "#### Augmented Dickey Fuller\n",
        "\n",
        "In order to test for stationarity, we need to test for something called a *unit root*. Autoregressive unit root test are based the following hypothesis test:\n",
        "\n",
        "$$\n",
        "\\begin{aligned}\n",
        "H_{0} & : \\phi =\\ 1\\ \\implies y_{t} \\sim I(0) \\ | \\ (unit \\ root) \\\\\n",
        "H_{1} & : |\\phi| <\\ 1\\ \\implies y_{t} \\sim I(0) \\ | \\ (stationary)  \\\\\n",
        "\\end{aligned}\n",
        "$$\n",
        "\n",
        "It's referred to as a unit root tet because under the null hypothesis, the autoregressive polynominal of $\\scr{z}_{t},\\ \\phi (\\scr{z})=\\ (1-\\phi \\scr{z}) \\ = 0$, has a root equal to unity. \n",
        "\n",
        "$y_{t}$ is trend stationary under the null hypothesis. If $y_{t}$is then first differenced, it becomes:\n",
        "\n",
        "$$\n",
        "\\begin{aligned}\n",
        "\\Delta y_{t} & = \\delta\\ + \\Delta\\scr{z}_{t} \\\\\n",
        "\\Delta \\scr_{z} & = \\phi\\Delta\\scr{z}_{t-1}\\ +\\ \\varepsilon_{t}\\ -\\ \\varepsilon_{t-1} \\\\\n",
        "\\end{aligned}\n",
        ".$$\n",
        "\n",
        "The test statistic is\n",
        "\n",
        "$$ t_{\\phi=1}=\\frac{\\hat{\\phi}-1}{SE(\\hat{\\phi})}$$"
      ]
    },
    {
      "cell_type": "markdown",
      "metadata": {
        "id": "Fuxxf7vl-Qbf"
      },
      "source": [
        "$\\hat{\\phi}$ is the least square estimate and SE($\\hat{\\phi}$) is the usual standard error estimate. The test is a one-sided left tail test. If {$y_{t}$} is stationary, then it can be shown that\n",
        "\n",
        "$$\\sqrt{T}(\\hat{\\phi}-\\phi)\\xrightarrow[\\text{}]{\\text{d}}N(0,(1-\\phi^{2}))$$\n",
        "\n",
        "or \n",
        "\n",
        "$$\\hat{\\phi}\\overset{\\text{A}}{\\sim}N\\bigg(\\phi,\\frac{1}{T}(1-\\phi^{2}) \\bigg)$$\n",
        "\n",
        "andit follows that $t_{\\phi=1}\\overset{\\text{A}}{\\sim}N(0,1).$ However, under the null hypothesis of non-stationarity, the above result gives\n",
        "\n",
        "$$\n",
        "\\hat{\\phi}\\overset{\\text{A}}{\\sim} N(0,1)\n",
        "$$\n",
        "\n",
        "The following function will allow us to check for stationarity using the Augmented Dickey Fuller (ADF) test."
      ]
    },
    {
      "cell_type": "code",
      "metadata": {
        "id": "B1PjSrpp-Qbf"
      },
      "source": [
        "def stationarity_test(X, cutoff=0.01):\n",
        "    # H_0 in adfuller is unit root exists (non-stationary)\n",
        "    # We must observe significant p-value to convince ourselves that the series is stationary\n",
        "    pvalue = adfuller(X)[1]\n",
        "    if pvalue < cutoff:\n",
        "        print('p-value = ' + str(pvalue) + ' The series ' + X.name +' is likely stationary.')\n",
        "    else:\n",
        "        print('p-value = ' + str(pvalue) + ' The series ' + X.name +' is likely non-stationary.')"
      ],
      "execution_count": null,
      "outputs": []
    },
    {
      "cell_type": "code",
      "metadata": {
        "id": "4xtbFx_H-Qbg",
        "outputId": "81a4bbd1-b95a-4ce8-b66b-52f8f79ee9e1"
      },
      "source": [
        "stationarity_test(A)\n",
        "stationarity_test(B)"
      ],
      "execution_count": null,
      "outputs": [
        {
          "name": "stdout",
          "output_type": "stream",
          "text": [
            "p-value = 1.0620409623754322e-17 The series A is likely stationary.\n",
            "p-value = 0.9707165844590476 The series B is likely non-stationary.\n"
          ]
        }
      ]
    },
    {
      "cell_type": "markdown",
      "metadata": {
        "id": "_ZuYCDVF-Qbg"
      },
      "source": [
        "As we can see, based on the test statistic (which correspnds with a specific p-value) for time series A, we can fail to reject the null hypothesis. As such, Series A is likely to be  stationary. On the other hand, Series B is rejected by the hypothesis test, so this time series is likely to be non-stationary."
      ]
    },
    {
      "cell_type": "markdown",
      "metadata": {
        "id": "IDGglrsR-Qbg"
      },
      "source": [
        "### Cointegration\n",
        "\n",
        "The correlations between financial quantities are notoriously unstable. Nevertheless, correlations are regularly used in almost all multivariate financial problems. An alternative statistical measure to correlation is cointegration. This is probably a more robust measure of linkage between two financial quantities, but as yet there is little derviaties theory based on this concept.\n",
        "\n",
        "Two stocks may be perfectly correlated over short timescales, yet diverge in the long run, with one growing and the other decaying. Conversely, two stocks may follow each other, never being more than a certain distance apart, but with any correlation, positive negaative or varying. If we are delta hedging, then maybe the short timescale orrelation matters, but not if we are holding stocks for a long time in an unhedged portfolio.\n",
        "\n",
        "We've constructed an example of two cointegrated series. We'll plot the difference between the two now so we can see how this looks."
      ]
    },
    {
      "cell_type": "code",
      "metadata": {
        "colab": {
          "base_uri": "https://localhost:8080/",
          "height": 229
        },
        "id": "AMCoVj8Q-Qbh",
        "outputId": "2f737fe8-704d-466a-fa76-1e1a6a34c29e"
      },
      "source": [
        "# Generate daily returns\n",
        "\n",
        "Xreturns = np.random.normal(0, 1, 100)\n",
        "\n",
        "# sum up and shift the prices up\n",
        "\n",
        "X = pd.Series(np.cumsum(\n",
        "    Xreturns), name='X') + 50\n",
        "X.plot(figsize=(15,7))\n",
        "\n",
        "noise = np.random.normal(0, 1, 100)\n",
        "Y = X + 5 + noise\n",
        "Y.name = 'Y'\n",
        "\n",
        "pd.concat([X, Y], axis=1).plot(figsize=(15, 7))\n",
        "\n",
        "plt.show()"
      ],
      "execution_count": null,
      "outputs": [
        {
          "output_type": "error",
          "ename": "NameError",
          "evalue": "ignored",
          "traceback": [
            "\u001b[0;31m---------------------------------------------------------------------------\u001b[0m",
            "\u001b[0;31mNameError\u001b[0m                                 Traceback (most recent call last)",
            "\u001b[0;32m<ipython-input-1-f2ab7469e3a0>\u001b[0m in \u001b[0;36m<module>\u001b[0;34m()\u001b[0m\n\u001b[1;32m      1\u001b[0m \u001b[0;31m# Generate daily returns\u001b[0m\u001b[0;34m\u001b[0m\u001b[0;34m\u001b[0m\u001b[0;34m\u001b[0m\u001b[0m\n\u001b[1;32m      2\u001b[0m \u001b[0;34m\u001b[0m\u001b[0m\n\u001b[0;32m----> 3\u001b[0;31m \u001b[0mXreturns\u001b[0m \u001b[0;34m=\u001b[0m \u001b[0mnp\u001b[0m\u001b[0;34m.\u001b[0m\u001b[0mrandom\u001b[0m\u001b[0;34m.\u001b[0m\u001b[0mnormal\u001b[0m\u001b[0;34m(\u001b[0m\u001b[0;36m0\u001b[0m\u001b[0;34m,\u001b[0m \u001b[0;36m1\u001b[0m\u001b[0;34m,\u001b[0m \u001b[0;36m100\u001b[0m\u001b[0;34m)\u001b[0m\u001b[0;34m\u001b[0m\u001b[0;34m\u001b[0m\u001b[0m\n\u001b[0m\u001b[1;32m      4\u001b[0m \u001b[0;34m\u001b[0m\u001b[0m\n\u001b[1;32m      5\u001b[0m \u001b[0;31m# sum up and shift the prices up\u001b[0m\u001b[0;34m\u001b[0m\u001b[0;34m\u001b[0m\u001b[0;34m\u001b[0m\u001b[0m\n",
            "\u001b[0;31mNameError\u001b[0m: name 'np' is not defined"
          ]
        }
      ]
    },
    {
      "cell_type": "code",
      "metadata": {
        "pycharm": {
          "name": "#%%\n"
        },
        "id": "0rAxiMa6-Qbh"
      },
      "source": [
        "print(X)"
      ],
      "execution_count": null,
      "outputs": []
    },
    {
      "cell_type": "code",
      "metadata": {
        "id": "t7os3sOx-Qbi"
      },
      "source": [
        "\n",
        "plt.figure(figsize=(12,6))\n",
        "(Y - X).plot() # Plot the spread\n",
        "plt.axhline((Y - X).mean(), color='red', linestyle='--') # Add the mean\n",
        "plt.xlabel('Time')\n",
        "plt.xlim(0,99)\n",
        "plt.legend(['Price Spread', 'Mean']);"
      ],
      "execution_count": null,
      "outputs": []
    },
    {
      "cell_type": "markdown",
      "metadata": {
        "id": "AU1lOw4T-Qbi"
      },
      "source": [
        "#### Testing for Cointegration\n",
        "\n",
        "The steps in the cointegration test procdure:\n",
        "\n",
        "1. Test for a unit root in each component series $y_{t}$ individually, using the univariate unit root tests, say ADF, PP test.\n",
        "2. If the unit root cannot be rejected, then the next step is to test cointegration among the components, i.e., to test whether $\\alpha Y_{t}$ is I(0).\n",
        "\n",
        "If we find that the time series as a unit root, then we move on to the cointegration process. There are three main methods for testing for cointegration: Johansen, Engle-Granger, and Phillips-Ouliaris. We will primarily use the Engle-Granger test.\n",
        "\n",
        "Let's consider the regression model for $y_{t}$:\n",
        "\n",
        "$$y_{1t} = \\delta D_{t} + \\phi_{1t}y_{2t} + \\phi_{m-1} y_{mt} + \\varepsilon_{t} $$\n",
        "\n",
        "$D_{t}$ is the deterministic term. From there, we can test whether $\\varepsilon_{t}$ is $I(1)$ or $I(0)$. The hypothesis test is as follows:\n",
        "\n",
        "$$\n",
        "\\begin{aligned}\n",
        "H_{0} & :  \\varepsilon_{t} \\sim I(1) \\implies y_{t} \\ (no \\ cointegration)  \\\\\n",
        "H_{1} & : \\varepsilon_{t} \\sim I(0) \\implies y_{t} \\ (cointegration)  \\\\\n",
        "\\end{aligned}\n",
        "$$\n",
        "\n",
        "$y_{t}$ is cointegrated with a *normalized cointegration vector* $\\alpha = (1, \\phi_{1}, \\ldots,\\phi_{m-1}).$\n",
        "\n",
        "We also use residuals $\\varepsilon_{t}$ for unit root test.\n",
        "\n",
        "$$\n",
        "\\begin{aligned}\n",
        "H_{0} & :  \\lambda = 0 \\ (Unit \\ Root)  \\\\\n",
        "H_{1} & : \\lambda < 1 \\ (Stationary)  \\\\\n",
        "\\end{aligned}\n",
        "$$\n",
        "\n",
        "This hypothesis test is for the model:\n",
        "\n",
        "$$\\Delta\\varepsilon_{t}=\\lambda\\varepsilon_{t-1}+\\sum^{p-1}_{j=1}\\varphi\\Delta\\varepsilon_{t-j}+\\alpha_{t}$$\n",
        "\n",
        "The test statistic for the following equation:\n",
        "\n",
        "$$t_{\\lambda}=\\frac{\\hat{\\lambda}}{s_{\\hat{\\lambda}}} $$\n",
        "\n",
        "Now that you understand what it means for two time series to be cointegrated, we can test for it and measure it using python:"
      ]
    },
    {
      "cell_type": "code",
      "metadata": {
        "id": "Y7FXU1_e-Qbi"
      },
      "source": [
        "score, pvalue, _ = coint(X,Y)\n",
        "print(pvalue)\n",
        "\n",
        "# Low pvalue means high cointegration!"
      ],
      "execution_count": null,
      "outputs": []
    },
    {
      "cell_type": "markdown",
      "metadata": {
        "id": "suQfQS6V-Qbj"
      },
      "source": [
        "#### Correlation vs. Cointegration\n",
        "\n",
        "Correlation and cointegration, while theoretically similiar, are anything but similiar. To demonstrate this, we can look at examples of two time series that are correlated, but not cointegrated.\n",
        "\n",
        "A simple example is two series that just diverge."
      ]
    },
    {
      "cell_type": "code",
      "metadata": {
        "id": "6R89_boy-Qbj"
      },
      "source": [
        "X_returns = np.random.normal(1, 1, 100)\n",
        "Y_returns = np.random.normal(2, 1, 100)\n",
        "\n",
        "X_diverging = pd.Series(np.cumsum(X_returns), name='X')\n",
        "Y_diverging = pd.Series(np.cumsum(Y_returns), name='Y')\n",
        "\n",
        "\n",
        "pd.concat([X_diverging, Y_diverging], axis=1).plot(figsize=(12,6));\n",
        "plt.xlim(0, 99)\n"
      ],
      "execution_count": null,
      "outputs": []
    },
    {
      "cell_type": "markdown",
      "metadata": {
        "id": "IeGbyxBv-Qbj"
      },
      "source": [
        "Next, we can print the correlation coefficient, $r$, and the cointegration test "
      ]
    },
    {
      "cell_type": "code",
      "metadata": {
        "id": "frP3PA9j-Qbk"
      },
      "source": [
        "print('Correlation: ' + str(X_diverging.corr(Y_diverging)))\n",
        "score, pvalue, _ = coint(X_diverging,Y_diverging)\n",
        "print('Cointegration test p-value: ' + str(pvalue))"
      ],
      "execution_count": null,
      "outputs": []
    },
    {
      "cell_type": "markdown",
      "metadata": {
        "id": "__6qTDe8-Qbk"
      },
      "source": [
        "As we can see, there is a very strong (nearly perfect) correlation between series X and Y. However, our p-value for the cointegration test yields a result of 0.7092, which means there is no cointegration between time series X and Y.\n",
        "\n",
        "Another example of this case is a normally distributed series and a sqaure wave."
      ]
    },
    {
      "cell_type": "code",
      "metadata": {
        "id": "4BtHWeSu-Qbk"
      },
      "source": [
        "Y2 = pd.Series(np.random.normal(0, 1, 1000), name='Y2') + 20\n",
        "Y3 = Y2.copy()\n",
        "\n",
        "# Y2 = Y2 + 10\n",
        "Y3[0:100] = 30\n",
        "Y3[100:200] = 10\n",
        "Y3[200:300] = 30\n",
        "Y3[300:400] = 10\n",
        "Y3[400:500] = 30\n",
        "Y3[500:600] = 10\n",
        "Y3[600:700] = 30\n",
        "Y3[700:800] = 10\n",
        "Y3[800:900] = 30\n",
        "Y3[900:1000] = 10\n",
        "\n",
        "\n",
        "plt.figure(figsize=(12,6))\n",
        "Y2.plot()\n",
        "Y3.plot()\n",
        "plt.ylim([0, 40])\n",
        "plt.xlim([0, 1000]);\n",
        "\n",
        "# correlation is nearly zero\n",
        "print( 'Correlation: ' + str(Y2.corr(Y3)))\n",
        "score, pvalue, _ = coint(Y2,Y3)\n",
        "print( 'Cointegration test p-value: ' + str(pvalue))"
      ],
      "execution_count": null,
      "outputs": []
    },
    {
      "cell_type": "code",
      "metadata": {
        "pycharm": {
          "name": "#%%\n"
        },
        "id": "SY6kD9-C-Qbl"
      },
      "source": [
        "print(Y3[200:300])"
      ],
      "execution_count": null,
      "outputs": []
    },
    {
      "cell_type": "code",
      "metadata": {
        "pycharm": {
          "name": "#%%\n"
        },
        "id": "NWJYzFdi-Qbl"
      },
      "source": [
        "print(Y3)"
      ],
      "execution_count": null,
      "outputs": []
    },
    {
      "cell_type": "markdown",
      "metadata": {
        "id": "OaRxKiPf-Qbm"
      },
      "source": [
        "Although the correlation is incredibly low, the p-value shows that these time series are cointegrated."
      ]
    },
    {
      "cell_type": "code",
      "metadata": {
        "pycharm": {
          "name": "#%%\n"
        },
        "id": "O7r40N_s-Qbm"
      },
      "source": [
        ""
      ],
      "execution_count": null,
      "outputs": []
    },
    {
      "cell_type": "code",
      "metadata": {
        "pycharm": {
          "name": "#%%\n"
        },
        "id": "nZ3Bc24T-Qbm"
      },
      "source": [
        ""
      ],
      "execution_count": null,
      "outputs": []
    },
    {
      "cell_type": "code",
      "metadata": {
        "pycharm": {
          "name": "#%%\n"
        },
        "colab": {
          "base_uri": "https://localhost:8080/"
        },
        "id": "14nxyGR3-Qbm",
        "outputId": "8df9ca67-eed5-43dc-bc68-436cc64ada2c"
      },
      "source": [
        "import numpy as np\n",
        "import pandas as pd\n",
        "import statsmodels\n",
        "import statsmodels.api as sm\n",
        "from statsmodels.tsa.stattools import coint, adfuller\n",
        "\n",
        "import matplotlib.pyplot as plt\n",
        "import seaborn as sns; sns.set(style=\"whitegrid\")"
      ],
      "execution_count": null,
      "outputs": [
        {
          "output_type": "stream",
          "name": "stderr",
          "text": [
            "/usr/local/lib/python3.7/dist-packages/statsmodels/tools/_testing.py:19: FutureWarning: pandas.util.testing is deprecated. Use the functions in the public API at pandas.testing instead.\n",
            "  import pandas.util.testing as tm\n"
          ]
        }
      ]
    },
    {
      "cell_type": "code",
      "metadata": {
        "colab": {
          "base_uri": "https://localhost:8080/",
          "height": 346
        },
        "id": "ZRalECfC-Qbn",
        "outputId": "0c1895bb-886c-4c18-c07b-2076e8fed144"
      },
      "source": [
        "pd.core.common.is_list_like = pd.api.types.is_list_like\n",
        "from pandas_datareader import data as pdr\n",
        "import datetime\n",
        "import yfinance as yf\n",
        "yf.pdr_override()"
      ],
      "execution_count": null,
      "outputs": [
        {
          "output_type": "error",
          "ename": "ModuleNotFoundError",
          "evalue": "ignored",
          "traceback": [
            "\u001b[0;31m---------------------------------------------------------------------------\u001b[0m",
            "\u001b[0;31mModuleNotFoundError\u001b[0m                       Traceback (most recent call last)",
            "\u001b[0;32m<ipython-input-3-334b1c2553ff>\u001b[0m in \u001b[0;36m<module>\u001b[0;34m()\u001b[0m\n\u001b[1;32m      2\u001b[0m \u001b[0;32mfrom\u001b[0m \u001b[0mpandas_datareader\u001b[0m \u001b[0;32mimport\u001b[0m \u001b[0mdata\u001b[0m \u001b[0;32mas\u001b[0m \u001b[0mpdr\u001b[0m\u001b[0;34m\u001b[0m\u001b[0;34m\u001b[0m\u001b[0m\n\u001b[1;32m      3\u001b[0m \u001b[0;32mimport\u001b[0m \u001b[0mdatetime\u001b[0m\u001b[0;34m\u001b[0m\u001b[0;34m\u001b[0m\u001b[0m\n\u001b[0;32m----> 4\u001b[0;31m \u001b[0;32mimport\u001b[0m \u001b[0myfinance\u001b[0m \u001b[0;32mas\u001b[0m \u001b[0myf\u001b[0m\u001b[0;34m\u001b[0m\u001b[0;34m\u001b[0m\u001b[0m\n\u001b[0m\u001b[1;32m      5\u001b[0m \u001b[0myf\u001b[0m\u001b[0;34m.\u001b[0m\u001b[0mpdr_override\u001b[0m\u001b[0;34m(\u001b[0m\u001b[0;34m)\u001b[0m\u001b[0;34m\u001b[0m\u001b[0;34m\u001b[0m\u001b[0m\n",
            "\u001b[0;31mModuleNotFoundError\u001b[0m: No module named 'yfinance'",
            "",
            "\u001b[0;31m---------------------------------------------------------------------------\u001b[0;32m\nNOTE: If your import is failing due to a missing package, you can\nmanually install dependencies using either !pip or !apt.\n\nTo view examples of installing some common dependencies, click the\n\"Open Examples\" button below.\n\u001b[0;31m---------------------------------------------------------------------------\u001b[0m\n"
          ],
          "errorDetails": {
            "actions": [
              {
                "action": "open_url",
                "actionText": "Open Examples",
                "url": "/notebooks/snippets/importing_libraries.ipynb"
              }
            ]
          }
        }
      ]
    },
    {
      "cell_type": "markdown",
      "metadata": {
        "id": "g6EeDYKO-Qbn"
      },
      "source": [
        "### Data Science in Trading\n",
        "\n",
        "Before we begin, I’ll first define a function that makes it easy to find cointegrated security pairs using the concepts we’ve already covered."
      ]
    },
    {
      "cell_type": "code",
      "metadata": {
        "id": "ELL-31-MOIit",
        "colab": {
          "base_uri": "https://localhost:8080/",
          "height": 745
        },
        "outputId": "499aab48-7987-4390-e245-537c40c0414d"
      },
      "source": [
        "!pip install investpy"
      ],
      "execution_count": 1,
      "outputs": [
        {
          "output_type": "stream",
          "name": "stdout",
          "text": [
            "Collecting investpy\n",
            "  Downloading investpy-1.0.7.tar.gz (4.4 MB)\n",
            "\u001b[K     |████████████████████████████████| 4.4 MB 4.1 MB/s \n",
            "\u001b[?25hCollecting Unidecode>=1.1.1\n",
            "  Downloading Unidecode-1.3.2-py3-none-any.whl (235 kB)\n",
            "\u001b[K     |████████████████████████████████| 235 kB 62.1 MB/s \n",
            "\u001b[?25hRequirement already satisfied: setuptools>=41.2.0 in /usr/local/lib/python3.7/dist-packages (from investpy) (57.4.0)\n",
            "Requirement already satisfied: numpy>=1.17.2 in /usr/local/lib/python3.7/dist-packages (from investpy) (1.19.5)\n",
            "Requirement already satisfied: pandas>=0.25.1 in /usr/local/lib/python3.7/dist-packages (from investpy) (1.1.5)\n",
            "Collecting lxml>=4.4.1\n",
            "  Downloading lxml-4.6.4-cp37-cp37m-manylinux_2_17_x86_64.manylinux2014_x86_64.manylinux_2_24_x86_64.whl (6.3 MB)\n",
            "\u001b[K     |████████████████████████████████| 6.3 MB 43.0 MB/s \n",
            "\u001b[?25hRequirement already satisfied: requests>=2.22.0 in /usr/local/lib/python3.7/dist-packages (from investpy) (2.23.0)\n",
            "Collecting pytz>=2019.3\n",
            "  Downloading pytz-2021.3-py2.py3-none-any.whl (503 kB)\n",
            "\u001b[K     |████████████████████████████████| 503 kB 69.2 MB/s \n",
            "\u001b[?25hRequirement already satisfied: python-dateutil>=2.7.3 in /usr/local/lib/python3.7/dist-packages (from pandas>=0.25.1->investpy) (2.8.2)\n",
            "Requirement already satisfied: six>=1.5 in /usr/local/lib/python3.7/dist-packages (from python-dateutil>=2.7.3->pandas>=0.25.1->investpy) (1.15.0)\n",
            "Requirement already satisfied: urllib3!=1.25.0,!=1.25.1,<1.26,>=1.21.1 in /usr/local/lib/python3.7/dist-packages (from requests>=2.22.0->investpy) (1.24.3)\n",
            "Requirement already satisfied: idna<3,>=2.5 in /usr/local/lib/python3.7/dist-packages (from requests>=2.22.0->investpy) (2.10)\n",
            "Requirement already satisfied: chardet<4,>=3.0.2 in /usr/local/lib/python3.7/dist-packages (from requests>=2.22.0->investpy) (3.0.4)\n",
            "Requirement already satisfied: certifi>=2017.4.17 in /usr/local/lib/python3.7/dist-packages (from requests>=2.22.0->investpy) (2021.10.8)\n",
            "Building wheels for collected packages: investpy\n",
            "  Building wheel for investpy (setup.py) ... \u001b[?25l\u001b[?25hdone\n",
            "  Created wheel for investpy: filename=investpy-1.0.7-py3-none-any.whl size=4495221 sha256=4df81220a17192bb36147a09b1296e952ac9ada2241d73b62985d1eb0e0a22c5\n",
            "  Stored in directory: /root/.cache/pip/wheels/50/bb/ee/760eeb6cc7ed8efc1b1b23b13b6b9f17fb1ed530fb04bd16f5\n",
            "Successfully built investpy\n",
            "Installing collected packages: pytz, Unidecode, lxml, investpy\n",
            "  Attempting uninstall: pytz\n",
            "    Found existing installation: pytz 2018.9\n",
            "    Uninstalling pytz-2018.9:\n",
            "      Successfully uninstalled pytz-2018.9\n",
            "  Attempting uninstall: lxml\n",
            "    Found existing installation: lxml 4.2.6\n",
            "    Uninstalling lxml-4.2.6:\n",
            "      Successfully uninstalled lxml-4.2.6\n",
            "Successfully installed Unidecode-1.3.2 investpy-1.0.7 lxml-4.6.4 pytz-2021.3\n"
          ]
        },
        {
          "output_type": "display_data",
          "data": {
            "application/vnd.colab-display-data+json": {
              "pip_warning": {
                "packages": [
                  "pytz"
                ]
              }
            }
          },
          "metadata": {}
        }
      ]
    },
    {
      "cell_type": "code",
      "metadata": {
        "id": "oyuZirmfb78-"
      },
      "source": [
        "from investpy.utils.extra import random_user_agent\n",
        "import investpy"
      ],
      "execution_count": 1,
      "outputs": []
    },
    {
      "cell_type": "code",
      "metadata": {
        "id": "qDClSuzqOVBr",
        "colab": {
          "base_uri": "https://localhost:8080/"
        },
        "outputId": "4603a650-8ed0-4d05-95bf-4a91bb1c3d67"
      },
      "source": [
        "df = investpy.get_stock_historical_data(stock='MGNT',\n",
        "                                        country='russia',\n",
        "                                        from_date='01/01/2020',\n",
        "                                        to_date='24/11/2021')\n",
        "print(df)"
      ],
      "execution_count": 4,
      "outputs": [
        {
          "output_type": "stream",
          "name": "stdout",
          "text": [
            "              Open    High     Low   Close   Volume Currency\n",
            "Date                                                        \n",
            "2020-01-03  3441.5  3460.0  3431.0  3445.5   292736      RUB\n",
            "2020-01-06  3450.0  3455.5  3407.0  3416.0   291656      RUB\n",
            "2020-01-08  3411.5  3432.0  3381.0  3427.0   388935      RUB\n",
            "2020-01-09  3312.0  3368.5  3300.5  3348.0   494609      RUB\n",
            "2020-01-10  3355.0  3379.0  3312.0  3319.5   377004      RUB\n",
            "...            ...     ...     ...     ...      ...      ...\n",
            "2021-11-17  6557.0  6557.0  6315.5  6405.0   406463      RUB\n",
            "2021-11-18  6405.0  6427.0  5938.0  5945.5   898765      RUB\n",
            "2021-11-19  5945.5  6219.5  5796.5  6014.0  2353213      RUB\n",
            "2021-11-22  6014.0  6100.0  5749.0  5789.5   901052      RUB\n",
            "2021-11-23  5740.0  5854.0  5622.5  5800.0   701006      RUB\n",
            "\n",
            "[478 rows x 6 columns]\n"
          ]
        }
      ]
    },
    {
      "cell_type": "code",
      "metadata": {
        "colab": {
          "base_uri": "https://localhost:8080/"
        },
        "id": "T9SmAJNI_CvK",
        "outputId": "4d8969b4-8faf-40d1-d55c-76f312a6d4c6"
      },
      "source": [
        "!pip install yfinance"
      ],
      "execution_count": null,
      "outputs": [
        {
          "output_type": "stream",
          "name": "stdout",
          "text": [
            "Collecting yfinance\n",
            "  Downloading yfinance-0.1.67-py2.py3-none-any.whl (25 kB)\n",
            "Requirement already satisfied: requests>=2.20 in /usr/local/lib/python3.7/dist-packages (from yfinance) (2.23.0)\n",
            "Requirement already satisfied: multitasking>=0.0.7 in /usr/local/lib/python3.7/dist-packages (from yfinance) (0.0.10)\n",
            "Requirement already satisfied: lxml>=4.5.1 in /usr/local/lib/python3.7/dist-packages (from yfinance) (4.6.4)\n",
            "Requirement already satisfied: numpy>=1.15 in /usr/local/lib/python3.7/dist-packages (from yfinance) (1.19.5)\n",
            "Requirement already satisfied: pandas>=0.24 in /usr/local/lib/python3.7/dist-packages (from yfinance) (1.1.5)\n",
            "Requirement already satisfied: pytz>=2017.2 in /usr/local/lib/python3.7/dist-packages (from pandas>=0.24->yfinance) (2021.3)\n",
            "Requirement already satisfied: python-dateutil>=2.7.3 in /usr/local/lib/python3.7/dist-packages (from pandas>=0.24->yfinance) (2.8.2)\n",
            "Requirement already satisfied: six>=1.5 in /usr/local/lib/python3.7/dist-packages (from python-dateutil>=2.7.3->pandas>=0.24->yfinance) (1.15.0)\n",
            "Requirement already satisfied: urllib3!=1.25.0,!=1.25.1,<1.26,>=1.21.1 in /usr/local/lib/python3.7/dist-packages (from requests>=2.20->yfinance) (1.24.3)\n",
            "Requirement already satisfied: chardet<4,>=3.0.2 in /usr/local/lib/python3.7/dist-packages (from requests>=2.20->yfinance) (3.0.4)\n",
            "Requirement already satisfied: certifi>=2017.4.17 in /usr/local/lib/python3.7/dist-packages (from requests>=2.20->yfinance) (2021.10.8)\n",
            "Requirement already satisfied: idna<3,>=2.5 in /usr/local/lib/python3.7/dist-packages (from requests>=2.20->yfinance) (2.10)\n",
            "Installing collected packages: yfinance\n",
            "Successfully installed yfinance-0.1.67\n"
          ]
        }
      ]
    },
    {
      "cell_type": "code",
      "metadata": {
        "id": "ZcUEBi8s-94l",
        "colab": {
          "base_uri": "https://localhost:8080/"
        },
        "outputId": "f5499bf6-3298-4d22-ae20-1cfb3244cbca"
      },
      "source": [
        "import numpy as np\n",
        "import pandas as pd\n",
        "import statsmodels\n",
        "import statsmodels.api as sm\n",
        "from statsmodels.tsa.stattools import coint, adfuller\n",
        "\n",
        "import matplotlib.pyplot as plt\n",
        "import seaborn as sns; sns.set(style=\"whitegrid\")"
      ],
      "execution_count": 2,
      "outputs": [
        {
          "output_type": "stream",
          "name": "stderr",
          "text": [
            "/usr/local/lib/python3.7/dist-packages/statsmodels/tools/_testing.py:19: FutureWarning: pandas.util.testing is deprecated. Use the functions in the public API at pandas.testing instead.\n",
            "  import pandas.util.testing as tm\n"
          ]
        }
      ]
    },
    {
      "cell_type": "code",
      "metadata": {
        "id": "F-SLf9ZD--mo",
        "colab": {
          "base_uri": "https://localhost:8080/",
          "height": 356
        },
        "outputId": "945ae2f3-9ed9-4d38-e826-11a48d6e4eff"
      },
      "source": [
        "pd.core.common.is_list_like = pd.api.types.is_list_like\n",
        "from pandas_datareader import data as pdr\n",
        "import datetime\n",
        "import yfinance as yf\n",
        "yf.pdr_override()"
      ],
      "execution_count": 6,
      "outputs": [
        {
          "output_type": "error",
          "ename": "ModuleNotFoundError",
          "evalue": "ignored",
          "traceback": [
            "\u001b[0;31m---------------------------------------------------------------------------\u001b[0m",
            "\u001b[0;31mModuleNotFoundError\u001b[0m                       Traceback (most recent call last)",
            "\u001b[0;32m<ipython-input-6-334b1c2553ff>\u001b[0m in \u001b[0;36m<module>\u001b[0;34m()\u001b[0m\n\u001b[1;32m      2\u001b[0m \u001b[0;32mfrom\u001b[0m \u001b[0mpandas_datareader\u001b[0m \u001b[0;32mimport\u001b[0m \u001b[0mdata\u001b[0m \u001b[0;32mas\u001b[0m \u001b[0mpdr\u001b[0m\u001b[0;34m\u001b[0m\u001b[0;34m\u001b[0m\u001b[0m\n\u001b[1;32m      3\u001b[0m \u001b[0;32mimport\u001b[0m \u001b[0mdatetime\u001b[0m\u001b[0;34m\u001b[0m\u001b[0;34m\u001b[0m\u001b[0m\n\u001b[0;32m----> 4\u001b[0;31m \u001b[0;32mimport\u001b[0m \u001b[0myfinance\u001b[0m \u001b[0;32mas\u001b[0m \u001b[0myf\u001b[0m\u001b[0;34m\u001b[0m\u001b[0;34m\u001b[0m\u001b[0m\n\u001b[0m\u001b[1;32m      5\u001b[0m \u001b[0myf\u001b[0m\u001b[0;34m.\u001b[0m\u001b[0mpdr_override\u001b[0m\u001b[0;34m(\u001b[0m\u001b[0;34m)\u001b[0m\u001b[0;34m\u001b[0m\u001b[0;34m\u001b[0m\u001b[0m\n",
            "\u001b[0;31mModuleNotFoundError\u001b[0m: No module named 'yfinance'",
            "",
            "\u001b[0;31m---------------------------------------------------------------------------\u001b[0;32m\nNOTE: If your import is failing due to a missing package, you can\nmanually install dependencies using either !pip or !apt.\n\nTo view examples of installing some common dependencies, click the\n\"Open Examples\" button below.\n\u001b[0;31m---------------------------------------------------------------------------\u001b[0m\n"
          ],
          "errorDetails": {
            "actions": [
              {
                "action": "open_url",
                "actionText": "Open Examples",
                "url": "/notebooks/snippets/importing_libraries.ipynb"
              }
            ]
          }
        }
      ]
    },
    {
      "cell_type": "code",
      "metadata": {
        "id": "BW4tSkcY-Qbn"
      },
      "source": [
        "def find_cointegrated_pairs(data):\n",
        "    n = data.shape[1]\n",
        "    score_matrix = np.zeros((n, n))\n",
        "    pvalue_matrix = np.ones((n, n))\n",
        "    keys = data.keys()\n",
        "    pairs = []\n",
        "    for i in range(n):\n",
        "        for j in range(i+1, n):\n",
        "            S1 = data[keys[i]]\n",
        "            S2 = data[keys[j]]\n",
        "            result = coint(S1, S2)\n",
        "            score = result[0]\n",
        "            pvalue = result[1]\n",
        "            score_matrix[i, j] = score\n",
        "            pvalue_matrix[i, j] = pvalue\n",
        "            if pvalue < 0.05:\n",
        "                pairs.append((keys[i], keys[j]))\n",
        "    return score_matrix, pvalue_matrix, pairs"
      ],
      "execution_count": null,
      "outputs": []
    },
    {
      "cell_type": "markdown",
      "metadata": {
        "id": "7ExiYW8l-Qbq"
      },
      "source": [
        "We are looking through a set of tech companies to see if any of them are cointegrated. We'll start by defining the list of securities we want to look through. Then we'll get the pricing data for each security from the year 2013 - 2018..\n",
        "\n",
        "As mentioned before, we have formulated an economic hypothesis that there is some sort of link between a subset of securities within the tech sector and we want to test whether there are any cointegrated pairs. This incurs significantly less multiple comparisons bias than searching through hundreds of securities and slightly more than forming a hypothesis for an individual test."
      ]
    },
    {
      "cell_type": "code",
      "metadata": {
        "colab": {
          "base_uri": "https://localhost:8080/",
          "height": 454
        },
        "id": "P8p1K80l1Ocy",
        "outputId": "7d0952b1-0302-4b3f-8c32-98825153f020"
      },
      "source": [
        "import investpy\n",
        "\n",
        "stocks = ['AAPL', 'GOOG', 'EBAY']\n",
        "dfs = list()\n",
        "\n",
        "for k, stock in enumerate(stocks):\n",
        "    df = investpy.get_stock_historical_data(stock=stock, \n",
        "                                            country='united states',\n",
        "                                            from_date='01/01/2010',\n",
        "                                            to_date='01/01/2019')['Close']\n",
        "\n",
        "    df = pd.DataFrame(df)\n",
        "    df1 = df.rename(columns = {'Close': f'{stocks[k]}_Close'}, inplace = False)\n",
        "\n",
        "    dfs.append(df1)\n",
        "\n",
        "# dfs2 = list()\n",
        "\n",
        "# lst = []\n",
        "# for i in len(dfs):\n",
        "#   el = \n",
        "# lst = []\n",
        "# for i in range(len(dfs)):\n",
        "#   b = f\"dfs{[i]}\"\n",
        "#   lst.append(b)\n",
        "# b = print('[' + ', '.join(lst) + ']')\n",
        "\n",
        "\n",
        "\n",
        "# lst = [dfs[0], dfs[1]]\n",
        "\n",
        "# pd.concat([dfs[0], dfs[1], dfs[2]], axis = 1)\n",
        "max_lenths_of_list_dfs = max(dfs, key=len)\n",
        "data = pd.DataFrame(max_lenths_of_list_dfs.index)\n",
        "\n",
        "\n",
        "columns = [stocks]\n",
        "dfs2 = pd.DataFrame(list(map(np.ravel, dfs)))\n",
        "dfs2 = np.transpose(dfs2)\n",
        "dfs2.columns = stocks\n",
        "dfs2 = pd.concat([dfs2, data], axis = 1)\n",
        "dfs2.set_index('Date')\n",
        "\n",
        "\n",
        "# pd.concat([dfs], axis = 1)\n",
        "# for k, ind in enumerate(dfs):\n",
        "#   dfs1=pd.concat([dfs[k],dfs[k-1]], axis = 1)\n",
        "#   dfs2.append(dfs1)\n",
        "# dfs2 = pd.DataFrame(dfs2[0])\n",
        "# dfs2\n",
        "\n",
        "\n",
        "# dfs1 = pd.concat([dfs[0], dfs[1]], axis=1)\n",
        "# dfs1\n",
        "# dfs2 = pd.DataFrame()\n",
        "# for k, ind in enumerate(dfs):\n",
        "#   dfs2.append(dfs[k])\n",
        "# dfs2 \n",
        "\n",
        "# dfs2 = pd.DataFrame([])\n",
        "# for k, ind in enumerate(dfs):\n",
        "#   dfs1 = pd.concat([dfs[k-1], dfs[k]], axis=1)\n",
        "#   dfs2.append(dfs1)\n",
        "#   # print(dfs1)\n",
        "# dfs2"
      ],
      "execution_count": 9,
      "outputs": [
        {
          "output_type": "execute_result",
          "data": {
            "text/html": [
              "<div>\n",
              "<style scoped>\n",
              "    .dataframe tbody tr th:only-of-type {\n",
              "        vertical-align: middle;\n",
              "    }\n",
              "\n",
              "    .dataframe tbody tr th {\n",
              "        vertical-align: top;\n",
              "    }\n",
              "\n",
              "    .dataframe thead th {\n",
              "        text-align: right;\n",
              "    }\n",
              "</style>\n",
              "<table border=\"1\" class=\"dataframe\">\n",
              "  <thead>\n",
              "    <tr style=\"text-align: right;\">\n",
              "      <th></th>\n",
              "      <th>AAPL</th>\n",
              "      <th>GOOG</th>\n",
              "      <th>EBAY</th>\n",
              "    </tr>\n",
              "    <tr>\n",
              "      <th>Date</th>\n",
              "      <th></th>\n",
              "      <th></th>\n",
              "      <th></th>\n",
              "    </tr>\n",
              "  </thead>\n",
              "  <tbody>\n",
              "    <tr>\n",
              "      <th>2010-01-04</th>\n",
              "      <td>7.64</td>\n",
              "      <td>558.5</td>\n",
              "      <td>10.06</td>\n",
              "    </tr>\n",
              "    <tr>\n",
              "      <th>2010-01-05</th>\n",
              "      <td>7.66</td>\n",
              "      <td>555.5</td>\n",
              "      <td>9.95</td>\n",
              "    </tr>\n",
              "    <tr>\n",
              "      <th>2010-01-06</th>\n",
              "      <td>7.53</td>\n",
              "      <td>565.6</td>\n",
              "      <td>9.89</td>\n",
              "    </tr>\n",
              "    <tr>\n",
              "      <th>2010-01-07</th>\n",
              "      <td>7.52</td>\n",
              "      <td>565.5</td>\n",
              "      <td>9.78</td>\n",
              "    </tr>\n",
              "    <tr>\n",
              "      <th>2010-01-08</th>\n",
              "      <td>7.57</td>\n",
              "      <td>568.2</td>\n",
              "      <td>9.89</td>\n",
              "    </tr>\n",
              "    <tr>\n",
              "      <th>...</th>\n",
              "      <td>...</td>\n",
              "      <td>...</td>\n",
              "      <td>...</td>\n",
              "    </tr>\n",
              "    <tr>\n",
              "      <th>2018-12-24</th>\n",
              "      <td>36.71</td>\n",
              "      <td>NaN</td>\n",
              "      <td>26.14</td>\n",
              "    </tr>\n",
              "    <tr>\n",
              "      <th>2018-12-26</th>\n",
              "      <td>39.29</td>\n",
              "      <td>NaN</td>\n",
              "      <td>27.85</td>\n",
              "    </tr>\n",
              "    <tr>\n",
              "      <th>2018-12-27</th>\n",
              "      <td>39.04</td>\n",
              "      <td>NaN</td>\n",
              "      <td>28.03</td>\n",
              "    </tr>\n",
              "    <tr>\n",
              "      <th>2018-12-28</th>\n",
              "      <td>39.06</td>\n",
              "      <td>NaN</td>\n",
              "      <td>28.24</td>\n",
              "    </tr>\n",
              "    <tr>\n",
              "      <th>2018-12-31</th>\n",
              "      <td>39.44</td>\n",
              "      <td>NaN</td>\n",
              "      <td>28.07</td>\n",
              "    </tr>\n",
              "  </tbody>\n",
              "</table>\n",
              "<p>2265 rows × 3 columns</p>\n",
              "</div>"
            ],
            "text/plain": [
              "             AAPL   GOOG   EBAY\n",
              "Date                           \n",
              "2010-01-04   7.64  558.5  10.06\n",
              "2010-01-05   7.66  555.5   9.95\n",
              "2010-01-06   7.53  565.6   9.89\n",
              "2010-01-07   7.52  565.5   9.78\n",
              "2010-01-08   7.57  568.2   9.89\n",
              "...           ...    ...    ...\n",
              "2018-12-24  36.71    NaN  26.14\n",
              "2018-12-26  39.29    NaN  27.85\n",
              "2018-12-27  39.04    NaN  28.03\n",
              "2018-12-28  39.06    NaN  28.24\n",
              "2018-12-31  39.44    NaN  28.07\n",
              "\n",
              "[2265 rows x 3 columns]"
            ]
          },
          "metadata": {},
          "execution_count": 9
        }
      ]
    },
    {
      "cell_type": "code",
      "metadata": {
        "colab": {
          "base_uri": "https://localhost:8080/"
        },
        "id": "wzKBX8k-J0ro",
        "outputId": "87733f61-69ec-463e-94df-0958739a94d5"
      },
      "source": [
        "len(list(dfs[0].index))"
      ],
      "execution_count": 27,
      "outputs": [
        {
          "output_type": "execute_result",
          "data": {
            "text/plain": [
              "2265"
            ]
          },
          "metadata": {},
          "execution_count": 27
        }
      ]
    },
    {
      "cell_type": "code",
      "metadata": {
        "id": "SgIvJs4SPFut"
      },
      "source": [
        "max_lenths_of_list_dfs = max(dfs, key=len)"
      ],
      "execution_count": 6,
      "outputs": []
    },
    {
      "cell_type": "code",
      "metadata": {
        "id": "B0TPf7eQPTbq"
      },
      "source": [
        "data = pd.DataFrame(max_lenths_of_list_dfs.index)"
      ],
      "execution_count": 7,
      "outputs": []
    },
    {
      "cell_type": "code",
      "metadata": {
        "colab": {
          "base_uri": "https://localhost:8080/",
          "height": 424
        },
        "id": "IkUMh1B3PWqP",
        "outputId": "376a4491-01f6-47f7-988c-4e3a8008568b"
      },
      "source": [
        "data"
      ],
      "execution_count": 8,
      "outputs": [
        {
          "output_type": "execute_result",
          "data": {
            "text/html": [
              "<div>\n",
              "<style scoped>\n",
              "    .dataframe tbody tr th:only-of-type {\n",
              "        vertical-align: middle;\n",
              "    }\n",
              "\n",
              "    .dataframe tbody tr th {\n",
              "        vertical-align: top;\n",
              "    }\n",
              "\n",
              "    .dataframe thead th {\n",
              "        text-align: right;\n",
              "    }\n",
              "</style>\n",
              "<table border=\"1\" class=\"dataframe\">\n",
              "  <thead>\n",
              "    <tr style=\"text-align: right;\">\n",
              "      <th></th>\n",
              "      <th>Date</th>\n",
              "    </tr>\n",
              "  </thead>\n",
              "  <tbody>\n",
              "    <tr>\n",
              "      <th>0</th>\n",
              "      <td>2010-01-04</td>\n",
              "    </tr>\n",
              "    <tr>\n",
              "      <th>1</th>\n",
              "      <td>2010-01-05</td>\n",
              "    </tr>\n",
              "    <tr>\n",
              "      <th>2</th>\n",
              "      <td>2010-01-06</td>\n",
              "    </tr>\n",
              "    <tr>\n",
              "      <th>3</th>\n",
              "      <td>2010-01-07</td>\n",
              "    </tr>\n",
              "    <tr>\n",
              "      <th>4</th>\n",
              "      <td>2010-01-08</td>\n",
              "    </tr>\n",
              "    <tr>\n",
              "      <th>...</th>\n",
              "      <td>...</td>\n",
              "    </tr>\n",
              "    <tr>\n",
              "      <th>2260</th>\n",
              "      <td>2018-12-24</td>\n",
              "    </tr>\n",
              "    <tr>\n",
              "      <th>2261</th>\n",
              "      <td>2018-12-26</td>\n",
              "    </tr>\n",
              "    <tr>\n",
              "      <th>2262</th>\n",
              "      <td>2018-12-27</td>\n",
              "    </tr>\n",
              "    <tr>\n",
              "      <th>2263</th>\n",
              "      <td>2018-12-28</td>\n",
              "    </tr>\n",
              "    <tr>\n",
              "      <th>2264</th>\n",
              "      <td>2018-12-31</td>\n",
              "    </tr>\n",
              "  </tbody>\n",
              "</table>\n",
              "<p>2265 rows × 1 columns</p>\n",
              "</div>"
            ],
            "text/plain": [
              "           Date\n",
              "0    2010-01-04\n",
              "1    2010-01-05\n",
              "2    2010-01-06\n",
              "3    2010-01-07\n",
              "4    2010-01-08\n",
              "...         ...\n",
              "2260 2018-12-24\n",
              "2261 2018-12-26\n",
              "2262 2018-12-27\n",
              "2263 2018-12-28\n",
              "2264 2018-12-31\n",
              "\n",
              "[2265 rows x 1 columns]"
            ]
          },
          "metadata": {},
          "execution_count": 8
        }
      ]
    },
    {
      "cell_type": "code",
      "metadata": {
        "id": "cAxtpTx7Kc51"
      },
      "source": [
        "data = pd.DataFrame(dfs[0].index)"
      ],
      "execution_count": 30,
      "outputs": []
    },
    {
      "cell_type": "code",
      "metadata": {
        "id": "oLIqiPIDPSB0"
      },
      "source": [
        ""
      ],
      "execution_count": null,
      "outputs": []
    },
    {
      "cell_type": "code",
      "metadata": {
        "colab": {
          "base_uri": "https://localhost:8080/",
          "height": 424
        },
        "id": "mjYO5Us6KjLr",
        "outputId": "1eda3255-a438-426c-8511-22647c4aa96b"
      },
      "source": [
        "data"
      ],
      "execution_count": 31,
      "outputs": [
        {
          "output_type": "execute_result",
          "data": {
            "text/html": [
              "<div>\n",
              "<style scoped>\n",
              "    .dataframe tbody tr th:only-of-type {\n",
              "        vertical-align: middle;\n",
              "    }\n",
              "\n",
              "    .dataframe tbody tr th {\n",
              "        vertical-align: top;\n",
              "    }\n",
              "\n",
              "    .dataframe thead th {\n",
              "        text-align: right;\n",
              "    }\n",
              "</style>\n",
              "<table border=\"1\" class=\"dataframe\">\n",
              "  <thead>\n",
              "    <tr style=\"text-align: right;\">\n",
              "      <th></th>\n",
              "      <th>Date</th>\n",
              "    </tr>\n",
              "  </thead>\n",
              "  <tbody>\n",
              "    <tr>\n",
              "      <th>0</th>\n",
              "      <td>2010-01-04</td>\n",
              "    </tr>\n",
              "    <tr>\n",
              "      <th>1</th>\n",
              "      <td>2010-01-05</td>\n",
              "    </tr>\n",
              "    <tr>\n",
              "      <th>2</th>\n",
              "      <td>2010-01-06</td>\n",
              "    </tr>\n",
              "    <tr>\n",
              "      <th>3</th>\n",
              "      <td>2010-01-07</td>\n",
              "    </tr>\n",
              "    <tr>\n",
              "      <th>4</th>\n",
              "      <td>2010-01-08</td>\n",
              "    </tr>\n",
              "    <tr>\n",
              "      <th>...</th>\n",
              "      <td>...</td>\n",
              "    </tr>\n",
              "    <tr>\n",
              "      <th>2260</th>\n",
              "      <td>2018-12-24</td>\n",
              "    </tr>\n",
              "    <tr>\n",
              "      <th>2261</th>\n",
              "      <td>2018-12-26</td>\n",
              "    </tr>\n",
              "    <tr>\n",
              "      <th>2262</th>\n",
              "      <td>2018-12-27</td>\n",
              "    </tr>\n",
              "    <tr>\n",
              "      <th>2263</th>\n",
              "      <td>2018-12-28</td>\n",
              "    </tr>\n",
              "    <tr>\n",
              "      <th>2264</th>\n",
              "      <td>2018-12-31</td>\n",
              "    </tr>\n",
              "  </tbody>\n",
              "</table>\n",
              "<p>2265 rows × 1 columns</p>\n",
              "</div>"
            ],
            "text/plain": [
              "           Date\n",
              "0    2010-01-04\n",
              "1    2010-01-05\n",
              "2    2010-01-06\n",
              "3    2010-01-07\n",
              "4    2010-01-08\n",
              "...         ...\n",
              "2260 2018-12-24\n",
              "2261 2018-12-26\n",
              "2262 2018-12-27\n",
              "2263 2018-12-28\n",
              "2264 2018-12-31\n",
              "\n",
              "[2265 rows x 1 columns]"
            ]
          },
          "metadata": {},
          "execution_count": 31
        }
      ]
    },
    {
      "cell_type": "code",
      "metadata": {
        "colab": {
          "base_uri": "https://localhost:8080/"
        },
        "id": "voB1JPoSO5bZ",
        "outputId": "c9de8d9f-761e-4e4a-974c-6ce83cdda4bd"
      },
      "source": [
        "len(max(dfs, key=len))"
      ],
      "execution_count": 5,
      "outputs": [
        {
          "output_type": "execute_result",
          "data": {
            "text/plain": [
              "2265"
            ]
          },
          "metadata": {},
          "execution_count": 5
        }
      ]
    },
    {
      "cell_type": "code",
      "metadata": {
        "colab": {
          "base_uri": "https://localhost:8080/",
          "height": 200
        },
        "id": "EwpGvPb3GpSv",
        "outputId": "d427920e-5a2b-46b4-d286-bc742f14adc2"
      },
      "source": [
        "pd.DataFrame(np.concatenate(dfs, axis = 1))"
      ],
      "execution_count": 18,
      "outputs": [
        {
          "output_type": "error",
          "ename": "ValueError",
          "evalue": "ignored",
          "traceback": [
            "\u001b[0;31m---------------------------------------------------------------------------\u001b[0m",
            "\u001b[0;31mValueError\u001b[0m                                Traceback (most recent call last)",
            "\u001b[0;32m<ipython-input-18-016ffce75db3>\u001b[0m in \u001b[0;36m<module>\u001b[0;34m()\u001b[0m\n\u001b[0;32m----> 1\u001b[0;31m \u001b[0mpd\u001b[0m\u001b[0;34m.\u001b[0m\u001b[0mDataFrame\u001b[0m\u001b[0;34m(\u001b[0m\u001b[0mnp\u001b[0m\u001b[0;34m.\u001b[0m\u001b[0mconcatenate\u001b[0m\u001b[0;34m(\u001b[0m\u001b[0mdfs\u001b[0m\u001b[0;34m,\u001b[0m \u001b[0maxis\u001b[0m \u001b[0;34m=\u001b[0m \u001b[0;36m1\u001b[0m\u001b[0;34m)\u001b[0m\u001b[0;34m)\u001b[0m\u001b[0;34m\u001b[0m\u001b[0;34m\u001b[0m\u001b[0m\n\u001b[0m",
            "\u001b[0;32m<__array_function__ internals>\u001b[0m in \u001b[0;36mconcatenate\u001b[0;34m(*args, **kwargs)\u001b[0m\n",
            "\u001b[0;31mValueError\u001b[0m: all the input array dimensions for the concatenation axis must match exactly, but along dimension 0, the array at index 0 has size 2265 and the array at index 1 has size 1200"
          ]
        }
      ]
    },
    {
      "cell_type": "code",
      "metadata": {
        "colab": {
          "base_uri": "https://localhost:8080/"
        },
        "id": "XYP0d3YGIcZQ",
        "outputId": "ba8c64e3-7bd3-4438-c078-12c536b3fd42"
      },
      "source": [
        " np.array(dfs).shape"
      ],
      "execution_count": 19,
      "outputs": [
        {
          "output_type": "stream",
          "name": "stderr",
          "text": [
            "/usr/local/lib/python3.7/dist-packages/ipykernel_launcher.py:1: VisibleDeprecationWarning: Creating an ndarray from ragged nested sequences (which is a list-or-tuple of lists-or-tuples-or ndarrays with different lengths or shapes) is deprecated. If you meant to do this, you must specify 'dtype=object' when creating the ndarray\n",
            "  \"\"\"Entry point for launching an IPython kernel.\n"
          ]
        },
        {
          "output_type": "execute_result",
          "data": {
            "text/plain": [
              "(3,)"
            ]
          },
          "metadata": {},
          "execution_count": 19
        }
      ]
    },
    {
      "cell_type": "code",
      "metadata": {
        "colab": {
          "base_uri": "https://localhost:8080/",
          "height": 345
        },
        "id": "TzW0JlBFIsEr",
        "outputId": "2c1274e8-fc94-441c-b356-46d709f07d59"
      },
      "source": [
        "pd.Series(dfs).apply(lambda x : pd.Series(x[0]))"
      ],
      "execution_count": 21,
      "outputs": [
        {
          "output_type": "error",
          "ename": "ValueError",
          "evalue": "ignored",
          "traceback": [
            "\u001b[0;31m---------------------------------------------------------------------------\u001b[0m",
            "\u001b[0;31mValueError\u001b[0m                                Traceback (most recent call last)",
            "\u001b[0;32m<ipython-input-21-9aa99e66a44b>\u001b[0m in \u001b[0;36m<module>\u001b[0;34m()\u001b[0m\n\u001b[0;32m----> 1\u001b[0;31m \u001b[0mpd\u001b[0m\u001b[0;34m.\u001b[0m\u001b[0mSeries\u001b[0m\u001b[0;34m(\u001b[0m\u001b[0mdfs\u001b[0m\u001b[0;34m)\u001b[0m\u001b[0;34m.\u001b[0m\u001b[0mapply\u001b[0m\u001b[0;34m(\u001b[0m\u001b[0;32mlambda\u001b[0m \u001b[0mx\u001b[0m \u001b[0;34m:\u001b[0m \u001b[0mpd\u001b[0m\u001b[0;34m.\u001b[0m\u001b[0mSeries\u001b[0m\u001b[0;34m(\u001b[0m\u001b[0mx\u001b[0m\u001b[0;34m)\u001b[0m\u001b[0;34m)\u001b[0m\u001b[0;34m\u001b[0m\u001b[0;34m\u001b[0m\u001b[0m\n\u001b[0m",
            "\u001b[0;32m/usr/local/lib/python3.7/dist-packages/pandas/core/series.py\u001b[0m in \u001b[0;36mapply\u001b[0;34m(self, func, convert_dtype, args, **kwds)\u001b[0m\n\u001b[1;32m   4211\u001b[0m             \u001b[0;32melse\u001b[0m\u001b[0;34m:\u001b[0m\u001b[0;34m\u001b[0m\u001b[0;34m\u001b[0m\u001b[0m\n\u001b[1;32m   4212\u001b[0m                 \u001b[0mvalues\u001b[0m \u001b[0;34m=\u001b[0m \u001b[0mself\u001b[0m\u001b[0;34m.\u001b[0m\u001b[0mastype\u001b[0m\u001b[0;34m(\u001b[0m\u001b[0mobject\u001b[0m\u001b[0;34m)\u001b[0m\u001b[0;34m.\u001b[0m\u001b[0m_values\u001b[0m\u001b[0;34m\u001b[0m\u001b[0;34m\u001b[0m\u001b[0m\n\u001b[0;32m-> 4213\u001b[0;31m                 \u001b[0mmapped\u001b[0m \u001b[0;34m=\u001b[0m \u001b[0mlib\u001b[0m\u001b[0;34m.\u001b[0m\u001b[0mmap_infer\u001b[0m\u001b[0;34m(\u001b[0m\u001b[0mvalues\u001b[0m\u001b[0;34m,\u001b[0m \u001b[0mf\u001b[0m\u001b[0;34m,\u001b[0m \u001b[0mconvert\u001b[0m\u001b[0;34m=\u001b[0m\u001b[0mconvert_dtype\u001b[0m\u001b[0;34m)\u001b[0m\u001b[0;34m\u001b[0m\u001b[0;34m\u001b[0m\u001b[0m\n\u001b[0m\u001b[1;32m   4214\u001b[0m \u001b[0;34m\u001b[0m\u001b[0m\n\u001b[1;32m   4215\u001b[0m         \u001b[0;32mif\u001b[0m \u001b[0mlen\u001b[0m\u001b[0;34m(\u001b[0m\u001b[0mmapped\u001b[0m\u001b[0;34m)\u001b[0m \u001b[0;32mand\u001b[0m \u001b[0misinstance\u001b[0m\u001b[0;34m(\u001b[0m\u001b[0mmapped\u001b[0m\u001b[0;34m[\u001b[0m\u001b[0;36m0\u001b[0m\u001b[0;34m]\u001b[0m\u001b[0;34m,\u001b[0m \u001b[0mSeries\u001b[0m\u001b[0;34m)\u001b[0m\u001b[0;34m:\u001b[0m\u001b[0;34m\u001b[0m\u001b[0;34m\u001b[0m\u001b[0m\n",
            "\u001b[0;32mpandas/_libs/lib.pyx\u001b[0m in \u001b[0;36mpandas._libs.lib.map_infer\u001b[0;34m()\u001b[0m\n",
            "\u001b[0;32m<ipython-input-21-9aa99e66a44b>\u001b[0m in \u001b[0;36m<lambda>\u001b[0;34m(x)\u001b[0m\n\u001b[0;32m----> 1\u001b[0;31m \u001b[0mpd\u001b[0m\u001b[0;34m.\u001b[0m\u001b[0mSeries\u001b[0m\u001b[0;34m(\u001b[0m\u001b[0mdfs\u001b[0m\u001b[0;34m)\u001b[0m\u001b[0;34m.\u001b[0m\u001b[0mapply\u001b[0m\u001b[0;34m(\u001b[0m\u001b[0;32mlambda\u001b[0m \u001b[0mx\u001b[0m \u001b[0;34m:\u001b[0m \u001b[0mpd\u001b[0m\u001b[0;34m.\u001b[0m\u001b[0mSeries\u001b[0m\u001b[0;34m(\u001b[0m\u001b[0mx\u001b[0m\u001b[0;34m)\u001b[0m\u001b[0;34m)\u001b[0m\u001b[0;34m\u001b[0m\u001b[0;34m\u001b[0m\u001b[0m\n\u001b[0m",
            "\u001b[0;32m/usr/local/lib/python3.7/dist-packages/pandas/core/series.py\u001b[0m in \u001b[0;36m__init__\u001b[0;34m(self, data, index, dtype, name, copy, fastpath)\u001b[0m\n\u001b[1;32m    229\u001b[0m             \u001b[0mname\u001b[0m \u001b[0;34m=\u001b[0m \u001b[0mibase\u001b[0m\u001b[0;34m.\u001b[0m\u001b[0mmaybe_extract_name\u001b[0m\u001b[0;34m(\u001b[0m\u001b[0mname\u001b[0m\u001b[0;34m,\u001b[0m \u001b[0mdata\u001b[0m\u001b[0;34m,\u001b[0m \u001b[0mtype\u001b[0m\u001b[0;34m(\u001b[0m\u001b[0mself\u001b[0m\u001b[0;34m)\u001b[0m\u001b[0;34m)\u001b[0m\u001b[0;34m\u001b[0m\u001b[0;34m\u001b[0m\u001b[0m\n\u001b[1;32m    230\u001b[0m \u001b[0;34m\u001b[0m\u001b[0m\n\u001b[0;32m--> 231\u001b[0;31m             \u001b[0;32mif\u001b[0m \u001b[0mis_empty_data\u001b[0m\u001b[0;34m(\u001b[0m\u001b[0mdata\u001b[0m\u001b[0;34m)\u001b[0m \u001b[0;32mand\u001b[0m \u001b[0mdtype\u001b[0m \u001b[0;32mis\u001b[0m \u001b[0;32mNone\u001b[0m\u001b[0;34m:\u001b[0m\u001b[0;34m\u001b[0m\u001b[0;34m\u001b[0m\u001b[0m\n\u001b[0m\u001b[1;32m    232\u001b[0m                 \u001b[0;31m# gh-17261\u001b[0m\u001b[0;34m\u001b[0m\u001b[0;34m\u001b[0m\u001b[0;34m\u001b[0m\u001b[0m\n\u001b[1;32m    233\u001b[0m                 warnings.warn(\n",
            "\u001b[0;32m/usr/local/lib/python3.7/dist-packages/pandas/core/construction.py\u001b[0m in \u001b[0;36mis_empty_data\u001b[0;34m(data)\u001b[0m\n\u001b[1;32m    594\u001b[0m     \u001b[0mis_none\u001b[0m \u001b[0;34m=\u001b[0m \u001b[0mdata\u001b[0m \u001b[0;32mis\u001b[0m \u001b[0;32mNone\u001b[0m\u001b[0;34m\u001b[0m\u001b[0;34m\u001b[0m\u001b[0m\n\u001b[1;32m    595\u001b[0m     \u001b[0mis_list_like_without_dtype\u001b[0m \u001b[0;34m=\u001b[0m \u001b[0mis_list_like\u001b[0m\u001b[0;34m(\u001b[0m\u001b[0mdata\u001b[0m\u001b[0;34m)\u001b[0m \u001b[0;32mand\u001b[0m \u001b[0;32mnot\u001b[0m \u001b[0mhasattr\u001b[0m\u001b[0;34m(\u001b[0m\u001b[0mdata\u001b[0m\u001b[0;34m,\u001b[0m \u001b[0;34m\"dtype\"\u001b[0m\u001b[0;34m)\u001b[0m\u001b[0;34m\u001b[0m\u001b[0;34m\u001b[0m\u001b[0m\n\u001b[0;32m--> 596\u001b[0;31m     \u001b[0mis_simple_empty\u001b[0m \u001b[0;34m=\u001b[0m \u001b[0mis_list_like_without_dtype\u001b[0m \u001b[0;32mand\u001b[0m \u001b[0;32mnot\u001b[0m \u001b[0mdata\u001b[0m\u001b[0;34m\u001b[0m\u001b[0;34m\u001b[0m\u001b[0m\n\u001b[0m\u001b[1;32m    597\u001b[0m     \u001b[0;32mreturn\u001b[0m \u001b[0mis_none\u001b[0m \u001b[0;32mor\u001b[0m \u001b[0mis_simple_empty\u001b[0m\u001b[0;34m\u001b[0m\u001b[0;34m\u001b[0m\u001b[0m\n\u001b[1;32m    598\u001b[0m \u001b[0;34m\u001b[0m\u001b[0m\n",
            "\u001b[0;32m/usr/local/lib/python3.7/dist-packages/pandas/core/generic.py\u001b[0m in \u001b[0;36m__nonzero__\u001b[0;34m(self)\u001b[0m\n\u001b[1;32m   1328\u001b[0m     \u001b[0;32mdef\u001b[0m \u001b[0m__nonzero__\u001b[0m\u001b[0;34m(\u001b[0m\u001b[0mself\u001b[0m\u001b[0;34m)\u001b[0m\u001b[0;34m:\u001b[0m\u001b[0;34m\u001b[0m\u001b[0;34m\u001b[0m\u001b[0m\n\u001b[1;32m   1329\u001b[0m         raise ValueError(\n\u001b[0;32m-> 1330\u001b[0;31m             \u001b[0;34mf\"The truth value of a {type(self).__name__} is ambiguous. \"\u001b[0m\u001b[0;34m\u001b[0m\u001b[0;34m\u001b[0m\u001b[0m\n\u001b[0m\u001b[1;32m   1331\u001b[0m             \u001b[0;34m\"Use a.empty, a.bool(), a.item(), a.any() or a.all().\"\u001b[0m\u001b[0;34m\u001b[0m\u001b[0;34m\u001b[0m\u001b[0m\n\u001b[1;32m   1332\u001b[0m         )\n",
            "\u001b[0;31mValueError\u001b[0m: The truth value of a DataFrame is ambiguous. Use a.empty, a.bool(), a.item(), a.any() or a.all()."
          ]
        }
      ]
    },
    {
      "cell_type": "code",
      "metadata": {
        "colab": {
          "base_uri": "https://localhost:8080/",
          "height": 454
        },
        "id": "MrWVRXoGHUzL",
        "outputId": "d4b86d06-bb89-42fc-d206-772a489f8a55"
      },
      "source": [
        "columns = [stocks]\n",
        "dfs2 = pd.DataFrame(list(map(np.ravel, dfs)))\n",
        "dfs2 = np.transpose(dfs2)\n",
        "dfs2.columns = stocks\n",
        "dfs2 = pd.concat([dfs2, data], axis = 1)\n",
        "dfs2.set_index('Date')\n"
      ],
      "execution_count": 62,
      "outputs": [
        {
          "output_type": "execute_result",
          "data": {
            "text/html": [
              "<div>\n",
              "<style scoped>\n",
              "    .dataframe tbody tr th:only-of-type {\n",
              "        vertical-align: middle;\n",
              "    }\n",
              "\n",
              "    .dataframe tbody tr th {\n",
              "        vertical-align: top;\n",
              "    }\n",
              "\n",
              "    .dataframe thead th {\n",
              "        text-align: right;\n",
              "    }\n",
              "</style>\n",
              "<table border=\"1\" class=\"dataframe\">\n",
              "  <thead>\n",
              "    <tr style=\"text-align: right;\">\n",
              "      <th></th>\n",
              "      <th>AAPL</th>\n",
              "      <th>GOOG</th>\n",
              "      <th>EBAY</th>\n",
              "    </tr>\n",
              "    <tr>\n",
              "      <th>Date</th>\n",
              "      <th></th>\n",
              "      <th></th>\n",
              "      <th></th>\n",
              "    </tr>\n",
              "  </thead>\n",
              "  <tbody>\n",
              "    <tr>\n",
              "      <th>2010-01-04</th>\n",
              "      <td>7.64</td>\n",
              "      <td>558.5</td>\n",
              "      <td>10.06</td>\n",
              "    </tr>\n",
              "    <tr>\n",
              "      <th>2010-01-05</th>\n",
              "      <td>7.66</td>\n",
              "      <td>555.5</td>\n",
              "      <td>9.95</td>\n",
              "    </tr>\n",
              "    <tr>\n",
              "      <th>2010-01-06</th>\n",
              "      <td>7.53</td>\n",
              "      <td>565.6</td>\n",
              "      <td>9.89</td>\n",
              "    </tr>\n",
              "    <tr>\n",
              "      <th>2010-01-07</th>\n",
              "      <td>7.52</td>\n",
              "      <td>565.5</td>\n",
              "      <td>9.78</td>\n",
              "    </tr>\n",
              "    <tr>\n",
              "      <th>2010-01-08</th>\n",
              "      <td>7.57</td>\n",
              "      <td>568.2</td>\n",
              "      <td>9.89</td>\n",
              "    </tr>\n",
              "    <tr>\n",
              "      <th>...</th>\n",
              "      <td>...</td>\n",
              "      <td>...</td>\n",
              "      <td>...</td>\n",
              "    </tr>\n",
              "    <tr>\n",
              "      <th>2018-12-24</th>\n",
              "      <td>36.71</td>\n",
              "      <td>NaN</td>\n",
              "      <td>26.14</td>\n",
              "    </tr>\n",
              "    <tr>\n",
              "      <th>2018-12-26</th>\n",
              "      <td>39.29</td>\n",
              "      <td>NaN</td>\n",
              "      <td>27.85</td>\n",
              "    </tr>\n",
              "    <tr>\n",
              "      <th>2018-12-27</th>\n",
              "      <td>39.04</td>\n",
              "      <td>NaN</td>\n",
              "      <td>28.03</td>\n",
              "    </tr>\n",
              "    <tr>\n",
              "      <th>2018-12-28</th>\n",
              "      <td>39.06</td>\n",
              "      <td>NaN</td>\n",
              "      <td>28.24</td>\n",
              "    </tr>\n",
              "    <tr>\n",
              "      <th>2018-12-31</th>\n",
              "      <td>39.44</td>\n",
              "      <td>NaN</td>\n",
              "      <td>28.07</td>\n",
              "    </tr>\n",
              "  </tbody>\n",
              "</table>\n",
              "<p>2265 rows × 3 columns</p>\n",
              "</div>"
            ],
            "text/plain": [
              "             AAPL   GOOG   EBAY\n",
              "Date                           \n",
              "2010-01-04   7.64  558.5  10.06\n",
              "2010-01-05   7.66  555.5   9.95\n",
              "2010-01-06   7.53  565.6   9.89\n",
              "2010-01-07   7.52  565.5   9.78\n",
              "2010-01-08   7.57  568.2   9.89\n",
              "...           ...    ...    ...\n",
              "2018-12-24  36.71    NaN  26.14\n",
              "2018-12-26  39.29    NaN  27.85\n",
              "2018-12-27  39.04    NaN  28.03\n",
              "2018-12-28  39.06    NaN  28.24\n",
              "2018-12-31  39.44    NaN  28.07\n",
              "\n",
              "[2265 rows x 3 columns]"
            ]
          },
          "metadata": {},
          "execution_count": 62
        }
      ]
    },
    {
      "cell_type": "code",
      "metadata": {
        "colab": {
          "base_uri": "https://localhost:8080/"
        },
        "id": "cxd9bo-mLemq",
        "outputId": "1ac05e7b-c107-4b84-8712-05434280c804"
      },
      "source": [
        "stocks.append"
      ],
      "execution_count": 36,
      "outputs": [
        {
          "output_type": "execute_result",
          "data": {
            "text/plain": [
              "['AAPL', 'GOOG', 'EBAY']"
            ]
          },
          "metadata": {},
          "execution_count": 36
        }
      ]
    },
    {
      "cell_type": "code",
      "metadata": {
        "id": "i60GKeTPMud-"
      },
      "source": [
        "stocks.insert(0, 'Date')"
      ],
      "execution_count": 57,
      "outputs": []
    },
    {
      "cell_type": "code",
      "metadata": {
        "colab": {
          "base_uri": "https://localhost:8080/"
        },
        "id": "__7JJTx-NPAD",
        "outputId": "31637e3b-8d0c-48ff-d518-6cf2081a3525"
      },
      "source": [
        "len(stocks)\n",
        "stocks"
      ],
      "execution_count": 58,
      "outputs": [
        {
          "output_type": "execute_result",
          "data": {
            "text/plain": [
              "['Date', 'AAPL', 'GOOG', 'EBAY']"
            ]
          },
          "metadata": {},
          "execution_count": 58
        }
      ]
    },
    {
      "cell_type": "code",
      "metadata": {
        "id": "Af2UbRGsLgCS"
      },
      "source": [
        "my_columns = stocks\n",
        "dfs2.columns = my_columns"
      ],
      "execution_count": 59,
      "outputs": []
    },
    {
      "cell_type": "code",
      "metadata": {
        "colab": {
          "base_uri": "https://localhost:8080/",
          "height": 424
        },
        "id": "HPzzXUQrNopo",
        "outputId": "b22c3a94-b8ff-4238-b7e3-7d84e2423f1e"
      },
      "source": [
        "dfs2"
      ],
      "execution_count": 60,
      "outputs": [
        {
          "output_type": "execute_result",
          "data": {
            "text/html": [
              "<div>\n",
              "<style scoped>\n",
              "    .dataframe tbody tr th:only-of-type {\n",
              "        vertical-align: middle;\n",
              "    }\n",
              "\n",
              "    .dataframe tbody tr th {\n",
              "        vertical-align: top;\n",
              "    }\n",
              "\n",
              "    .dataframe thead th {\n",
              "        text-align: right;\n",
              "    }\n",
              "</style>\n",
              "<table border=\"1\" class=\"dataframe\">\n",
              "  <thead>\n",
              "    <tr style=\"text-align: right;\">\n",
              "      <th></th>\n",
              "      <th>Date</th>\n",
              "      <th>AAPL</th>\n",
              "      <th>GOOG</th>\n",
              "      <th>EBAY</th>\n",
              "    </tr>\n",
              "  </thead>\n",
              "  <tbody>\n",
              "    <tr>\n",
              "      <th>0</th>\n",
              "      <td>7.64</td>\n",
              "      <td>558.5</td>\n",
              "      <td>10.06</td>\n",
              "      <td>2010-01-04</td>\n",
              "    </tr>\n",
              "    <tr>\n",
              "      <th>1</th>\n",
              "      <td>7.66</td>\n",
              "      <td>555.5</td>\n",
              "      <td>9.95</td>\n",
              "      <td>2010-01-05</td>\n",
              "    </tr>\n",
              "    <tr>\n",
              "      <th>2</th>\n",
              "      <td>7.53</td>\n",
              "      <td>565.6</td>\n",
              "      <td>9.89</td>\n",
              "      <td>2010-01-06</td>\n",
              "    </tr>\n",
              "    <tr>\n",
              "      <th>3</th>\n",
              "      <td>7.52</td>\n",
              "      <td>565.5</td>\n",
              "      <td>9.78</td>\n",
              "      <td>2010-01-07</td>\n",
              "    </tr>\n",
              "    <tr>\n",
              "      <th>4</th>\n",
              "      <td>7.57</td>\n",
              "      <td>568.2</td>\n",
              "      <td>9.89</td>\n",
              "      <td>2010-01-08</td>\n",
              "    </tr>\n",
              "    <tr>\n",
              "      <th>...</th>\n",
              "      <td>...</td>\n",
              "      <td>...</td>\n",
              "      <td>...</td>\n",
              "      <td>...</td>\n",
              "    </tr>\n",
              "    <tr>\n",
              "      <th>2260</th>\n",
              "      <td>36.71</td>\n",
              "      <td>NaN</td>\n",
              "      <td>26.14</td>\n",
              "      <td>2018-12-24</td>\n",
              "    </tr>\n",
              "    <tr>\n",
              "      <th>2261</th>\n",
              "      <td>39.29</td>\n",
              "      <td>NaN</td>\n",
              "      <td>27.85</td>\n",
              "      <td>2018-12-26</td>\n",
              "    </tr>\n",
              "    <tr>\n",
              "      <th>2262</th>\n",
              "      <td>39.04</td>\n",
              "      <td>NaN</td>\n",
              "      <td>28.03</td>\n",
              "      <td>2018-12-27</td>\n",
              "    </tr>\n",
              "    <tr>\n",
              "      <th>2263</th>\n",
              "      <td>39.06</td>\n",
              "      <td>NaN</td>\n",
              "      <td>28.24</td>\n",
              "      <td>2018-12-28</td>\n",
              "    </tr>\n",
              "    <tr>\n",
              "      <th>2264</th>\n",
              "      <td>39.44</td>\n",
              "      <td>NaN</td>\n",
              "      <td>28.07</td>\n",
              "      <td>2018-12-31</td>\n",
              "    </tr>\n",
              "  </tbody>\n",
              "</table>\n",
              "<p>2265 rows × 4 columns</p>\n",
              "</div>"
            ],
            "text/plain": [
              "       Date   AAPL   GOOG       EBAY\n",
              "0      7.64  558.5  10.06 2010-01-04\n",
              "1      7.66  555.5   9.95 2010-01-05\n",
              "2      7.53  565.6   9.89 2010-01-06\n",
              "3      7.52  565.5   9.78 2010-01-07\n",
              "4      7.57  568.2   9.89 2010-01-08\n",
              "...     ...    ...    ...        ...\n",
              "2260  36.71    NaN  26.14 2018-12-24\n",
              "2261  39.29    NaN  27.85 2018-12-26\n",
              "2262  39.04    NaN  28.03 2018-12-27\n",
              "2263  39.06    NaN  28.24 2018-12-28\n",
              "2264  39.44    NaN  28.07 2018-12-31\n",
              "\n",
              "[2265 rows x 4 columns]"
            ]
          },
          "metadata": {},
          "execution_count": 60
        }
      ]
    },
    {
      "cell_type": "code",
      "metadata": {
        "id": "pPTWc1DAMRwh"
      },
      "source": [
        "df = pd.DataFrame([range(3), range(3), range(3)])"
      ],
      "execution_count": 44,
      "outputs": []
    },
    {
      "cell_type": "code",
      "metadata": {
        "id": "6u_wv3gUMVM1"
      },
      "source": [
        "my_columns = [\"a\", \"b\", \"c\"]\n",
        "df.columns = my_columns"
      ],
      "execution_count": 45,
      "outputs": []
    },
    {
      "cell_type": "code",
      "metadata": {
        "colab": {
          "base_uri": "https://localhost:8080/",
          "height": 144
        },
        "id": "BgWAkYvMMdKH",
        "outputId": "874ab194-db05-464a-a7f0-d66936c6c988"
      },
      "source": [
        "df"
      ],
      "execution_count": 46,
      "outputs": [
        {
          "output_type": "execute_result",
          "data": {
            "text/html": [
              "<div>\n",
              "<style scoped>\n",
              "    .dataframe tbody tr th:only-of-type {\n",
              "        vertical-align: middle;\n",
              "    }\n",
              "\n",
              "    .dataframe tbody tr th {\n",
              "        vertical-align: top;\n",
              "    }\n",
              "\n",
              "    .dataframe thead th {\n",
              "        text-align: right;\n",
              "    }\n",
              "</style>\n",
              "<table border=\"1\" class=\"dataframe\">\n",
              "  <thead>\n",
              "    <tr style=\"text-align: right;\">\n",
              "      <th></th>\n",
              "      <th>a</th>\n",
              "      <th>b</th>\n",
              "      <th>c</th>\n",
              "    </tr>\n",
              "  </thead>\n",
              "  <tbody>\n",
              "    <tr>\n",
              "      <th>0</th>\n",
              "      <td>0</td>\n",
              "      <td>1</td>\n",
              "      <td>2</td>\n",
              "    </tr>\n",
              "    <tr>\n",
              "      <th>1</th>\n",
              "      <td>0</td>\n",
              "      <td>1</td>\n",
              "      <td>2</td>\n",
              "    </tr>\n",
              "    <tr>\n",
              "      <th>2</th>\n",
              "      <td>0</td>\n",
              "      <td>1</td>\n",
              "      <td>2</td>\n",
              "    </tr>\n",
              "  </tbody>\n",
              "</table>\n",
              "</div>"
            ],
            "text/plain": [
              "   a  b  c\n",
              "0  0  1  2\n",
              "1  0  1  2\n",
              "2  0  1  2"
            ]
          },
          "metadata": {},
          "execution_count": 46
        }
      ]
    },
    {
      "cell_type": "code",
      "metadata": {
        "id": "OoQ4x9bKa1Ml"
      },
      "source": [
        "a = [1, 2, 3, 4, 5]"
      ],
      "execution_count": null,
      "outputs": []
    },
    {
      "cell_type": "code",
      "metadata": {
        "colab": {
          "base_uri": "https://localhost:8080/",
          "height": 35
        },
        "id": "A2N40xm8a5FY",
        "outputId": "1cd114aa-5360-4a4e-b9cc-ef5c2a6c432a"
      },
      "source": [
        "lst = []\n",
        "for i in range(len(a)):\n",
        "  b = f\"a{[i]}\"\n",
        "  lst.append(b)\n",
        "b = ('[' + ', '.join(lst) + ']')\n",
        "b = list(b)\n",
        "b[0]"
      ],
      "execution_count": null,
      "outputs": [
        {
          "output_type": "execute_result",
          "data": {
            "application/vnd.google.colaboratory.intrinsic+json": {
              "type": "string"
            },
            "text/plain": [
              "'['"
            ]
          },
          "metadata": {},
          "execution_count": 169
        }
      ]
    },
    {
      "cell_type": "code",
      "metadata": {
        "colab": {
          "base_uri": "https://localhost:8080/"
        },
        "id": "cM165kMnd5Ew",
        "outputId": "88c24061-3755-4cdb-dc9a-9554dbb8dbba"
      },
      "source": [
        "[int(x) for x in ['1','2','3','4']]"
      ],
      "execution_count": null,
      "outputs": [
        {
          "output_type": "execute_result",
          "data": {
            "text/plain": [
              "[1, 2, 3, 4]"
            ]
          },
          "metadata": {},
          "execution_count": 172
        }
      ]
    },
    {
      "cell_type": "code",
      "metadata": {
        "colab": {
          "base_uri": "https://localhost:8080/"
        },
        "id": "piJZy-SMbXf5",
        "outputId": "99d3f9cd-b95b-4f02-85b7-89014cb271e3"
      },
      "source": [
        "lst"
      ],
      "execution_count": null,
      "outputs": [
        {
          "output_type": "execute_result",
          "data": {
            "text/plain": [
              "['a[0]', 'a[1]', 'a[2]', 'a[3]', 'a[4]']"
            ]
          },
          "metadata": {},
          "execution_count": 158
        }
      ]
    },
    {
      "cell_type": "code",
      "metadata": {
        "colab": {
          "base_uri": "https://localhost:8080/"
        },
        "id": "Yk7R9FuLcPuA",
        "outputId": "97c8c179-87d5-45c4-d39d-31103f4b38f5"
      },
      "source": [
        "map(int, a)"
      ],
      "execution_count": null,
      "outputs": [
        {
          "output_type": "execute_result",
          "data": {
            "text/plain": [
              "<map at 0x7fc13440b3d0>"
            ]
          },
          "metadata": {},
          "execution_count": 152
        }
      ]
    },
    {
      "cell_type": "code",
      "metadata": {
        "colab": {
          "base_uri": "https://localhost:8080/"
        },
        "id": "CbSf6X7bcVgr",
        "outputId": "7468f87c-3e1e-4b05-c073-d9d5096eb80e"
      },
      "source": [
        "print('[' + ', '.join(lst) + ']')"
      ],
      "execution_count": null,
      "outputs": [
        {
          "output_type": "stream",
          "name": "stdout",
          "text": [
            "[a[0], a[1], a[2], a[3], a[4]]\n"
          ]
        }
      ]
    },
    {
      "cell_type": "code",
      "metadata": {
        "id": "z8R45x46cVkO"
      },
      "source": [
        ""
      ],
      "execution_count": null,
      "outputs": []
    },
    {
      "cell_type": "code",
      "metadata": {
        "id": "MFDR6yceZxT2"
      },
      "source": [
        "df"
      ],
      "execution_count": null,
      "outputs": []
    },
    {
      "cell_type": "code",
      "metadata": {
        "colab": {
          "base_uri": "https://localhost:8080/",
          "height": 455
        },
        "id": "dN-rHxPTEuqS",
        "outputId": "66b5afa6-4b48-4f6e-8cc4-d6b5c4a4b701"
      },
      "source": [
        "dfs2 = pd.DataFrame()\n",
        "dfs2.append(dfs1)\n"
      ],
      "execution_count": null,
      "outputs": [
        {
          "output_type": "execute_result",
          "data": {
            "text/html": [
              "<div>\n",
              "<style scoped>\n",
              "    .dataframe tbody tr th:only-of-type {\n",
              "        vertical-align: middle;\n",
              "    }\n",
              "\n",
              "    .dataframe tbody tr th {\n",
              "        vertical-align: top;\n",
              "    }\n",
              "\n",
              "    .dataframe thead th {\n",
              "        text-align: right;\n",
              "    }\n",
              "</style>\n",
              "<table border=\"1\" class=\"dataframe\">\n",
              "  <thead>\n",
              "    <tr style=\"text-align: right;\">\n",
              "      <th></th>\n",
              "      <th>AAPL_Close</th>\n",
              "      <th>GOOG_Close</th>\n",
              "    </tr>\n",
              "    <tr>\n",
              "      <th>Date</th>\n",
              "      <th></th>\n",
              "      <th></th>\n",
              "    </tr>\n",
              "  </thead>\n",
              "  <tbody>\n",
              "    <tr>\n",
              "      <th>2010-01-04</th>\n",
              "      <td>7.64</td>\n",
              "      <td>NaN</td>\n",
              "    </tr>\n",
              "    <tr>\n",
              "      <th>2010-01-05</th>\n",
              "      <td>7.66</td>\n",
              "      <td>NaN</td>\n",
              "    </tr>\n",
              "    <tr>\n",
              "      <th>2010-01-06</th>\n",
              "      <td>7.53</td>\n",
              "      <td>NaN</td>\n",
              "    </tr>\n",
              "    <tr>\n",
              "      <th>2010-01-07</th>\n",
              "      <td>7.52</td>\n",
              "      <td>NaN</td>\n",
              "    </tr>\n",
              "    <tr>\n",
              "      <th>2010-01-08</th>\n",
              "      <td>7.57</td>\n",
              "      <td>NaN</td>\n",
              "    </tr>\n",
              "    <tr>\n",
              "      <th>...</th>\n",
              "      <td>...</td>\n",
              "      <td>...</td>\n",
              "    </tr>\n",
              "    <tr>\n",
              "      <th>2018-12-24</th>\n",
              "      <td>36.71</td>\n",
              "      <td>976.2</td>\n",
              "    </tr>\n",
              "    <tr>\n",
              "      <th>2018-12-26</th>\n",
              "      <td>39.29</td>\n",
              "      <td>1039.5</td>\n",
              "    </tr>\n",
              "    <tr>\n",
              "      <th>2018-12-27</th>\n",
              "      <td>39.04</td>\n",
              "      <td>1043.9</td>\n",
              "    </tr>\n",
              "    <tr>\n",
              "      <th>2018-12-28</th>\n",
              "      <td>39.06</td>\n",
              "      <td>1037.1</td>\n",
              "    </tr>\n",
              "    <tr>\n",
              "      <th>2018-12-31</th>\n",
              "      <td>39.44</td>\n",
              "      <td>1035.6</td>\n",
              "    </tr>\n",
              "  </tbody>\n",
              "</table>\n",
              "<p>2265 rows × 2 columns</p>\n",
              "</div>"
            ],
            "text/plain": [
              "            AAPL_Close  GOOG_Close\n",
              "Date                              \n",
              "2010-01-04        7.64         NaN\n",
              "2010-01-05        7.66         NaN\n",
              "2010-01-06        7.53         NaN\n",
              "2010-01-07        7.52         NaN\n",
              "2010-01-08        7.57         NaN\n",
              "...                ...         ...\n",
              "2018-12-24       36.71       976.2\n",
              "2018-12-26       39.29      1039.5\n",
              "2018-12-27       39.04      1043.9\n",
              "2018-12-28       39.06      1037.1\n",
              "2018-12-31       39.44      1035.6\n",
              "\n",
              "[2265 rows x 2 columns]"
            ]
          },
          "metadata": {},
          "execution_count": 124
        }
      ]
    },
    {
      "cell_type": "code",
      "metadata": {
        "colab": {
          "base_uri": "https://localhost:8080/",
          "height": 32
        },
        "id": "E2xK-OAlCjXr",
        "outputId": "ea882f62-81c5-4df9-f953-6df5e51cf894"
      },
      "source": [
        "dfs2"
      ],
      "execution_count": null,
      "outputs": [
        {
          "output_type": "execute_result",
          "data": {
            "text/html": [
              "<div>\n",
              "<style scoped>\n",
              "    .dataframe tbody tr th:only-of-type {\n",
              "        vertical-align: middle;\n",
              "    }\n",
              "\n",
              "    .dataframe tbody tr th {\n",
              "        vertical-align: top;\n",
              "    }\n",
              "\n",
              "    .dataframe thead th {\n",
              "        text-align: right;\n",
              "    }\n",
              "</style>\n",
              "<table border=\"1\" class=\"dataframe\">\n",
              "  <thead>\n",
              "    <tr style=\"text-align: right;\">\n",
              "      <th></th>\n",
              "    </tr>\n",
              "  </thead>\n",
              "  <tbody>\n",
              "  </tbody>\n",
              "</table>\n",
              "</div>"
            ],
            "text/plain": [
              "Empty DataFrame\n",
              "Columns: []\n",
              "Index: []"
            ]
          },
          "metadata": {},
          "execution_count": 97
        }
      ]
    },
    {
      "cell_type": "code",
      "metadata": {
        "colab": {
          "base_uri": "https://localhost:8080/",
          "height": 455
        },
        "id": "Ya89CtPYC3K9",
        "outputId": "c2492022-89d5-4032-be8c-f90360a1144b"
      },
      "source": [
        "dfs[0].append(dfs[1])"
      ],
      "execution_count": null,
      "outputs": [
        {
          "output_type": "execute_result",
          "data": {
            "text/html": [
              "<div>\n",
              "<style scoped>\n",
              "    .dataframe tbody tr th:only-of-type {\n",
              "        vertical-align: middle;\n",
              "    }\n",
              "\n",
              "    .dataframe tbody tr th {\n",
              "        vertical-align: top;\n",
              "    }\n",
              "\n",
              "    .dataframe thead th {\n",
              "        text-align: right;\n",
              "    }\n",
              "</style>\n",
              "<table border=\"1\" class=\"dataframe\">\n",
              "  <thead>\n",
              "    <tr style=\"text-align: right;\">\n",
              "      <th></th>\n",
              "      <th>AAPL_Close</th>\n",
              "      <th>GOOG_Close</th>\n",
              "    </tr>\n",
              "    <tr>\n",
              "      <th>Date</th>\n",
              "      <th></th>\n",
              "      <th></th>\n",
              "    </tr>\n",
              "  </thead>\n",
              "  <tbody>\n",
              "    <tr>\n",
              "      <th>2010-01-04</th>\n",
              "      <td>7.64</td>\n",
              "      <td>NaN</td>\n",
              "    </tr>\n",
              "    <tr>\n",
              "      <th>2010-01-05</th>\n",
              "      <td>7.66</td>\n",
              "      <td>NaN</td>\n",
              "    </tr>\n",
              "    <tr>\n",
              "      <th>2010-01-06</th>\n",
              "      <td>7.53</td>\n",
              "      <td>NaN</td>\n",
              "    </tr>\n",
              "    <tr>\n",
              "      <th>2010-01-07</th>\n",
              "      <td>7.52</td>\n",
              "      <td>NaN</td>\n",
              "    </tr>\n",
              "    <tr>\n",
              "      <th>2010-01-08</th>\n",
              "      <td>7.57</td>\n",
              "      <td>NaN</td>\n",
              "    </tr>\n",
              "    <tr>\n",
              "      <th>...</th>\n",
              "      <td>...</td>\n",
              "      <td>...</td>\n",
              "    </tr>\n",
              "    <tr>\n",
              "      <th>2018-12-24</th>\n",
              "      <td>NaN</td>\n",
              "      <td>976.2</td>\n",
              "    </tr>\n",
              "    <tr>\n",
              "      <th>2018-12-26</th>\n",
              "      <td>NaN</td>\n",
              "      <td>1039.5</td>\n",
              "    </tr>\n",
              "    <tr>\n",
              "      <th>2018-12-27</th>\n",
              "      <td>NaN</td>\n",
              "      <td>1043.9</td>\n",
              "    </tr>\n",
              "    <tr>\n",
              "      <th>2018-12-28</th>\n",
              "      <td>NaN</td>\n",
              "      <td>1037.1</td>\n",
              "    </tr>\n",
              "    <tr>\n",
              "      <th>2018-12-31</th>\n",
              "      <td>NaN</td>\n",
              "      <td>1035.6</td>\n",
              "    </tr>\n",
              "  </tbody>\n",
              "</table>\n",
              "<p>3465 rows × 2 columns</p>\n",
              "</div>"
            ],
            "text/plain": [
              "            AAPL_Close  GOOG_Close\n",
              "Date                              \n",
              "2010-01-04        7.64         NaN\n",
              "2010-01-05        7.66         NaN\n",
              "2010-01-06        7.53         NaN\n",
              "2010-01-07        7.52         NaN\n",
              "2010-01-08        7.57         NaN\n",
              "...                ...         ...\n",
              "2018-12-24         NaN       976.2\n",
              "2018-12-26         NaN      1039.5\n",
              "2018-12-27         NaN      1043.9\n",
              "2018-12-28         NaN      1037.1\n",
              "2018-12-31         NaN      1035.6\n",
              "\n",
              "[3465 rows x 2 columns]"
            ]
          },
          "metadata": {},
          "execution_count": 99
        }
      ]
    },
    {
      "cell_type": "code",
      "metadata": {
        "colab": {
          "base_uri": "https://localhost:8080/",
          "height": 455
        },
        "id": "egoxyN-5_JCj",
        "outputId": "1a55bc2b-d0ad-4b79-f557-7635ad4a176c"
      },
      "source": [
        "dfs[0]"
      ],
      "execution_count": null,
      "outputs": [
        {
          "output_type": "execute_result",
          "data": {
            "text/html": [
              "<div>\n",
              "<style scoped>\n",
              "    .dataframe tbody tr th:only-of-type {\n",
              "        vertical-align: middle;\n",
              "    }\n",
              "\n",
              "    .dataframe tbody tr th {\n",
              "        vertical-align: top;\n",
              "    }\n",
              "\n",
              "    .dataframe thead th {\n",
              "        text-align: right;\n",
              "    }\n",
              "</style>\n",
              "<table border=\"1\" class=\"dataframe\">\n",
              "  <thead>\n",
              "    <tr style=\"text-align: right;\">\n",
              "      <th></th>\n",
              "      <th>AAPL_Close</th>\n",
              "    </tr>\n",
              "    <tr>\n",
              "      <th>Date</th>\n",
              "      <th></th>\n",
              "    </tr>\n",
              "  </thead>\n",
              "  <tbody>\n",
              "    <tr>\n",
              "      <th>2010-01-04</th>\n",
              "      <td>7.64</td>\n",
              "    </tr>\n",
              "    <tr>\n",
              "      <th>2010-01-05</th>\n",
              "      <td>7.66</td>\n",
              "    </tr>\n",
              "    <tr>\n",
              "      <th>2010-01-06</th>\n",
              "      <td>7.53</td>\n",
              "    </tr>\n",
              "    <tr>\n",
              "      <th>2010-01-07</th>\n",
              "      <td>7.52</td>\n",
              "    </tr>\n",
              "    <tr>\n",
              "      <th>2010-01-08</th>\n",
              "      <td>7.57</td>\n",
              "    </tr>\n",
              "    <tr>\n",
              "      <th>...</th>\n",
              "      <td>...</td>\n",
              "    </tr>\n",
              "    <tr>\n",
              "      <th>2018-12-24</th>\n",
              "      <td>36.71</td>\n",
              "    </tr>\n",
              "    <tr>\n",
              "      <th>2018-12-26</th>\n",
              "      <td>39.29</td>\n",
              "    </tr>\n",
              "    <tr>\n",
              "      <th>2018-12-27</th>\n",
              "      <td>39.04</td>\n",
              "    </tr>\n",
              "    <tr>\n",
              "      <th>2018-12-28</th>\n",
              "      <td>39.06</td>\n",
              "    </tr>\n",
              "    <tr>\n",
              "      <th>2018-12-31</th>\n",
              "      <td>39.44</td>\n",
              "    </tr>\n",
              "  </tbody>\n",
              "</table>\n",
              "<p>2265 rows × 1 columns</p>\n",
              "</div>"
            ],
            "text/plain": [
              "            AAPL_Close\n",
              "Date                  \n",
              "2010-01-04        7.64\n",
              "2010-01-05        7.66\n",
              "2010-01-06        7.53\n",
              "2010-01-07        7.52\n",
              "2010-01-08        7.57\n",
              "...                ...\n",
              "2018-12-24       36.71\n",
              "2018-12-26       39.29\n",
              "2018-12-27       39.04\n",
              "2018-12-28       39.06\n",
              "2018-12-31       39.44\n",
              "\n",
              "[2265 rows x 1 columns]"
            ]
          },
          "metadata": {},
          "execution_count": 78
        }
      ]
    },
    {
      "cell_type": "code",
      "metadata": {
        "colab": {
          "base_uri": "https://localhost:8080/",
          "height": 455
        },
        "id": "wBKzw3A16FDE",
        "outputId": "3e7a6200-843f-4e89-9b2f-28082401a062"
      },
      "source": [
        "pd.concat([dfs[0], dfs[1]], axis=1)"
      ],
      "execution_count": null,
      "outputs": [
        {
          "output_type": "execute_result",
          "data": {
            "text/html": [
              "<div>\n",
              "<style scoped>\n",
              "    .dataframe tbody tr th:only-of-type {\n",
              "        vertical-align: middle;\n",
              "    }\n",
              "\n",
              "    .dataframe tbody tr th {\n",
              "        vertical-align: top;\n",
              "    }\n",
              "\n",
              "    .dataframe thead th {\n",
              "        text-align: right;\n",
              "    }\n",
              "</style>\n",
              "<table border=\"1\" class=\"dataframe\">\n",
              "  <thead>\n",
              "    <tr style=\"text-align: right;\">\n",
              "      <th></th>\n",
              "      <th>AAPL_Close</th>\n",
              "      <th>GOOG_Close</th>\n",
              "    </tr>\n",
              "    <tr>\n",
              "      <th>Date</th>\n",
              "      <th></th>\n",
              "      <th></th>\n",
              "    </tr>\n",
              "  </thead>\n",
              "  <tbody>\n",
              "    <tr>\n",
              "      <th>2010-01-04</th>\n",
              "      <td>7.64</td>\n",
              "      <td>NaN</td>\n",
              "    </tr>\n",
              "    <tr>\n",
              "      <th>2010-01-05</th>\n",
              "      <td>7.66</td>\n",
              "      <td>NaN</td>\n",
              "    </tr>\n",
              "    <tr>\n",
              "      <th>2010-01-06</th>\n",
              "      <td>7.53</td>\n",
              "      <td>NaN</td>\n",
              "    </tr>\n",
              "    <tr>\n",
              "      <th>2010-01-07</th>\n",
              "      <td>7.52</td>\n",
              "      <td>NaN</td>\n",
              "    </tr>\n",
              "    <tr>\n",
              "      <th>2010-01-08</th>\n",
              "      <td>7.57</td>\n",
              "      <td>NaN</td>\n",
              "    </tr>\n",
              "    <tr>\n",
              "      <th>...</th>\n",
              "      <td>...</td>\n",
              "      <td>...</td>\n",
              "    </tr>\n",
              "    <tr>\n",
              "      <th>2018-12-24</th>\n",
              "      <td>36.71</td>\n",
              "      <td>976.2</td>\n",
              "    </tr>\n",
              "    <tr>\n",
              "      <th>2018-12-26</th>\n",
              "      <td>39.29</td>\n",
              "      <td>1039.5</td>\n",
              "    </tr>\n",
              "    <tr>\n",
              "      <th>2018-12-27</th>\n",
              "      <td>39.04</td>\n",
              "      <td>1043.9</td>\n",
              "    </tr>\n",
              "    <tr>\n",
              "      <th>2018-12-28</th>\n",
              "      <td>39.06</td>\n",
              "      <td>1037.1</td>\n",
              "    </tr>\n",
              "    <tr>\n",
              "      <th>2018-12-31</th>\n",
              "      <td>39.44</td>\n",
              "      <td>1035.6</td>\n",
              "    </tr>\n",
              "  </tbody>\n",
              "</table>\n",
              "<p>2265 rows × 2 columns</p>\n",
              "</div>"
            ],
            "text/plain": [
              "            AAPL_Close  GOOG_Close\n",
              "Date                              \n",
              "2010-01-04        7.64         NaN\n",
              "2010-01-05        7.66         NaN\n",
              "2010-01-06        7.53         NaN\n",
              "2010-01-07        7.52         NaN\n",
              "2010-01-08        7.57         NaN\n",
              "...                ...         ...\n",
              "2018-12-24       36.71       976.2\n",
              "2018-12-26       39.29      1039.5\n",
              "2018-12-27       39.04      1043.9\n",
              "2018-12-28       39.06      1037.1\n",
              "2018-12-31       39.44      1035.6\n",
              "\n",
              "[2265 rows x 2 columns]"
            ]
          },
          "metadata": {},
          "execution_count": 79
        }
      ]
    },
    {
      "cell_type": "code",
      "metadata": {
        "id": "L2JlCTEw7aeW"
      },
      "source": [
        "columns = ['Close']\n",
        "# columns = ['Close']\n",
        "d1 = pd.DataFrame(dfs[0], columns = columns)"
      ],
      "execution_count": null,
      "outputs": []
    },
    {
      "cell_type": "code",
      "metadata": {
        "id": "i7qcWmFE853o"
      },
      "source": [
        "df2 = d1.rename(columns = {'Close': f'{stocks[0]}_Close'}, inplace = False)"
      ],
      "execution_count": null,
      "outputs": []
    },
    {
      "cell_type": "code",
      "metadata": {
        "id": "Geg6C9209Pgz"
      },
      "source": [
        ""
      ],
      "execution_count": null,
      "outputs": []
    },
    {
      "cell_type": "code",
      "metadata": {
        "colab": {
          "base_uri": "https://localhost:8080/",
          "height": 455
        },
        "id": "m3whkDUo8AYv",
        "outputId": "6da69149-b31b-4403-9658-781d67994123"
      },
      "source": [
        "df2"
      ],
      "execution_count": null,
      "outputs": [
        {
          "output_type": "execute_result",
          "data": {
            "text/html": [
              "<div>\n",
              "<style scoped>\n",
              "    .dataframe tbody tr th:only-of-type {\n",
              "        vertical-align: middle;\n",
              "    }\n",
              "\n",
              "    .dataframe tbody tr th {\n",
              "        vertical-align: top;\n",
              "    }\n",
              "\n",
              "    .dataframe thead th {\n",
              "        text-align: right;\n",
              "    }\n",
              "</style>\n",
              "<table border=\"1\" class=\"dataframe\">\n",
              "  <thead>\n",
              "    <tr style=\"text-align: right;\">\n",
              "      <th></th>\n",
              "      <th>AAPL_Close</th>\n",
              "    </tr>\n",
              "    <tr>\n",
              "      <th>Date</th>\n",
              "      <th></th>\n",
              "    </tr>\n",
              "  </thead>\n",
              "  <tbody>\n",
              "    <tr>\n",
              "      <th>2010-01-04</th>\n",
              "      <td>7.64</td>\n",
              "    </tr>\n",
              "    <tr>\n",
              "      <th>2010-01-05</th>\n",
              "      <td>7.66</td>\n",
              "    </tr>\n",
              "    <tr>\n",
              "      <th>2010-01-06</th>\n",
              "      <td>7.53</td>\n",
              "    </tr>\n",
              "    <tr>\n",
              "      <th>2010-01-07</th>\n",
              "      <td>7.52</td>\n",
              "    </tr>\n",
              "    <tr>\n",
              "      <th>2010-01-08</th>\n",
              "      <td>7.57</td>\n",
              "    </tr>\n",
              "    <tr>\n",
              "      <th>...</th>\n",
              "      <td>...</td>\n",
              "    </tr>\n",
              "    <tr>\n",
              "      <th>2018-12-24</th>\n",
              "      <td>36.71</td>\n",
              "    </tr>\n",
              "    <tr>\n",
              "      <th>2018-12-26</th>\n",
              "      <td>39.29</td>\n",
              "    </tr>\n",
              "    <tr>\n",
              "      <th>2018-12-27</th>\n",
              "      <td>39.04</td>\n",
              "    </tr>\n",
              "    <tr>\n",
              "      <th>2018-12-28</th>\n",
              "      <td>39.06</td>\n",
              "    </tr>\n",
              "    <tr>\n",
              "      <th>2018-12-31</th>\n",
              "      <td>39.44</td>\n",
              "    </tr>\n",
              "  </tbody>\n",
              "</table>\n",
              "<p>2265 rows × 1 columns</p>\n",
              "</div>"
            ],
            "text/plain": [
              "            AAPL_Close\n",
              "Date                  \n",
              "2010-01-04        7.64\n",
              "2010-01-05        7.66\n",
              "2010-01-06        7.53\n",
              "2010-01-07        7.52\n",
              "2010-01-08        7.57\n",
              "...                ...\n",
              "2018-12-24       36.71\n",
              "2018-12-26       39.29\n",
              "2018-12-27       39.04\n",
              "2018-12-28       39.06\n",
              "2018-12-31       39.44\n",
              "\n",
              "[2265 rows x 1 columns]"
            ]
          },
          "metadata": {},
          "execution_count": 61
        }
      ]
    },
    {
      "cell_type": "code",
      "metadata": {
        "colab": {
          "base_uri": "https://localhost:8080/",
          "height": 455
        },
        "id": "5Mn3XvBd7gB-",
        "outputId": "b4b41881-afaf-404d-ef9c-874b3345c642"
      },
      "source": [
        "d1"
      ],
      "execution_count": null,
      "outputs": [
        {
          "output_type": "execute_result",
          "data": {
            "text/html": [
              "<div>\n",
              "<style scoped>\n",
              "    .dataframe tbody tr th:only-of-type {\n",
              "        vertical-align: middle;\n",
              "    }\n",
              "\n",
              "    .dataframe tbody tr th {\n",
              "        vertical-align: top;\n",
              "    }\n",
              "\n",
              "    .dataframe thead th {\n",
              "        text-align: right;\n",
              "    }\n",
              "</style>\n",
              "<table border=\"1\" class=\"dataframe\">\n",
              "  <thead>\n",
              "    <tr style=\"text-align: right;\">\n",
              "      <th></th>\n",
              "      <th>Close</th>\n",
              "    </tr>\n",
              "    <tr>\n",
              "      <th>Date</th>\n",
              "      <th></th>\n",
              "    </tr>\n",
              "  </thead>\n",
              "  <tbody>\n",
              "    <tr>\n",
              "      <th>2010-01-04</th>\n",
              "      <td>7.64</td>\n",
              "    </tr>\n",
              "    <tr>\n",
              "      <th>2010-01-05</th>\n",
              "      <td>7.66</td>\n",
              "    </tr>\n",
              "    <tr>\n",
              "      <th>2010-01-06</th>\n",
              "      <td>7.53</td>\n",
              "    </tr>\n",
              "    <tr>\n",
              "      <th>2010-01-07</th>\n",
              "      <td>7.52</td>\n",
              "    </tr>\n",
              "    <tr>\n",
              "      <th>2010-01-08</th>\n",
              "      <td>7.57</td>\n",
              "    </tr>\n",
              "    <tr>\n",
              "      <th>...</th>\n",
              "      <td>...</td>\n",
              "    </tr>\n",
              "    <tr>\n",
              "      <th>2018-12-24</th>\n",
              "      <td>36.71</td>\n",
              "    </tr>\n",
              "    <tr>\n",
              "      <th>2018-12-26</th>\n",
              "      <td>39.29</td>\n",
              "    </tr>\n",
              "    <tr>\n",
              "      <th>2018-12-27</th>\n",
              "      <td>39.04</td>\n",
              "    </tr>\n",
              "    <tr>\n",
              "      <th>2018-12-28</th>\n",
              "      <td>39.06</td>\n",
              "    </tr>\n",
              "    <tr>\n",
              "      <th>2018-12-31</th>\n",
              "      <td>39.44</td>\n",
              "    </tr>\n",
              "  </tbody>\n",
              "</table>\n",
              "<p>2265 rows × 1 columns</p>\n",
              "</div>"
            ],
            "text/plain": [
              "            Close\n",
              "Date             \n",
              "2010-01-04   7.64\n",
              "2010-01-05   7.66\n",
              "2010-01-06   7.53\n",
              "2010-01-07   7.52\n",
              "2010-01-08   7.57\n",
              "...           ...\n",
              "2018-12-24  36.71\n",
              "2018-12-26  39.29\n",
              "2018-12-27  39.04\n",
              "2018-12-28  39.06\n",
              "2018-12-31  39.44\n",
              "\n",
              "[2265 rows x 1 columns]"
            ]
          },
          "metadata": {},
          "execution_count": 36
        }
      ]
    },
    {
      "cell_type": "code",
      "metadata": {
        "colab": {
          "base_uri": "https://localhost:8080/",
          "height": 254
        },
        "id": "bW6ignE8-Qbq",
        "outputId": "15ccce3d-a90e-44fa-84fc-00c1fbb0da54"
      },
      "source": [
        "start = datetime.datetime(2020, 1, 1)\n",
        "end = datetime.datetime(2021, 1, 1)\n",
        "\n",
        "tickers = ['AAPL', 'ADBE', 'ORCL', 'EBAY', 'MSFT', 'QCOM', 'HPQ', 'JNPR', 'AMD', 'IBM', 'SPY']\n",
        "\n",
        "\n",
        "df = pdr.get_data_yahoo(tickers, start, end)['Close']\n",
        "df.tail()"
      ],
      "execution_count": null,
      "outputs": [
        {
          "output_type": "stream",
          "name": "stdout",
          "text": [
            "[*********************100%***********************]  11 of 11 completed\n"
          ]
        },
        {
          "output_type": "execute_result",
          "data": {
            "text/html": [
              "<div>\n",
              "<style scoped>\n",
              "    .dataframe tbody tr th:only-of-type {\n",
              "        vertical-align: middle;\n",
              "    }\n",
              "\n",
              "    .dataframe tbody tr th {\n",
              "        vertical-align: top;\n",
              "    }\n",
              "\n",
              "    .dataframe thead th {\n",
              "        text-align: right;\n",
              "    }\n",
              "</style>\n",
              "<table border=\"1\" class=\"dataframe\">\n",
              "  <thead>\n",
              "    <tr style=\"text-align: right;\">\n",
              "      <th></th>\n",
              "      <th>AAPL</th>\n",
              "      <th>ADBE</th>\n",
              "      <th>AMD</th>\n",
              "      <th>EBAY</th>\n",
              "      <th>HPQ</th>\n",
              "      <th>IBM</th>\n",
              "      <th>JNPR</th>\n",
              "      <th>MSFT</th>\n",
              "      <th>ORCL</th>\n",
              "      <th>QCOM</th>\n",
              "      <th>SPY</th>\n",
              "    </tr>\n",
              "    <tr>\n",
              "      <th>Date</th>\n",
              "      <th></th>\n",
              "      <th></th>\n",
              "      <th></th>\n",
              "      <th></th>\n",
              "      <th></th>\n",
              "      <th></th>\n",
              "      <th></th>\n",
              "      <th></th>\n",
              "      <th></th>\n",
              "      <th></th>\n",
              "      <th></th>\n",
              "    </tr>\n",
              "  </thead>\n",
              "  <tbody>\n",
              "    <tr>\n",
              "      <th>2020-12-24</th>\n",
              "      <td>131.970001</td>\n",
              "      <td>499.859985</td>\n",
              "      <td>91.809998</td>\n",
              "      <td>50.119999</td>\n",
              "      <td>24.260000</td>\n",
              "      <td>119.206497</td>\n",
              "      <td>22.400000</td>\n",
              "      <td>222.750000</td>\n",
              "      <td>64.959999</td>\n",
              "      <td>148.789993</td>\n",
              "      <td>369.000000</td>\n",
              "    </tr>\n",
              "    <tr>\n",
              "      <th>2020-12-28</th>\n",
              "      <td>136.690002</td>\n",
              "      <td>498.950012</td>\n",
              "      <td>91.599998</td>\n",
              "      <td>50.240002</td>\n",
              "      <td>24.270000</td>\n",
              "      <td>119.330788</td>\n",
              "      <td>22.559999</td>\n",
              "      <td>224.960007</td>\n",
              "      <td>64.870003</td>\n",
              "      <td>147.740005</td>\n",
              "      <td>372.170013</td>\n",
              "    </tr>\n",
              "    <tr>\n",
              "      <th>2020-12-29</th>\n",
              "      <td>134.869995</td>\n",
              "      <td>502.109985</td>\n",
              "      <td>90.620003</td>\n",
              "      <td>50.860001</td>\n",
              "      <td>24.049999</td>\n",
              "      <td>118.355644</td>\n",
              "      <td>22.190001</td>\n",
              "      <td>224.149994</td>\n",
              "      <td>64.459999</td>\n",
              "      <td>148.490005</td>\n",
              "      <td>371.459991</td>\n",
              "    </tr>\n",
              "    <tr>\n",
              "      <th>2020-12-30</th>\n",
              "      <td>133.720001</td>\n",
              "      <td>497.450012</td>\n",
              "      <td>92.290001</td>\n",
              "      <td>50.549999</td>\n",
              "      <td>24.320000</td>\n",
              "      <td>118.871895</td>\n",
              "      <td>22.200001</td>\n",
              "      <td>221.679993</td>\n",
              "      <td>64.400002</td>\n",
              "      <td>149.949997</td>\n",
              "      <td>371.989990</td>\n",
              "    </tr>\n",
              "    <tr>\n",
              "      <th>2020-12-31</th>\n",
              "      <td>132.690002</td>\n",
              "      <td>500.119995</td>\n",
              "      <td>91.709999</td>\n",
              "      <td>50.250000</td>\n",
              "      <td>24.590000</td>\n",
              "      <td>120.344170</td>\n",
              "      <td>22.510000</td>\n",
              "      <td>222.419998</td>\n",
              "      <td>64.690002</td>\n",
              "      <td>152.339996</td>\n",
              "      <td>373.880005</td>\n",
              "    </tr>\n",
              "  </tbody>\n",
              "</table>\n",
              "</div>"
            ],
            "text/plain": [
              "                  AAPL        ADBE  ...        QCOM         SPY\n",
              "Date                                ...                        \n",
              "2020-12-24  131.970001  499.859985  ...  148.789993  369.000000\n",
              "2020-12-28  136.690002  498.950012  ...  147.740005  372.170013\n",
              "2020-12-29  134.869995  502.109985  ...  148.490005  371.459991\n",
              "2020-12-30  133.720001  497.450012  ...  149.949997  371.989990\n",
              "2020-12-31  132.690002  500.119995  ...  152.339996  373.880005\n",
              "\n",
              "[5 rows x 11 columns]"
            ]
          },
          "metadata": {},
          "execution_count": 120
        }
      ]
    },
    {
      "cell_type": "code",
      "metadata": {
        "colab": {
          "base_uri": "https://localhost:8080/",
          "height": 254
        },
        "id": "bnAkhdCbGEvj",
        "outputId": "8b0fb988-b835-4ebb-a6f3-05d80483372a"
      },
      "source": [
        "start = datetime.datetime(2020, 1, 1)\n",
        "end = datetime.datetime(2021, 1, 23)\n",
        "\n",
        "tickers = ['AAPL', 'ADBE', 'ORCL', 'EBAY', 'MSFT', 'QCOM', 'HPQ', 'JNPR', 'AMD', 'IBM', 'SPY']\n",
        "\n",
        "\n",
        "df = pdr.get_data_yahoo(tickers, start, end)['Close']\n",
        "df.tail()"
      ],
      "execution_count": null,
      "outputs": [
        {
          "output_type": "stream",
          "name": "stdout",
          "text": [
            "[*********************100%***********************]  11 of 11 completed\n"
          ]
        },
        {
          "output_type": "execute_result",
          "data": {
            "text/html": [
              "<div>\n",
              "<style scoped>\n",
              "    .dataframe tbody tr th:only-of-type {\n",
              "        vertical-align: middle;\n",
              "    }\n",
              "\n",
              "    .dataframe tbody tr th {\n",
              "        vertical-align: top;\n",
              "    }\n",
              "\n",
              "    .dataframe thead th {\n",
              "        text-align: right;\n",
              "    }\n",
              "</style>\n",
              "<table border=\"1\" class=\"dataframe\">\n",
              "  <thead>\n",
              "    <tr style=\"text-align: right;\">\n",
              "      <th></th>\n",
              "      <th>AAPL</th>\n",
              "      <th>ADBE</th>\n",
              "      <th>AMD</th>\n",
              "      <th>EBAY</th>\n",
              "      <th>HPQ</th>\n",
              "      <th>IBM</th>\n",
              "      <th>JNPR</th>\n",
              "      <th>MSFT</th>\n",
              "      <th>ORCL</th>\n",
              "      <th>QCOM</th>\n",
              "      <th>SPY</th>\n",
              "    </tr>\n",
              "    <tr>\n",
              "      <th>Date</th>\n",
              "      <th></th>\n",
              "      <th></th>\n",
              "      <th></th>\n",
              "      <th></th>\n",
              "      <th></th>\n",
              "      <th></th>\n",
              "      <th></th>\n",
              "      <th></th>\n",
              "      <th></th>\n",
              "      <th></th>\n",
              "      <th></th>\n",
              "    </tr>\n",
              "  </thead>\n",
              "  <tbody>\n",
              "    <tr>\n",
              "      <th>2021-01-15</th>\n",
              "      <td>127.139999</td>\n",
              "      <td>458.079987</td>\n",
              "      <td>88.209999</td>\n",
              "      <td>55.419998</td>\n",
              "      <td>25.170000</td>\n",
              "      <td>122.743790</td>\n",
              "      <td>24.440001</td>\n",
              "      <td>212.649994</td>\n",
              "      <td>61.779999</td>\n",
              "      <td>157.089996</td>\n",
              "      <td>375.700012</td>\n",
              "    </tr>\n",
              "    <tr>\n",
              "      <th>2021-01-19</th>\n",
              "      <td>127.830002</td>\n",
              "      <td>456.500000</td>\n",
              "      <td>89.449997</td>\n",
              "      <td>56.980000</td>\n",
              "      <td>25.139999</td>\n",
              "      <td>123.346077</td>\n",
              "      <td>24.510000</td>\n",
              "      <td>216.440002</td>\n",
              "      <td>61.290001</td>\n",
              "      <td>163.770004</td>\n",
              "      <td>378.649994</td>\n",
              "    </tr>\n",
              "    <tr>\n",
              "      <th>2021-01-20</th>\n",
              "      <td>132.029999</td>\n",
              "      <td>469.730011</td>\n",
              "      <td>88.750000</td>\n",
              "      <td>56.169998</td>\n",
              "      <td>25.200001</td>\n",
              "      <td>124.359467</td>\n",
              "      <td>25.090000</td>\n",
              "      <td>224.339996</td>\n",
              "      <td>61.560001</td>\n",
              "      <td>164.600006</td>\n",
              "      <td>383.890015</td>\n",
              "    </tr>\n",
              "    <tr>\n",
              "      <th>2021-01-21</th>\n",
              "      <td>136.869995</td>\n",
              "      <td>472.019989</td>\n",
              "      <td>91.529999</td>\n",
              "      <td>56.400002</td>\n",
              "      <td>25.360001</td>\n",
              "      <td>125.860420</td>\n",
              "      <td>25.250000</td>\n",
              "      <td>224.970001</td>\n",
              "      <td>61.209999</td>\n",
              "      <td>164.750000</td>\n",
              "      <td>384.239990</td>\n",
              "    </tr>\n",
              "    <tr>\n",
              "      <th>2021-01-22</th>\n",
              "      <td>139.070007</td>\n",
              "      <td>472.440002</td>\n",
              "      <td>92.790001</td>\n",
              "      <td>56.459999</td>\n",
              "      <td>25.270000</td>\n",
              "      <td>113.393883</td>\n",
              "      <td>25.040001</td>\n",
              "      <td>225.949997</td>\n",
              "      <td>60.360001</td>\n",
              "      <td>162.419998</td>\n",
              "      <td>382.880005</td>\n",
              "    </tr>\n",
              "  </tbody>\n",
              "</table>\n",
              "</div>"
            ],
            "text/plain": [
              "                  AAPL        ADBE  ...        QCOM         SPY\n",
              "Date                                ...                        \n",
              "2021-01-15  127.139999  458.079987  ...  157.089996  375.700012\n",
              "2021-01-19  127.830002  456.500000  ...  163.770004  378.649994\n",
              "2021-01-20  132.029999  469.730011  ...  164.600006  383.890015\n",
              "2021-01-21  136.869995  472.019989  ...  164.750000  384.239990\n",
              "2021-01-22  139.070007  472.440002  ...  162.419998  382.880005\n",
              "\n",
              "[5 rows x 11 columns]"
            ]
          },
          "metadata": {},
          "execution_count": 123
        }
      ]
    },
    {
      "cell_type": "code",
      "metadata": {
        "pycharm": {
          "name": "#%%\n"
        },
        "colab": {
          "base_uri": "https://localhost:8080/"
        },
        "id": "xAcwjW_m-Qbq",
        "outputId": "f9bf0bba-3d45-422f-b33a-16b1a1b1dffe"
      },
      "source": [
        "start = datetime.datetime(2021, 1, 1)\n",
        "end = datetime.datetime(2021, 11, 22)\n",
        "# tickers \n",
        "df_MGNT = pdr.get_data_yahoo('MGNT.ME', start, end)['Close']"
      ],
      "execution_count": null,
      "outputs": [
        {
          "output_type": "stream",
          "name": "stdout",
          "text": [
            "\r[*********************100%***********************]  1 of 1 completed\n"
          ]
        }
      ]
    },
    {
      "cell_type": "code",
      "metadata": {
        "pycharm": {
          "name": "#%%\n"
        },
        "colab": {
          "base_uri": "https://localhost:8080/"
        },
        "id": "cH6NH7ik-Qbr",
        "outputId": "fed5aeb3-1e57-4785-f493-7277fc0fbb98"
      },
      "source": [
        "print(df_MGNT)"
      ],
      "execution_count": null,
      "outputs": [
        {
          "output_type": "stream",
          "name": "stdout",
          "text": [
            "Date\n",
            "2021-01-04    5749.5\n",
            "2021-01-05    5736.0\n",
            "2021-01-06    5511.0\n",
            "2021-01-08    5511.0\n",
            "2021-01-11    5470.0\n",
            "               ...  \n",
            "2021-11-15    6531.5\n",
            "2021-11-16    6549.5\n",
            "2021-11-17    6377.0\n",
            "2021-11-18    6277.0\n",
            "2021-11-19    5971.5\n",
            "Name: Close, Length: 225, dtype: float64\n"
          ]
        }
      ]
    },
    {
      "cell_type": "code",
      "metadata": {
        "pycharm": {
          "name": "#%%\n"
        },
        "id": "-BhBkyDI-Qbr",
        "colab": {
          "base_uri": "https://localhost:8080/"
        },
        "outputId": "5b112672-8a3a-49fd-dd4b-7cbd6c66454a"
      },
      "source": [
        "len(df)"
      ],
      "execution_count": null,
      "outputs": [
        {
          "output_type": "execute_result",
          "data": {
            "text/plain": [
              "253"
            ]
          },
          "metadata": {},
          "execution_count": 28
        }
      ]
    },
    {
      "cell_type": "code",
      "metadata": {
        "pycharm": {
          "name": "#%%\n"
        },
        "id": "pYGV_Tz4-Qbr"
      },
      "source": [
        "scores, pvalues, pairs = find_cointegrated_pairs(df)"
      ],
      "execution_count": null,
      "outputs": []
    },
    {
      "cell_type": "code",
      "metadata": {
        "pycharm": {
          "name": "#%%\n"
        },
        "id": "RjRYrkAr-Qbr",
        "colab": {
          "base_uri": "https://localhost:8080/"
        },
        "outputId": "d279882e-3c8d-45df-8c99-17379413cbe9"
      },
      "source": [
        "print(pvalues)"
      ],
      "execution_count": null,
      "outputs": [
        {
          "output_type": "stream",
          "name": "stdout",
          "text": [
            "[[1.         0.45931987 0.0892379  0.93061992 0.79378635 0.9806537\n",
            "  0.98152885 0.55695748 0.10340288 0.57433203 0.31841072]\n",
            " [1.         1.         0.47841151 0.60857714 0.73517836 0.91576525\n",
            "  0.89150747 0.12781469 0.21720636 0.564216   0.35920163]\n",
            " [1.         1.         1.         0.8833886  0.74411244 0.94132732\n",
            "  0.96317605 0.48857247 0.03653154 0.38328036 0.4948696 ]\n",
            " [1.         1.         1.         1.         0.8336004  0.77575603\n",
            "  0.72537465 0.20279146 0.75574742 0.86153252 0.74892072]\n",
            " [1.         1.         1.         1.         1.         0.93407368\n",
            "  0.96381517 0.81711813 0.59020415 0.52577845 0.64804331]\n",
            " [1.         1.         1.         1.         1.         1.\n",
            "  0.37274631 0.11141746 0.18905732 0.11584679 0.29696664]\n",
            " [1.         1.         1.         1.         1.         1.\n",
            "  1.         0.24879995 0.32474039 0.16125249 0.38411846]\n",
            " [1.         1.         1.         1.         1.         1.\n",
            "  1.         1.         0.26620947 0.32976845 0.23464965]\n",
            " [1.         1.         1.         1.         1.         1.\n",
            "  1.         1.         1.         0.01155616 0.09057068]\n",
            " [1.         1.         1.         1.         1.         1.\n",
            "  1.         1.         1.         1.         0.58067572]\n",
            " [1.         1.         1.         1.         1.         1.\n",
            "  1.         1.         1.         1.         1.        ]]\n"
          ]
        }
      ]
    },
    {
      "cell_type": "code",
      "metadata": {
        "pycharm": {
          "name": "#%%\n"
        },
        "id": "Wt_9M4RA-Qbr",
        "colab": {
          "base_uri": "https://localhost:8080/"
        },
        "outputId": "1986173e-0b28-47de-f43e-21fd1c575dda"
      },
      "source": [
        "df.shape[0] # the matrix size"
      ],
      "execution_count": null,
      "outputs": [
        {
          "output_type": "execute_result",
          "data": {
            "text/plain": [
              "253"
            ]
          },
          "metadata": {},
          "execution_count": 31
        }
      ]
    },
    {
      "cell_type": "code",
      "metadata": {
        "pycharm": {
          "name": "#%%\n"
        },
        "id": "gZ2w6ZeT-Qbs"
      },
      "source": [
        "df_1 = df [['AMD', 'IBM', 'HPQ']]"
      ],
      "execution_count": null,
      "outputs": []
    },
    {
      "cell_type": "code",
      "metadata": {
        "pycharm": {
          "name": "#%%\n"
        },
        "id": "FpVlEsaZ-Qbs",
        "colab": {
          "base_uri": "https://localhost:8080/",
          "height": 455
        },
        "outputId": "a338e45f-a996-4b86-e328-53e31a253fe7"
      },
      "source": [
        "df_1"
      ],
      "execution_count": null,
      "outputs": [
        {
          "output_type": "execute_result",
          "data": {
            "text/html": [
              "<div>\n",
              "<style scoped>\n",
              "    .dataframe tbody tr th:only-of-type {\n",
              "        vertical-align: middle;\n",
              "    }\n",
              "\n",
              "    .dataframe tbody tr th {\n",
              "        vertical-align: top;\n",
              "    }\n",
              "\n",
              "    .dataframe thead th {\n",
              "        text-align: right;\n",
              "    }\n",
              "</style>\n",
              "<table border=\"1\" class=\"dataframe\">\n",
              "  <thead>\n",
              "    <tr style=\"text-align: right;\">\n",
              "      <th></th>\n",
              "      <th>AMD</th>\n",
              "      <th>IBM</th>\n",
              "      <th>HPQ</th>\n",
              "    </tr>\n",
              "    <tr>\n",
              "      <th>Date</th>\n",
              "      <th></th>\n",
              "      <th></th>\n",
              "      <th></th>\n",
              "    </tr>\n",
              "  </thead>\n",
              "  <tbody>\n",
              "    <tr>\n",
              "      <th>2020-01-02</th>\n",
              "      <td>49.099998</td>\n",
              "      <td>129.464630</td>\n",
              "      <td>20.790001</td>\n",
              "    </tr>\n",
              "    <tr>\n",
              "      <th>2020-01-03</th>\n",
              "      <td>48.599998</td>\n",
              "      <td>128.432129</td>\n",
              "      <td>20.530001</td>\n",
              "    </tr>\n",
              "    <tr>\n",
              "      <th>2020-01-06</th>\n",
              "      <td>48.389999</td>\n",
              "      <td>128.202682</td>\n",
              "      <td>20.610001</td>\n",
              "    </tr>\n",
              "    <tr>\n",
              "      <th>2020-01-07</th>\n",
              "      <td>48.250000</td>\n",
              "      <td>128.288712</td>\n",
              "      <td>20.660000</td>\n",
              "    </tr>\n",
              "    <tr>\n",
              "      <th>2020-01-08</th>\n",
              "      <td>47.830002</td>\n",
              "      <td>129.359467</td>\n",
              "      <td>20.930000</td>\n",
              "    </tr>\n",
              "    <tr>\n",
              "      <th>...</th>\n",
              "      <td>...</td>\n",
              "      <td>...</td>\n",
              "      <td>...</td>\n",
              "    </tr>\n",
              "    <tr>\n",
              "      <th>2020-12-24</th>\n",
              "      <td>91.809998</td>\n",
              "      <td>119.206497</td>\n",
              "      <td>24.260000</td>\n",
              "    </tr>\n",
              "    <tr>\n",
              "      <th>2020-12-28</th>\n",
              "      <td>91.599998</td>\n",
              "      <td>119.330788</td>\n",
              "      <td>24.270000</td>\n",
              "    </tr>\n",
              "    <tr>\n",
              "      <th>2020-12-29</th>\n",
              "      <td>90.620003</td>\n",
              "      <td>118.355644</td>\n",
              "      <td>24.049999</td>\n",
              "    </tr>\n",
              "    <tr>\n",
              "      <th>2020-12-30</th>\n",
              "      <td>92.290001</td>\n",
              "      <td>118.871895</td>\n",
              "      <td>24.320000</td>\n",
              "    </tr>\n",
              "    <tr>\n",
              "      <th>2020-12-31</th>\n",
              "      <td>91.709999</td>\n",
              "      <td>120.344170</td>\n",
              "      <td>24.590000</td>\n",
              "    </tr>\n",
              "  </tbody>\n",
              "</table>\n",
              "<p>253 rows × 3 columns</p>\n",
              "</div>"
            ],
            "text/plain": [
              "                  AMD         IBM        HPQ\n",
              "Date                                        \n",
              "2020-01-02  49.099998  129.464630  20.790001\n",
              "2020-01-03  48.599998  128.432129  20.530001\n",
              "2020-01-06  48.389999  128.202682  20.610001\n",
              "2020-01-07  48.250000  128.288712  20.660000\n",
              "2020-01-08  47.830002  129.359467  20.930000\n",
              "...               ...         ...        ...\n",
              "2020-12-24  91.809998  119.206497  24.260000\n",
              "2020-12-28  91.599998  119.330788  24.270000\n",
              "2020-12-29  90.620003  118.355644  24.049999\n",
              "2020-12-30  92.290001  118.871895  24.320000\n",
              "2020-12-31  91.709999  120.344170  24.590000\n",
              "\n",
              "[253 rows x 3 columns]"
            ]
          },
          "metadata": {},
          "execution_count": 33
        }
      ]
    },
    {
      "cell_type": "code",
      "metadata": {
        "pycharm": {
          "name": "#%%\n"
        },
        "id": "xNsQXPmh-Qbs",
        "colab": {
          "base_uri": "https://localhost:8080/"
        },
        "outputId": "5cfaf0eb-b6b0-49d0-fd04-344af1918f79"
      },
      "source": [
        "n=df_1.shape[1]\n",
        "n"
      ],
      "execution_count": null,
      "outputs": [
        {
          "output_type": "execute_result",
          "data": {
            "text/plain": [
              "3"
            ]
          },
          "metadata": {},
          "execution_count": 34
        }
      ]
    },
    {
      "cell_type": "code",
      "metadata": {
        "pycharm": {
          "name": "#%%\n"
        },
        "id": "1BPVEz4B-Qbs",
        "colab": {
          "base_uri": "https://localhost:8080/"
        },
        "outputId": "4d330b39-187a-4033-cdb3-aa6d32cbba03"
      },
      "source": [
        "score_matrix=np.zeros((n,n))\n",
        "score_matrix"
      ],
      "execution_count": null,
      "outputs": [
        {
          "output_type": "execute_result",
          "data": {
            "text/plain": [
              "array([[0., 0., 0.],\n",
              "       [0., 0., 0.],\n",
              "       [0., 0., 0.]])"
            ]
          },
          "metadata": {},
          "execution_count": 35
        }
      ]
    },
    {
      "cell_type": "code",
      "metadata": {
        "pycharm": {
          "name": "#%%\n"
        },
        "id": "WjXlYZWR-Qbs",
        "colab": {
          "base_uri": "https://localhost:8080/"
        },
        "outputId": "6448ec2c-5313-4e17-f3f7-34d466448948"
      },
      "source": [
        "pvalue_matrix=np.ones((n,n))\n",
        "pvalue_matrix"
      ],
      "execution_count": null,
      "outputs": [
        {
          "output_type": "execute_result",
          "data": {
            "text/plain": [
              "array([[1., 1., 1.],\n",
              "       [1., 1., 1.],\n",
              "       [1., 1., 1.]])"
            ]
          },
          "metadata": {},
          "execution_count": 36
        }
      ]
    },
    {
      "cell_type": "code",
      "metadata": {
        "pycharm": {
          "name": "#%%\n"
        },
        "id": "hwpJz86M-Qbs",
        "colab": {
          "base_uri": "https://localhost:8080/"
        },
        "outputId": "0643f784-ffe4-48ba-f006-83e504d33f3b"
      },
      "source": [
        "keys=df_1.keys()\n",
        "keys"
      ],
      "execution_count": null,
      "outputs": [
        {
          "output_type": "execute_result",
          "data": {
            "text/plain": [
              "Index(['AMD', 'IBM', 'HPQ'], dtype='object')"
            ]
          },
          "metadata": {},
          "execution_count": 37
        }
      ]
    },
    {
      "cell_type": "code",
      "metadata": {
        "pycharm": {
          "name": "#%%\n"
        },
        "id": "PGVxfdl0-Qbt"
      },
      "source": [
        "S1 = df_1[keys[1]]\n",
        "S2 = df_1[keys[0]]"
      ],
      "execution_count": null,
      "outputs": []
    },
    {
      "cell_type": "code",
      "metadata": {
        "pycharm": {
          "name": "#%%\n"
        },
        "id": "K2mCBP4f-Qbt"
      },
      "source": [
        "result = coint(S1, S2)"
      ],
      "execution_count": null,
      "outputs": []
    },
    {
      "cell_type": "code",
      "metadata": {
        "pycharm": {
          "name": "#%%\n"
        },
        "id": "8ZrGYG7E-Qbt",
        "colab": {
          "base_uri": "https://localhost:8080/"
        },
        "outputId": "e9a39810-799e-47d0-beb8-8cac702425ff"
      },
      "source": [
        "result"
      ],
      "execution_count": null,
      "outputs": [
        {
          "output_type": "execute_result",
          "data": {
            "text/plain": [
              "(-3.0337307115598984,\n",
              " 0.10240376398341045,\n",
              " array([-3.94042787, -3.36048387, -3.06132299]))"
            ]
          },
          "metadata": {},
          "execution_count": 40
        }
      ]
    },
    {
      "cell_type": "code",
      "metadata": {
        "pycharm": {
          "name": "#%%\n"
        },
        "id": "oplgcVth-Qbu"
      },
      "source": [
        "score = result[0]\n",
        "pvalue = result[1]\n",
        "score_matrix[1, 1] = score\n",
        "pvalue_matrix[1, 1] = pvalue"
      ],
      "execution_count": null,
      "outputs": []
    },
    {
      "cell_type": "code",
      "metadata": {
        "pycharm": {
          "name": "#%%\n"
        },
        "id": "gUo-3LPX-Qbu",
        "colab": {
          "base_uri": "https://localhost:8080/"
        },
        "outputId": "85a8d643-be9c-4d98-8ea8-79bc23b147f9"
      },
      "source": [
        "score_matrix[1, 1]"
      ],
      "execution_count": null,
      "outputs": [
        {
          "output_type": "execute_result",
          "data": {
            "text/plain": [
              "-3.0337307115598984"
            ]
          },
          "metadata": {},
          "execution_count": 42
        }
      ]
    },
    {
      "cell_type": "code",
      "metadata": {
        "pycharm": {
          "name": "#%%\n"
        },
        "id": "svaG3S_J-Qbu",
        "colab": {
          "base_uri": "https://localhost:8080/"
        },
        "outputId": "1ed18038-cd82-4e44-f68e-98abb4fc233c"
      },
      "source": [
        "score_matrix"
      ],
      "execution_count": null,
      "outputs": [
        {
          "output_type": "execute_result",
          "data": {
            "text/plain": [
              "array([[ 0.        ,  0.        ,  0.        ],\n",
              "       [ 0.        , -3.03373071,  0.        ],\n",
              "       [ 0.        ,  0.        ,  0.        ]])"
            ]
          },
          "metadata": {},
          "execution_count": 43
        }
      ]
    },
    {
      "cell_type": "code",
      "metadata": {
        "pycharm": {
          "name": "#%%\n"
        },
        "id": "xNawndn3-Qbu",
        "colab": {
          "base_uri": "https://localhost:8080/"
        },
        "outputId": "f963de61-26a6-43ad-e0ce-a7cdbee33ba4"
      },
      "source": [
        "pvalue_matrix[1, 1]"
      ],
      "execution_count": null,
      "outputs": [
        {
          "output_type": "execute_result",
          "data": {
            "text/plain": [
              "0.10240376398341045"
            ]
          },
          "metadata": {},
          "execution_count": 44
        }
      ]
    },
    {
      "cell_type": "code",
      "metadata": {
        "pycharm": {
          "name": "#%%\n"
        },
        "id": "crdFPdA--Qbu"
      },
      "source": [
        "pairs = []\n",
        "if pvalue < 0.05:\n",
        "    pairs.append((keys[1], keys[1]))"
      ],
      "execution_count": null,
      "outputs": []
    },
    {
      "cell_type": "code",
      "metadata": {
        "pycharm": {
          "name": "#%%\n"
        },
        "id": "ljsvCxO8-Qbu",
        "colab": {
          "base_uri": "https://localhost:8080/"
        },
        "outputId": "16856a24-ed4c-40f5-eea8-be703cd52c9a"
      },
      "source": [
        "pairs"
      ],
      "execution_count": null,
      "outputs": [
        {
          "output_type": "execute_result",
          "data": {
            "text/plain": [
              "[]"
            ]
          },
          "metadata": {},
          "execution_count": 46
        }
      ]
    },
    {
      "cell_type": "code",
      "metadata": {
        "pycharm": {
          "name": "#%%\n"
        },
        "id": "V-jUuzzQ-Qbv",
        "colab": {
          "base_uri": "https://localhost:8080/"
        },
        "outputId": "3f3758d6-8e8d-4cbd-a996-34617a883f51"
      },
      "source": [
        "prime_numbers = [11, 3, 7, 5, 2]\n",
        "\n",
        "# sort the list\n",
        "prime_numbers.sort(reverse=False)\n",
        "print(prime_numbers)\n",
        "\n",
        "# Output: [2, 3, 5, 7, 11]"
      ],
      "execution_count": null,
      "outputs": [
        {
          "output_type": "stream",
          "name": "stdout",
          "text": [
            "[2, 3, 5, 7, 11]\n"
          ]
        }
      ]
    },
    {
      "cell_type": "code",
      "metadata": {
        "pycharm": {
          "name": "#%%\n"
        },
        "id": "4WSF0Mqj-Qbv",
        "colab": {
          "base_uri": "https://localhost:8080/"
        },
        "outputId": "79a63638-473f-4372-b476-87eb1b8ed7dd"
      },
      "source": [
        "prime_numbers = [(11, 'A'), (3,'B'), (7, 'D'), (5,'H')]\n",
        "\n",
        "# sort the list\n",
        "prime_numbers.sort(reverse=False)\n",
        "prime_numbers"
      ],
      "execution_count": null,
      "outputs": [
        {
          "output_type": "execute_result",
          "data": {
            "text/plain": [
              "[(3, 'B'), (5, 'H'), (7, 'D'), (11, 'A')]"
            ]
          },
          "metadata": {},
          "execution_count": 48
        }
      ]
    },
    {
      "cell_type": "code",
      "metadata": {
        "pycharm": {
          "name": "#%%\n"
        },
        "id": "vwIx-0ZN-Qbw",
        "colab": {
          "base_uri": "https://localhost:8080/",
          "height": 165
        },
        "outputId": "6d9e7a65-b30c-4e18-e67e-f550f81bf56c"
      },
      "source": [
        "a"
      ],
      "execution_count": null,
      "outputs": [
        {
          "output_type": "error",
          "ename": "NameError",
          "evalue": "ignored",
          "traceback": [
            "\u001b[0;31m---------------------------------------------------------------------------\u001b[0m",
            "\u001b[0;31mNameError\u001b[0m                                 Traceback (most recent call last)",
            "\u001b[0;32m<ipython-input-49-3f786850e387>\u001b[0m in \u001b[0;36m<module>\u001b[0;34m()\u001b[0m\n\u001b[0;32m----> 1\u001b[0;31m \u001b[0ma\u001b[0m\u001b[0;34m\u001b[0m\u001b[0;34m\u001b[0m\u001b[0m\n\u001b[0m",
            "\u001b[0;31mNameError\u001b[0m: name 'a' is not defined"
          ]
        }
      ]
    },
    {
      "cell_type": "code",
      "metadata": {
        "pycharm": {
          "name": "#%%\n"
        },
        "id": "kS03idmS-Qbw"
      },
      "source": [
        "def find_cointegrated_pairs_1(data):\n",
        "    n = data.shape[1]\n",
        "    score_matrix = np.zeros((n, n))\n",
        "    pvalue_matrix = np.ones((n, n))\n",
        "    keys = data.keys()\n",
        "    pairs = []\n",
        "    for i in range(n):\n",
        "        for j in range(i+1, n):\n",
        "            S1 = data[keys[i]]\n",
        "            S2 = data[keys[j]]\n",
        "            result = coint(S1, S2)\n",
        "            score = result[0]\n",
        "            pvalue = result[1]\n",
        "            score_matrix[i, j] = score\n",
        "            pvalue_matrix[i, j] = pvalue\n",
        "            if pvalue < 0.05:\n",
        "                pairs.append((pvalue,keys[i], keys[j]))\n",
        "                pairs.sort(reverse=False)\n",
        "    return score_matrix, pvalue_matrix, pairs"
      ],
      "execution_count": null,
      "outputs": []
    },
    {
      "cell_type": "code",
      "metadata": {
        "pycharm": {
          "name": "#%%\n"
        },
        "id": "TeDSoUHO-Qbw",
        "colab": {
          "base_uri": "https://localhost:8080/"
        },
        "outputId": "e5febe6d-5b3c-4914-8c86-c47d3971209b"
      },
      "source": [
        "find_cointegrated_pairs_1(df)[0]"
      ],
      "execution_count": null,
      "outputs": [
        {
          "output_type": "execute_result",
          "data": {
            "text/plain": [
              "array([[ 0.        , -2.13264372, -3.09536319, -0.83018503, -1.4108028 ,\n",
              "        -0.18186361, -0.15631272, -1.94512608, -3.02930535, -1.91116789,\n",
              "        -2.41366455],\n",
              "       [ 0.        ,  0.        , -2.09608946, -1.8430667 , -1.56562464,\n",
              "        -0.92745374, -1.05692783, -2.92992966, -2.65228671, -1.93097943,\n",
              "        -2.32894553],\n",
              "       [ 0.        ,  0.        ,  0.        , -1.09459299, -1.54356043,\n",
              "        -0.74695169, -0.51595608, -2.07665804, -3.45568199, -2.28058359,\n",
              "        -2.06461558],\n",
              "       [ 0.        ,  0.        ,  0.        ,  0.        , -1.28707974,\n",
              "        -1.46123155, -1.58932495, -2.69111235, -1.51409556, -1.18598554,\n",
              "        -1.53148817],\n",
              "       [ 0.        ,  0.        ,  0.        ,  0.        ,  0.        ,\n",
              "        -0.80477292, -0.507198  , -1.34069444, -1.87982323, -2.00538363,\n",
              "        -1.76188712],\n",
              "       [ 0.        ,  0.        ,  0.        ,  0.        ,  0.        ,\n",
              "         0.        , -2.30161676, -2.99492203, -2.7297625 , -2.9767061 ,\n",
              "        -2.46004979],\n",
              "       [ 0.        ,  0.        ,  0.        ,  0.        ,  0.        ,\n",
              "         0.        ,  0.        , -2.57072102, -2.40024197, -2.81405869,\n",
              "        -2.27891776],\n",
              "       [ 0.        ,  0.        ,  0.        ,  0.        ,  0.        ,\n",
              "         0.        ,  0.        ,  0.        , -2.52951499, -2.38965858,\n",
              "        -2.60542494],\n",
              "       [ 0.        ,  0.        ,  0.        ,  0.        ,  0.        ,\n",
              "         0.        ,  0.        ,  0.        ,  0.        , -3.85153092,\n",
              "        -3.08881881],\n",
              "       [ 0.        ,  0.        ,  0.        ,  0.        ,  0.        ,\n",
              "         0.        ,  0.        ,  0.        ,  0.        ,  0.        ,\n",
              "        -1.89868097],\n",
              "       [ 0.        ,  0.        ,  0.        ,  0.        ,  0.        ,\n",
              "         0.        ,  0.        ,  0.        ,  0.        ,  0.        ,\n",
              "         0.        ]])"
            ]
          },
          "metadata": {},
          "execution_count": 51
        }
      ]
    },
    {
      "cell_type": "code",
      "metadata": {
        "id": "_0TNkpUc-Qbw",
        "colab": {
          "base_uri": "https://localhost:8080/",
          "height": 611
        },
        "outputId": "9f260cba-8f77-45be-9fb1-263dc3c6326e"
      },
      "source": [
        "# Heatmap to show the p-values of the cointegration test between each pair of\n",
        "# stocks. Only show the value in the upper-diagonal of the heatmap\n",
        "scores, pvalues, pairs = find_cointegrated_pairs_1(df)\n",
        "import seaborn\n",
        "fig, ax = plt.subplots(figsize=(10,10))\n",
        "seaborn.heatmap(pvalues, xticklabels=tickers, yticklabels=tickers, cmap='RdYlGn_r' \n",
        "                , mask = (pvalues >= 0.05)\n",
        "                )\n",
        "print(pairs)"
      ],
      "execution_count": null,
      "outputs": [
        {
          "output_type": "stream",
          "name": "stdout",
          "text": [
            "[(0.011556162667311326, 'ORCL', 'QCOM'), (0.0365315445991743, 'AMD', 'ORCL')]\n"
          ]
        },
        {
          "output_type": "display_data",
          "data": {
            "image/png": "[encoded data removed]",
            "text/plain": [
              "<Figure size 720x720 with 2 Axes>"
            ]
          },
          "metadata": {}
        }
      ]
    },
    {
      "cell_type": "code",
      "metadata": {
        "pycharm": {
          "name": "#%%\n"
        },
        "id": "S3ZIJM4L-Qbx",
        "colab": {
          "base_uri": "https://localhost:8080/"
        },
        "outputId": "dbf918fc-0dff-43f0-b5d7-15d2b2796cd0"
      },
      "source": [
        "pairs"
      ],
      "execution_count": null,
      "outputs": [
        {
          "output_type": "execute_result",
          "data": {
            "text/plain": [
              "[(0.011556162667311326, 'ORCL', 'QCOM'), (0.0365315445991743, 'AMD', 'ORCL')]"
            ]
          },
          "metadata": {},
          "execution_count": 53
        }
      ]
    },
    {
      "cell_type": "code",
      "metadata": {
        "pycharm": {
          "name": "#%%\n"
        },
        "id": "Zc3JuH0h-Qbx",
        "colab": {
          "base_uri": "https://localhost:8080/",
          "height": 35
        },
        "outputId": "8b1d7eb2-51d1-45b4-c0dc-6b2410115077"
      },
      "source": [
        "pairs[0][1]"
      ],
      "execution_count": null,
      "outputs": [
        {
          "output_type": "execute_result",
          "data": {
            "application/vnd.google.colaboratory.intrinsic+json": {
              "type": "string"
            },
            "text/plain": [
              "'ORCL'"
            ]
          },
          "metadata": {},
          "execution_count": 54
        }
      ]
    },
    {
      "cell_type": "code",
      "metadata": {
        "pycharm": {
          "name": "#%%\n"
        },
        "id": "RaQE7Zgb-Qbx",
        "colab": {
          "base_uri": "https://localhost:8080/"
        },
        "outputId": "e8f7f2d5-2f88-4264-b1a1-16affce9d3d0"
      },
      "source": [
        "S1 = df[pairs[0][1]] # S1 = df['IBM'] # разная коинтеграция\n",
        "S2 = df[pairs[0][2]] # S2 = df['AMD']\n",
        "\n",
        "score, pvalue, _ = coint(S1, S2)\n",
        "pvalue"
      ],
      "execution_count": null,
      "outputs": [
        {
          "output_type": "execute_result",
          "data": {
            "text/plain": [
              "0.011556162667311326"
            ]
          },
          "metadata": {},
          "execution_count": 55
        }
      ]
    },
    {
      "cell_type": "code",
      "metadata": {
        "id": "lQzm77-INQyJ"
      },
      "source": [
        ""
      ],
      "execution_count": null,
      "outputs": []
    },
    {
      "cell_type": "code",
      "metadata": {
        "pycharm": {
          "name": "#%%\n"
        },
        "id": "GrhtegEJ-Qbx",
        "colab": {
          "base_uri": "https://localhost:8080/"
        },
        "outputId": "49b8c66d-2f07-42b0-f611-98ac34e81f3f"
      },
      "source": [
        "S1 = df[pairs[1][1]] # S1 = df['IBM'] # разная коинтеграция\n",
        "S2 = df[pairs[1][2]] # S2 = df['AMD']\n",
        "\n",
        "score, pvalue, _ = coint(S1, S2)\n",
        "pvalue"
      ],
      "execution_count": null,
      "outputs": [
        {
          "output_type": "execute_result",
          "data": {
            "text/plain": [
              "0.0365315445991743"
            ]
          },
          "metadata": {},
          "execution_count": 56
        }
      ]
    },
    {
      "cell_type": "markdown",
      "metadata": {
        "id": "gJmDtN5e-Qby"
      },
      "source": [
        "Our algorithm listed two pairs that are cointegrated: AAPL/EBAY, and ABDE/MSFT. We can analyze their price patterns to make sure there is nothing weird going on."
      ]
    },
    {
      "cell_type": "code",
      "metadata": {
        "id": "B7YrSKL8-Qby",
        "colab": {
          "base_uri": "https://localhost:8080/"
        },
        "outputId": "9ef0e759-04ce-4d35-85ec-6e517bbe85fe"
      },
      "source": [
        "\n",
        "S1 = df['IBM'] # S1 = df['IBM'] # разная коинтеграция\n",
        "S2 = df['AMD'] # S2 = df['AMD']\n",
        "\n",
        "score, pvalue, _ = coint(S1, S2)\n",
        "pvalue"
      ],
      "execution_count": null,
      "outputs": [
        {
          "output_type": "execute_result",
          "data": {
            "text/plain": [
              "0.10240376398341045"
            ]
          },
          "metadata": {},
          "execution_count": 57
        }
      ]
    },
    {
      "cell_type": "code",
      "metadata": {
        "pycharm": {
          "name": "#%%\n"
        },
        "id": "TtixS2Gb-Qby",
        "colab": {
          "base_uri": "https://localhost:8080/",
          "height": 404
        },
        "outputId": "7e015bae-7385-48b2-e589-652749cfe907"
      },
      "source": [
        "df[['AMD', 'ORCL']].plot(figsize=(12,6))\n",
        "# plt.axhline(df.mean(), color='black')"
      ],
      "execution_count": null,
      "outputs": [
        {
          "output_type": "execute_result",
          "data": {
            "text/plain": [
              "<matplotlib.axes._subplots.AxesSubplot at 0x7fa61a7c8810>"
            ]
          },
          "metadata": {},
          "execution_count": 58
        },
        {
          "output_type": "display_data",
          "data": {
            "image/png": "[encoded data removed]",
            "text/plain": [
              "<Figure size 864x432 with 1 Axes>"
            ]
          },
          "metadata": {}
        }
      ]
    },
    {
      "cell_type": "code",
      "metadata": {
        "pycharm": {
          "name": "#%%\n"
        },
        "id": "s61k2o3P-Qby",
        "colab": {
          "base_uri": "https://localhost:8080/"
        },
        "outputId": "183a2bd7-cee6-4f93-8bad-56ffb9c89c64"
      },
      "source": [
        "S1 = df['ADBE']\n",
        "S2 = df['MSFT']\n",
        "\n",
        "score, pvalue, _ = coint(S1, S2)\n",
        "pvalue"
      ],
      "execution_count": null,
      "outputs": [
        {
          "output_type": "execute_result",
          "data": {
            "text/plain": [
              "0.12781468873270108"
            ]
          },
          "metadata": {},
          "execution_count": 59
        }
      ]
    },
    {
      "cell_type": "code",
      "metadata": {
        "pycharm": {
          "name": "#%%\n"
        },
        "id": "mcRcAFbT-Qby",
        "colab": {
          "base_uri": "https://localhost:8080/",
          "height": 402
        },
        "outputId": "bbad89c3-7d16-4fd1-9242-da5ab0920470"
      },
      "source": [
        "df[['ADBE', 'MSFT']].plot(figsize=(12,6))"
      ],
      "execution_count": null,
      "outputs": [
        {
          "output_type": "execute_result",
          "data": {
            "text/plain": [
              "<matplotlib.axes._subplots.AxesSubplot at 0x7fa61b0030d0>"
            ]
          },
          "metadata": {},
          "execution_count": 60
        },
        {
          "output_type": "display_data",
          "data": {
            "image/png": "[encoded data removed]",
            "text/plain": [
              "<Figure size 864x432 with 1 Axes>"
            ]
          },
          "metadata": {}
        }
      ]
    },
    {
      "cell_type": "code",
      "metadata": {
        "pycharm": {
          "name": "#%%\n"
        },
        "id": "PApR7FjS-Qbz",
        "colab": {
          "base_uri": "https://localhost:8080/"
        },
        "outputId": "a1320c55-b136-4de5-d112-1bdc50d88c97"
      },
      "source": [
        "S1"
      ],
      "execution_count": null,
      "outputs": [
        {
          "output_type": "execute_result",
          "data": {
            "text/plain": [
              "Date\n",
              "2020-01-02    334.429993\n",
              "2020-01-03    331.809998\n",
              "2020-01-06    333.709991\n",
              "2020-01-07    333.390015\n",
              "2020-01-08    337.869995\n",
              "                 ...    \n",
              "2020-12-24    499.859985\n",
              "2020-12-28    498.950012\n",
              "2020-12-29    502.109985\n",
              "2020-12-30    497.450012\n",
              "2020-12-31    500.119995\n",
              "Name: ADBE, Length: 253, dtype: float64"
            ]
          },
          "metadata": {},
          "execution_count": 61
        }
      ]
    },
    {
      "cell_type": "markdown",
      "metadata": {
        "id": "7ZNvv7vn-Qbz"
      },
      "source": [
        "As we can see, the p-value is less than 0.05, which means ADBE and MSFT are indeed cointegrated pairs."
      ]
    },
    {
      "cell_type": "markdown",
      "metadata": {
        "id": "Ngd6NoBu-Qbz"
      },
      "source": [
        "#### Calculating the Spread\n",
        "\n",
        "Now we can plot the spread of the two time series. In order to actually calculate the spread, we use a linear regression to get the coefficient for the linear combination to construct between our two securities, as mentioned with the Engle-Granger method before."
      ]
    },
    {
      "cell_type": "code",
      "metadata": {
        "id": "HRQOBVME-Qbz",
        "colab": {
          "base_uri": "https://localhost:8080/",
          "height": 383
        },
        "outputId": "5bdfac23-0127-4f16-e887-5fc1373d20b7"
      },
      "source": [
        "S1 = sm.add_constant(S1)\n",
        "results = sm.OLS(S2, S1).fit()\n",
        "S1 = S1['ADBE']\n",
        "b = results.params['ADBE']\n",
        "\n",
        "spread = S2 - b * S1\n",
        "spread.plot(figsize=(12,6))\n",
        "plt.axhline(spread.mean(), color='black')\n",
        "# needed to change data\n",
        "plt.xlim('2020-01-01', '2021-01-01')\n",
        "plt.legend(['Spread']);"
      ],
      "execution_count": null,
      "outputs": [
        {
          "output_type": "display_data",
          "data": {
            "image/png": "[encoded data removed]",
            "text/plain": [
              "<Figure size 864x432 with 1 Axes>"
            ]
          },
          "metadata": {}
        }
      ]
    },
    {
      "cell_type": "markdown",
      "metadata": {
        "id": "TEOfN0Dh-Qbz"
      },
      "source": [
        "Alternatively, we can examine the ration between the two time series"
      ]
    },
    {
      "cell_type": "code",
      "metadata": {
        "id": "Le_Su1wO-Qbz",
        "colab": {
          "base_uri": "https://localhost:8080/",
          "height": 383
        },
        "outputId": "8510852d-1e0e-4365-b816-c24e56636b13"
      },
      "source": [
        "# start = datetime.datetime(2020, 1, 1)\n",
        "# end = datetime.datetime(2021, 1, 1)\n",
        "ratio = S1/S2\n",
        "ratio.plot(figsize=(12,6))\n",
        "plt.axhline(ratio.mean(), color='black')\n",
        "plt.xlim('2020-01-01', '2021-01-01')\n",
        "plt.legend(['Price Ratio']);"
      ],
      "execution_count": null,
      "outputs": [
        {
          "output_type": "display_data",
          "data": {
            "image/png": "[encoded data removed]",
            "text/plain": [
              "<Figure size 864x432 with 1 Axes>"
            ]
          },
          "metadata": {}
        }
      ]
    },
    {
      "cell_type": "markdown",
      "metadata": {
        "id": "dxLUJasY-Qb0"
      },
      "source": [
        "Regardless of whether or not we use the spread approach or the ratio approach, we can see that our first plot pair ADBE/SYMC tends to move around the mean. We now need to standardize this ratio because the absolute ratio might not be the most ideal way of analyzing this trend. For this, we need to use z-scores.\n",
        "\n",
        "A z-score is the number of standard deviations a datapoint is from the mean. More importantly, the nmber of standard deviations above or below the population mean is from the raw score. The z-score is calculated by the follow:\n",
        "\n",
        "$$\\mathcal{z}_{i}=\\frac{x_{i}-\\bar{x}}{s} $$"
      ]
    },
    {
      "cell_type": "code",
      "metadata": {
        "id": "YGdRHwIa-Qb0",
        "colab": {
          "base_uri": "https://localhost:8080/",
          "height": 383
        },
        "outputId": "c306e066-a75b-4c37-8fda-609bf77cb4aa"
      },
      "source": [
        "def zscore(series):\n",
        "    return (series - series.mean()) / np.std(series)\n",
        "\n",
        "\n",
        "zscore(ratio).plot(figsize=(12,6))\n",
        "plt.axhline(zscore(ratio).mean())\n",
        "plt.axhline(1.0, color='red')\n",
        "plt.axhline(-1.0, color='green')\n",
        "plt.xlim('2020-01-01', '2021-01-01')\n",
        "plt.show()"
      ],
      "execution_count": null,
      "outputs": [
        {
          "output_type": "display_data",
          "data": {
            "image/png": "[encoded data removed]",
            "text/plain": [
              "<Figure size 864x432 with 1 Axes>"
            ]
          },
          "metadata": {}
        }
      ]
    },
    {
      "cell_type": "code",
      "metadata": {
        "pycharm": {
          "name": "#%%\n"
        },
        "id": "FovDp3Yo-Qb0"
      },
      "source": [
        "def zscore(series):\n",
        "    return (series - series.mean()) / np.std(series)"
      ],
      "execution_count": null,
      "outputs": []
    },
    {
      "cell_type": "code",
      "metadata": {
        "pycharm": {
          "name": "#%%\n"
        },
        "id": "tuPssjFy-Qb0",
        "colab": {
          "base_uri": "https://localhost:8080/"
        },
        "outputId": "c892e1bd-23f9-47bb-9447-e46c776e08ef"
      },
      "source": [
        "zscore(ratio)"
      ],
      "execution_count": null,
      "outputs": [
        {
          "output_type": "execute_result",
          "data": {
            "text/plain": [
              "Date\n",
              "2020-01-02   -0.557449\n",
              "2020-01-03   -0.472440\n",
              "2020-01-06   -0.415209\n",
              "2020-01-07   -0.264337\n",
              "2020-01-08   -0.309629\n",
              "                ...   \n",
              "2020-12-24    0.856425\n",
              "2020-12-28    0.628606\n",
              "2020-12-29    0.821691\n",
              "2020-12-30    0.856077\n",
              "2020-12-31    0.895705\n",
              "Length: 253, dtype: float64"
            ]
          },
          "metadata": {},
          "execution_count": 66
        }
      ]
    },
    {
      "cell_type": "code",
      "metadata": {
        "pycharm": {
          "name": "#%%\n"
        },
        "id": "8xVc1-Qk-Qb0"
      },
      "source": [
        ""
      ],
      "execution_count": null,
      "outputs": []
    },
    {
      "cell_type": "markdown",
      "metadata": {
        "id": "N9GDYEvc-Qb0"
      },
      "source": [
        "By setting two other lines placed at the z-score of 1 and -1, we can clearly see that for the most part, any big divergences from the mean eventually converges back. This is exactly what we want for a pairs trading strategy."
      ]
    },
    {
      "cell_type": "markdown",
      "metadata": {
        "id": "Sb36wjFu-Qb1"
      },
      "source": [
        "### Trading Signals\n",
        "\n",
        "When conducting any type of trading strategy, it's always important to clearly define and delineate at what point you will actually do a trade. As in, what is the best indicator that I need to buy or sell a particular stock? \n",
        "\n",
        "#### Setup rules\n",
        "\n",
        "We're going to use the ratio time series that we've created to see if it tells us whether to buy or sell a particular moment in time. We'll start off by creating a prediction variable $Y$. If the ratio is positive, it will signal a \"buy,\" otherwise, it will signal a sell. The prediction model is as follows:\n",
        "\n",
        "$$Y_{t} = sign(Ratio_{t+1}-Ratio_{t}) $$\n",
        "\n",
        "What's great about pair trading signals is that we don't need to know absolutes about where the prices will go, all we need to know is where it's heading: up or down."
      ]
    },
    {
      "cell_type": "markdown",
      "metadata": {
        "id": "uvR2Teyt-Qb1"
      },
      "source": [
        "#### Train Test Split\n",
        "\n",
        "When training and testing a model, it's common to have splits of 70/30 or 80/20. We only used a time series of 252 points (which is the amount of trading days in a year). Before training and splitting the data, we will add more data points in each time series."
      ]
    },
    {
      "cell_type": "code",
      "metadata": {
        "id": "uY07pLh7-Qb1",
        "colab": {
          "base_uri": "https://localhost:8080/"
        },
        "outputId": "600c1c0d-b1f7-4858-e19d-2670f1134797"
      },
      "source": [
        "ratios = df['ADBE'] / df['MSFT'] \n",
        "print(len(ratios) * .70 ) "
      ],
      "execution_count": null,
      "outputs": [
        {
          "output_type": "stream",
          "name": "stdout",
          "text": [
            "177.1\n"
          ]
        }
      ]
    },
    {
      "cell_type": "code",
      "metadata": {
        "colab": {
          "base_uri": "https://localhost:8080/"
        },
        "id": "K5woYQaxyMNx",
        "outputId": "fad4ac02-0af1-4b5c-a83e-3cb802e06f3e"
      },
      "source": [
        "len(ratios)"
      ],
      "execution_count": null,
      "outputs": [
        {
          "output_type": "execute_result",
          "data": {
            "text/plain": [
              "253"
            ]
          },
          "metadata": {},
          "execution_count": 70
        }
      ]
    },
    {
      "cell_type": "code",
      "metadata": {
        "id": "PLlGvfHB-Qb1"
      },
      "source": [
        "train = ratios[:177]\n",
        "test = ratios[177:]"
      ],
      "execution_count": null,
      "outputs": []
    },
    {
      "cell_type": "markdown",
      "metadata": {
        "id": "ZYZmvEBd-Qb3"
      },
      "source": [
        "#### Feature Engineering\n",
        "\n",
        "We need to find out what features are actually important in determining the direction of the ratio moves. Knowing that the ratios always eventually revert back to the mean, maybe the moving averages and metrics related to the mean will be important.\n",
        "\n",
        "Let's try using these features:\n",
        "\n",
        "* 60 day Moving Average of Ratio\n",
        "* 5 day Moving Average of Ratio\n",
        "* 60 day Standard Deviation\n",
        "* z score"
      ]
    },
    {
      "cell_type": "code",
      "metadata": {
        "id": "sQVGRwGz-Qb3",
        "colab": {
          "base_uri": "https://localhost:8080/",
          "height": 377
        },
        "outputId": "880fc5f6-1184-4577-b6a1-b0bdc07fa044"
      },
      "source": [
        "ratios_mavg5 = train.rolling(window=5, center=False).mean()\n",
        "ratios_mavg60 = train.rolling(window=60, center=False).mean()\n",
        "std_60 = train.rolling(window=60, center=False).std()\n",
        "zscore_60_5 = (ratios_mavg5 - ratios_mavg60)/std_60\n",
        "plt.figure(figsize=(12, 6))\n",
        "plt.plot(train.index, train.values)\n",
        "plt.plot(ratios_mavg5.index, ratios_mavg5.values)\n",
        "plt.plot(ratios_mavg60.index, ratios_mavg60.values)\n",
        "plt.legend(['Ratio', '5d Ratio MA', '60d Ratio MA'])\n",
        "\n",
        "plt.ylabel('Ratio')\n",
        "plt.show()"
      ],
      "execution_count": null,
      "outputs": [
        {
          "output_type": "display_data",
          "data": {
            "image/png": "[encoded data removed]",
            "text/plain": [
              "<Figure size 864x432 with 1 Axes>"
            ]
          },
          "metadata": {}
        }
      ]
    },
    {
      "cell_type": "code",
      "metadata": {
        "colab": {
          "base_uri": "https://localhost:8080/"
        },
        "id": "FA-5kGH12wN_",
        "outputId": "eb29667c-73e7-4aeb-d3c9-e4f19b56e6ec"
      },
      "source": [
        "zscore_60_5"
      ],
      "execution_count": null,
      "outputs": [
        {
          "output_type": "execute_result",
          "data": {
            "text/plain": [
              "Date\n",
              "2020-01-02         NaN\n",
              "2020-01-03         NaN\n",
              "2020-01-06         NaN\n",
              "2020-01-07         NaN\n",
              "2020-01-08         NaN\n",
              "                ...   \n",
              "2020-09-08    2.037304\n",
              "2020-09-09    1.816939\n",
              "2020-09-10    1.755337\n",
              "2020-09-11    1.595900\n",
              "2020-09-14    1.652766\n",
              "Length: 177, dtype: float64"
            ]
          },
          "metadata": {},
          "execution_count": 73
        }
      ]
    },
    {
      "cell_type": "code",
      "metadata": {
        "colab": {
          "base_uri": "https://localhost:8080/"
        },
        "id": "jUMht_gc0gDN",
        "outputId": "36c125e2-bf4f-4ffd-c4ec-751ca08f4a86"
      },
      "source": [
        "590/3"
      ],
      "execution_count": null,
      "outputs": [
        {
          "output_type": "execute_result",
          "data": {
            "text/plain": [
              "196.66666666666666"
            ]
          },
          "metadata": {},
          "execution_count": 74
        }
      ]
    },
    {
      "cell_type": "code",
      "metadata": {
        "colab": {
          "base_uri": "https://localhost:8080/"
        },
        "id": "wYF5HqB4zDxb",
        "outputId": "3e12e8cc-cbf4-4bd6-c635-812cbca250ec"
      },
      "source": [
        "train.rolling"
      ],
      "execution_count": null,
      "outputs": [
        {
          "output_type": "execute_result",
          "data": {
            "text/plain": [
              "<bound method NDFrame._add_series_or_dataframe_operations.<locals>.rolling of Date\n",
              "2020-01-02    2.082119\n",
              "2020-01-03    2.091855\n",
              "2020-01-06    2.098409\n",
              "2020-01-07    2.115687\n",
              "2020-01-08    2.110500\n",
              "                ...   \n",
              "2020-09-08    2.280322\n",
              "2020-09-09    2.269203\n",
              "2020-09-10    2.319034\n",
              "2020-09-11    2.310200\n",
              "2020-09-14    2.365562\n",
              "Length: 177, dtype: float64>"
            ]
          },
          "metadata": {},
          "execution_count": 75
        }
      ]
    },
    {
      "cell_type": "code",
      "metadata": {
        "colab": {
          "base_uri": "https://localhost:8080/"
        },
        "id": "qP5L2_TwzHD7",
        "outputId": "9ded86bd-004e-4ef5-cae5-10228807f05e"
      },
      "source": [
        "train"
      ],
      "execution_count": null,
      "outputs": [
        {
          "output_type": "execute_result",
          "data": {
            "text/plain": [
              "Date\n",
              "2020-01-02    2.082119\n",
              "2020-01-03    2.091855\n",
              "2020-01-06    2.098409\n",
              "2020-01-07    2.115687\n",
              "2020-01-08    2.110500\n",
              "                ...   \n",
              "2020-09-08    2.280322\n",
              "2020-09-09    2.269203\n",
              "2020-09-10    2.319034\n",
              "2020-09-11    2.310200\n",
              "2020-09-14    2.365562\n",
              "Length: 177, dtype: float64"
            ]
          },
          "metadata": {},
          "execution_count": 76
        }
      ]
    },
    {
      "cell_type": "code",
      "metadata": {
        "id": "DFcs9V5hyz_c"
      },
      "source": [
        ""
      ],
      "execution_count": null,
      "outputs": []
    },
    {
      "cell_type": "code",
      "metadata": {
        "id": "9CEdq96u-Qb4",
        "colab": {
          "base_uri": "https://localhost:8080/",
          "height": 383
        },
        "outputId": "5678375f-68ba-463c-c61e-f21f006ebe5f"
      },
      "source": [
        "plt.figure(figsize=(12,6))\n",
        "zscore_60_5.plot()\n",
        "plt.xlim('2020-01-01', '2021-01-01')\n",
        "plt.axhline(0, color='black')\n",
        "plt.axhline(1.0, color='red', linestyle='--')\n",
        "plt.axhline(-1.0, color='green', linestyle='--')\n",
        "plt.legend(['Rolling Ratio z-Score', 'Mean', '+1', '-1'])\n",
        "plt.show()"
      ],
      "execution_count": null,
      "outputs": [
        {
          "output_type": "display_data",
          "data": {
            "image/png": "[encoded data removed]",
            "text/plain": [
              "<Figure size 864x432 with 1 Axes>"
            ]
          },
          "metadata": {}
        }
      ]
    },
    {
      "cell_type": "markdown",
      "metadata": {
        "id": "-pdlnINz-Qb4"
      },
      "source": [
        "#### Creating a Model\n",
        "\n",
        "A standard normal distribution has a mean of 0 and a standard deviation 1. Looking at the plot, it's pretty clear that if the time series moves 1 standard deviation beyond the mean, it tends to revert back towards the mean. Using these models, we can create the following trading signals:\n",
        "\n",
        "* Buy(1) whenever the z-score is below -1, meaning we expect the ratio to increase.\n",
        "* Sell(-1) whenever the z-score is above 1, meaning we expect the ratio to decrease."
      ]
    },
    {
      "cell_type": "markdown",
      "metadata": {
        "id": "99jVxOfy-Qb4"
      },
      "source": [
        "#### Training Optimizing\n",
        "\n",
        "We can use our model on actual data"
      ]
    },
    {
      "cell_type": "code",
      "metadata": {
        "id": "ZzWCZk5x-Qb4",
        "colab": {
          "base_uri": "https://localhost:8080/",
          "height": 383
        },
        "outputId": "66eb88fd-3eb5-404c-c7d6-0520300386eb"
      },
      "source": [
        "plt.figure(figsize=(12,6))\n",
        "\n",
        "train[60:].plot()\n",
        "buy = train.copy()\n",
        "sell = train.copy()\n",
        "buy[zscore_60_5>-1] = 0\n",
        "sell[zscore_60_5<1] = 0\n",
        "buy[60:].plot(color='g', linestyle='None', marker='^')\n",
        "sell[60:].plot(color='r', linestyle='None', marker='^')\n",
        "x1, x2, y1, y2 = plt.axis()\n",
        "plt.axis((x1, x2, ratios.min(), ratios.max()))\n",
        "plt.xlim('2020-01-01', '2021-01-01')\n",
        "plt.legend(['Ratio', 'Buy Signal', 'Sell Signal'])\n",
        "plt.show()"
      ],
      "execution_count": null,
      "outputs": [
        {
          "output_type": "display_data",
          "data": {
            "image/png": "[encoded data removed]",
            "text/plain": [
              "<Figure size 864x432 with 1 Axes>"
            ]
          },
          "metadata": {}
        }
      ]
    },
    {
      "cell_type": "code",
      "metadata": {
        "id": "vJN_CajV-Qb5",
        "colab": {
          "base_uri": "https://localhost:8080/",
          "height": 436
        },
        "outputId": "5b736e2c-613c-41e2-f365-762928d7a4b4"
      },
      "source": [
        "plt.figure(figsize=(12,7))\n",
        "S1 = df['ADBE'].iloc[60:177] # 177\n",
        "S2 = df['MSFT'].iloc[60:177]\n",
        "\n",
        "S1[60:].plot(color='b')\n",
        "S2[60:].plot(color='y')\n",
        "buyR = 0*S1.copy()\n",
        "sellR = 0*S1.copy()\n",
        "\n",
        "# When you buy the ratio, you buy stock S1 and sell S2\n",
        "buyR[buy!=0] = S1[buy!=0]\n",
        "sellR[buy!=0] = S2[buy!=0]\n",
        "\n",
        "# When you sell the ratio, you sell stock S1 and buy S2\n",
        "buyR[sell!=0] = S2[sell!=0]\n",
        "sellR[sell!=0] = S1[sell!=0]\n",
        "\n",
        "buyR[60:].plot(color='g', linestyle='None', marker='^')\n",
        "sellR[60:].plot(color='r', linestyle='None', marker='^')\n",
        "x1, x2, y1, y2 = plt.axis()\n",
        "plt.axis((x1, x2, min(S1.min(), S2.min()), max(S1.max(), S2.max())))\n",
        "plt.ylim(100, 600)\n",
        "plt.xlim('2020-01-01', '2021-01-01')\n",
        "\n",
        "plt.legend(['ADBE', 'MSFT', 'Buy Signal', 'Sell Signal'])\n",
        "plt.show()"
      ],
      "execution_count": null,
      "outputs": [
        {
          "output_type": "display_data",
          "data": {
            "image/png": "[encoded data removed]",
            "text/plain": [
              "<Figure size 864x504 with 1 Axes>"
            ]
          },
          "metadata": {}
        }
      ]
    },
    {
      "cell_type": "markdown",
      "metadata": {
        "id": "Lwob1wTK-Qb5"
      },
      "source": [
        "Now we can clearly see when we should buy or sell on the respective stocks.\n",
        "\n",
        "Now, how much can we expect to make of this strategy?"
      ]
    },
    {
      "cell_type": "code",
      "metadata": {
        "id": "Pq0dS0ap-Qb5"
      },
      "source": [
        "# Trade using a simple strategy\n",
        "def trade(S1, S2, window1, window2):\n",
        "    \n",
        "    # If window length is 0, algorithm doesn't make sense, so exit\n",
        "    if (window1 == 0) or (window2 == 0):\n",
        "        return 0\n",
        "    \n",
        "    # Compute rolling mean and rolling standard deviation\n",
        "    ratios = S1/S2\n",
        "    ma1 = ratios.rolling(window=window1,\n",
        "                               center=False).mean()\n",
        "    ma2 = ratios.rolling(window=window2,\n",
        "                               center=False).mean()\n",
        "    std = ratios.rolling(window=window2,\n",
        "                        center=False).std()\n",
        "    zscore = (ma1 - ma2)/std\n",
        "    \n",
        "    # Simulate trading\n",
        "    # Start with no money and no positions\n",
        "    money = 0\n",
        "    countS1 = 0\n",
        "    countS2 = 0\n",
        "    for i in range(len(ratios)):\n",
        "        # Sell short if the z-score is > 1\n",
        "        if zscore[i] < -1:\n",
        "            money += S1[i] - S2[i] * ratios[i]\n",
        "            countS1 -= 1\n",
        "            countS2 += ratios[i]\n",
        "            print('Selling Ratio %s %s %s %s %s'%(i ,money, ratios[i], countS1,countS2))\n",
        "        # Buy long if the z-score is < -1\n",
        "        elif zscore[i] > 1:\n",
        "            money -= S1[i] - S2[i] * ratios[i]\n",
        "            countS1 += 1\n",
        "            countS2 -= ratios[i]\n",
        "            print('Buying Ratio %s %s %s %s %s'%(i,money,ratios[i], countS1,countS2))\n",
        "        # Clear positions if the z-score between -.5 and .5\n",
        "        elif abs(zscore[i]) < 0.75:\n",
        "            money += S1[i] * countS1 + S2[i] * countS2\n",
        "            countS1 = 0\n",
        "            countS2 = 0\n",
        "            print('Exit pos %s %s %s %s %s'%(i,money,ratios[i], countS1,countS2))\n",
        "            \n",
        "            \n",
        "    return money"
      ],
      "execution_count": null,
      "outputs": []
    },
    {
      "cell_type": "code",
      "metadata": {
        "id": "QV69fGUb-Qb6",
        "colab": {
          "base_uri": "https://localhost:8080/"
        },
        "outputId": "1c8d7aef-1ea3-45bf-ae01-8fe2ef93cdc1"
      },
      "source": [
        "trade(df['ADBE'].iloc[60:177], df['EBAY'].iloc[60:177], 60, 5)"
      ],
      "execution_count": null,
      "outputs": [
        {
          "output_type": "stream",
          "name": "stdout",
          "text": [
            "Exit pos 60 0.0 8.85134280549432 0 0\n",
            "Exit pos 61 0.0 8.845141674299922 0 0\n",
            "Exit pos 62 0.0 8.389074838829226 0 0\n",
            "Exit pos 63 0.0 8.26739428675683 0 0\n",
            "Buying Ratio 65 0.0 8.304569583868094 1 -8.304569583868094\n",
            "Buying Ratio 66 0.0 8.148454879205465 2 -16.45302446307356\n",
            "Buying Ratio 67 0.0 8.057504203162212 3 -24.51052866623577\n",
            "Buying Ratio 68 0.0 7.883508514939693 4 -32.39403718117546\n",
            "Buying Ratio 69 0.0 7.854470380646817 5 -40.24850756182228\n",
            "Buying Ratio 70 0.0 7.781830240435429 6 -48.030337802257705\n",
            "Buying Ratio 71 0.0 7.865699487200941 7 -55.89603728945865\n",
            "Buying Ratio 72 0.0 7.589536998474448 8 -63.4855742879331\n",
            "Buying Ratio 73 0.0 7.342247551375086 9 -70.82782183930819\n",
            "Buying Ratio 74 0.0 7.415824872270685 10 -78.24364671157888\n",
            "Buying Ratio 75 0.0 7.268371653099179 11 -85.51201836467806\n",
            "Buying Ratio 76 0.0 7.438844064720311 12 -92.95086242939837\n",
            "Buying Ratio 77 0.0 7.786385830490959 13 -100.73724825988933\n",
            "Buying Ratio 78 0.0 7.850856999140328 14 -108.58810525902966\n",
            "Buying Ratio 79 0.0 7.899360784302839 15 -116.4874660433325\n",
            "Buying Ratio 80 0.0 7.828467421379541 16 -124.31593346471205\n",
            "Buying Ratio 81 0.0 7.806785302923441 17 -132.1227187676355\n",
            "Buying Ratio 82 0.0 7.637602823689197 18 -139.7603215913247\n",
            "Buying Ratio 83 0.0 7.670985296727944 19 -147.43130688805263\n",
            "Buying Ratio 84 5.684341886080802e-14 8.001100267007828 20 -155.43240715506045\n",
            "Buying Ratio 85 5.684341886080802e-14 8.020467746568027 21 -163.45287490162846\n",
            "Buying Ratio 86 5.684341886080802e-14 8.037626938056713 22 -171.49050183968518\n",
            "Buying Ratio 87 5.684341886080802e-14 7.918861651712001 23 -179.4093634913972\n",
            "Buying Ratio 88 5.684341886080802e-14 7.933960569860087 24 -187.34332406125728\n",
            "Buying Ratio 89 5.684341886080802e-14 7.933462954044748 25 -195.27678701530203\n",
            "Exit pos 91 458.01895077188243 8.142909161008419 0 0\n",
            "Exit pos 92 458.01895077188243 8.153209807862599 0 0\n",
            "Exit pos 93 458.01895077188243 8.016761901763923 0 0\n",
            "Exit pos 94 458.01895077188243 8.025950114980567 0 0\n",
            "Buying Ratio 95 458.01895077188243 7.9960909519283065 1 -7.9960909519283065\n",
            "Buying Ratio 96 458.01895077188243 7.951678785282222 2 -15.947769737210528\n",
            "Buying Ratio 97 458.01895077188243 7.874106339794218 3 -23.821876077004745\n",
            "Buying Ratio 98 458.0189507718824 8.127477111815915 4 -31.94935318882066\n",
            "Buying Ratio 99 458.01895077188243 8.005718542628301 5 -39.95507173144896\n",
            "Exit pos 100 546.6095757648359 8.298300594043502 0 0\n",
            "Exit pos 101 546.6095757648359 8.129531157249806 0 0\n",
            "Exit pos 102 546.6095757648359 8.10309625186192 0 0\n",
            "Exit pos 103 546.6095757648359 8.34504735646076 0 0\n",
            "Exit pos 104 546.6095757648359 9.021679305482875 0 0\n",
            "Selling Ratio 106 546.6095757648359 9.516123052980852 -1 9.516123052980852\n",
            "Selling Ratio 107 546.6095757648359 9.371851516770462 -2 18.887974569751314\n",
            "Selling Ratio 108 546.6095757648359 9.840633684835337 -3 28.728608254586653\n",
            "Selling Ratio 109 546.6095757648359 9.689598589843046 -4 38.4182068444297\n",
            "Selling Ratio 110 546.6095757648359 9.552294756405818 -5 47.97050160083552\n",
            "Selling Ratio 111 546.6095757648359 9.363151767590118 -6 57.33365336842564\n",
            "Selling Ratio 112 546.6095757648359 8.968174186498947 -7 66.30182755492459\n",
            "Selling Ratio 113 546.6095757648359 8.971931208386053 -8 75.27375876331064\n",
            "Selling Ratio 114 546.6095757648359 9.102828985924846 -9 84.37658774923548\n",
            "Selling Ratio 115 546.6095757648359 8.93215846152545 -10 93.30874621076093\n",
            "Selling Ratio 116 546.6095757648359 9.290822385285743 -11 102.59956859604668\n"
          ]
        },
        {
          "output_type": "execute_result",
          "data": {
            "text/plain": [
              "546.6095757648359"
            ]
          },
          "metadata": {},
          "execution_count": 165
        }
      ]
    },
    {
      "cell_type": "code",
      "metadata": {
        "colab": {
          "base_uri": "https://localhost:8080/"
        },
        "id": "D_964FFpq5tM",
        "outputId": "0db8f15e-9561-4e92-aa51-3394dde92244"
      },
      "source": [
        "len(df['ADBE'])"
      ],
      "execution_count": null,
      "outputs": [
        {
          "output_type": "execute_result",
          "data": {
            "text/plain": [
              "253"
            ]
          },
          "metadata": {},
          "execution_count": 136
        }
      ]
    },
    {
      "cell_type": "code",
      "metadata": {
        "colab": {
          "base_uri": "https://localhost:8080/"
        },
        "id": "-2_erXACq-zq",
        "outputId": "d46dc772-9ce1-4241-9a8f-be071b23c132"
      },
      "source": [
        "len(ratios)"
      ],
      "execution_count": null,
      "outputs": [
        {
          "output_type": "execute_result",
          "data": {
            "text/plain": [
              "177"
            ]
          },
          "metadata": {},
          "execution_count": 139
        }
      ]
    },
    {
      "cell_type": "code",
      "metadata": {
        "colab": {
          "base_uri": "https://localhost:8080/"
        },
        "id": "3xQ3LdfCjsro",
        "outputId": "375a493c-e002-4874-b9a8-ff89a6e8d1ed"
      },
      "source": [
        "df['ADBE']/df['EBAY']"
      ],
      "execution_count": null,
      "outputs": [
        {
          "output_type": "execute_result",
          "data": {
            "text/plain": [
              "Date\n",
              "2020-01-02    9.212948\n",
              "2020-01-03    9.227197\n",
              "2020-01-06    9.326719\n",
              "2020-01-07    9.359630\n",
              "2020-01-08    9.490731\n",
              "                ...   \n",
              "2020-12-24    9.973264\n",
              "2020-12-28    9.931330\n",
              "2020-12-29    9.872394\n",
              "2020-12-30    9.840752\n",
              "2020-12-31    9.952637\n",
              "Length: 253, dtype: float64"
            ]
          },
          "metadata": {},
          "execution_count": 95
        }
      ]
    },
    {
      "cell_type": "code",
      "metadata": {
        "colab": {
          "base_uri": "https://localhost:8080/"
        },
        "id": "uEZnvSBBkOcM",
        "outputId": "d4d52553-91da-41a5-d652-37be997584bc"
      },
      "source": [
        "ratios = S1/S2\n",
        "ratios"
      ],
      "execution_count": null,
      "outputs": [
        {
          "output_type": "execute_result",
          "data": {
            "text/plain": [
              "Date\n",
              "2020-01-02    2.082119\n",
              "2020-01-03    2.091855\n",
              "2020-01-06    2.098409\n",
              "2020-01-07    2.115687\n",
              "2020-01-08    2.110500\n",
              "                ...   \n",
              "2020-09-08    2.280322\n",
              "2020-09-09    2.269203\n",
              "2020-09-10    2.319034\n",
              "2020-09-11    2.310200\n",
              "2020-09-14    2.365562\n",
              "Length: 177, dtype: float64"
            ]
          },
          "metadata": {},
          "execution_count": 102
        }
      ]
    },
    {
      "cell_type": "code",
      "metadata": {
        "colab": {
          "base_uri": "https://localhost:8080/"
        },
        "id": "iD7ma1n4lCuy",
        "outputId": "44922f07-1959-4c44-eb0e-c873b52b0c81"
      },
      "source": [
        "ma1 = ratios.rolling(window=window1,\n",
        "                               center=False).mean()\n",
        "ma1"
      ],
      "execution_count": null,
      "outputs": [
        {
          "output_type": "execute_result",
          "data": {
            "text/plain": [
              "Date\n",
              "2020-01-02         NaN\n",
              "2020-01-03         NaN\n",
              "2020-01-06         NaN\n",
              "2020-01-07         NaN\n",
              "2020-01-08    2.099714\n",
              "                ...   \n",
              "2020-09-08    2.308126\n",
              "2020-09-09    2.297366\n",
              "2020-09-10    2.300305\n",
              "2020-09-11    2.294972\n",
              "2020-09-14    2.308864\n",
              "Length: 177, dtype: float64"
            ]
          },
          "metadata": {},
          "execution_count": 104
        }
      ]
    },
    {
      "cell_type": "code",
      "metadata": {
        "id": "UQWrh9H6lNJT"
      },
      "source": [
        "    ma2 = ratios.rolling(window=window2,\n",
        "                               center=False).mean()\n",
        "    std = ratios.rolling(window=window2,\n",
        "                        center=False).std()\n",
        "    zscore = (ma1 - ma2)/std\n",
        "    \n",
        "    # Simulate trading\n",
        "    # Start with no money and no positions\n",
        "    money = 0\n",
        "    countS1 = 0\n",
        "    countS2 = 0\n",
        "    for i in range(len(ratios[0:145])):\n",
        "        # Sell short if the z-score is > 1\n",
        "        if zscore[i] < -1:\n",
        "            money += S1[i] - S2[i] * ratios[i]\n",
        "            countS1 -= 1\n",
        "            countS2 += ratios[i]\n",
        "            print('Selling Ratio %s %s %s %s'%(money, ratios[i], countS1,countS2))\n",
        "        # Buy long if the z-score is < -1\n",
        "        elif zscore[i] > 1:\n",
        "            money -= S1[i] - S2[i] * ratios[i]\n",
        "            countS1 += 1\n",
        "            countS2 -= ratios[i]\n",
        "            print('Buying Ratio %s %s %s %s'%(money,ratios[i], countS1,countS2))\n",
        "        # Clear positions if the z-score between -.5 and .5\n",
        "        elif abs(zscore[i]) < 0.75:\n",
        "            money += S1[i] * countS1 + S2[i] * countS2\n",
        "            countS1 = 0\n",
        "            countS2 = 0\n",
        "            print('Exit pos %s %s %s %s'%(money,ratios[i], countS1,countS2))\n",
        "            "
      ],
      "execution_count": null,
      "outputs": []
    },
    {
      "cell_type": "code",
      "metadata": {
        "colab": {
          "base_uri": "https://localhost:8080/"
        },
        "id": "JRGZpnetpHXW",
        "outputId": "30f993df-b7f2-49f4-879f-9bd151988e82"
      },
      "source": [
        "ratios[:5]"
      ],
      "execution_count": null,
      "outputs": [
        {
          "output_type": "execute_result",
          "data": {
            "text/plain": [
              "Date\n",
              "2020-01-02    2.082119\n",
              "2020-01-03    2.091855\n",
              "2020-01-06    2.098409\n",
              "2020-01-07    2.115687\n",
              "2020-01-08    2.110500\n",
              "dtype: float64"
            ]
          },
          "metadata": {},
          "execution_count": 130
        }
      ]
    },
    {
      "cell_type": "markdown",
      "metadata": {
        "id": "RzYahqpq-Qb6"
      },
      "source": [
        "Not a bad profit for a strategy that is made from stratch."
      ]
    },
    {
      "cell_type": "markdown",
      "metadata": {
        "id": "6uuRpq7H-Qb6"
      },
      "source": [
        "### Areas of Improvement and Further Steps\n",
        "\n",
        "This is by no means a perfect strategy and the implementation of our strategy isn't the best. However, there are several things that can be improved upon.\n",
        "\n",
        "#### 1. Using more securities and more varied time ranges\n",
        "\n",
        "For the pairs trading strategy cointegration test, I only used a handful of stocks. Naturally (and in practice) it would be more effective to use clusters within an industry. I only use the time range of only 5 years, which may not be representative of stock market volatility.\n",
        "\n",
        "#### 2. Dealing with overfitting\n",
        "\n",
        "Anything related to data analysis and training models has much to do with the problem of overfitting. There are many different ways to deal with overfitting like validation, such as Kalman filters, and other statistical methods.\n",
        "\n",
        "#### 3. Adjusting the trading signals\n",
        "\n",
        "Our trading algorithm fails to account for stock prices that overlap and cross each other. Considering that the code only calls for a buy or sell given its ratio, it doesn't take into account which stock is actually higher or lower.\n",
        "\n",
        "#### 4. More advanced methods\n",
        "\n",
        "This is just the tip of the iceberg of what you can do with algorithmic pairs trading. It's simple because it only deals with moving averages and ratios. If you want to use more complicated statistics, feel free to do so. Other complex examples include subjects such as the Hurst exponent, half-life mean reversion, and Kalman Filters."
      ]
    }
  ]
}